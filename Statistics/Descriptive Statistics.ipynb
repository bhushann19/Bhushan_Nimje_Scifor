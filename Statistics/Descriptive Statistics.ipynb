{
 "cells": [
  {
   "cell_type": "markdown",
   "id": "16b7122f",
   "metadata": {},
   "source": [
    "## Descriptive Statistics"
   ]
  },
  {
   "cell_type": "markdown",
   "id": "b6c4e576",
   "metadata": {},
   "source": [
    "Descriptive statistics are used to summarize and describe the main features of a dataset. Here, we'll discuss several key measures:"
   ]
  },
  {
   "cell_type": "markdown",
   "id": "70d5ff94",
   "metadata": {},
   "source": [
    "### 1. Mean"
   ]
  },
  {
   "cell_type": "markdown",
   "id": "64716bee",
   "metadata": {},
   "source": [
    "We use np.mean(data) to calculate the average value of the dataset."
   ]
  },
  {
   "cell_type": "code",
   "execution_count": null,
   "id": "b57d816c",
   "metadata": {},
   "outputs": [],
   "source": [
    "import numpy as np\n",
    "mean = np.mean(data)"
   ]
  },
  {
   "cell_type": "markdown",
   "id": "bbab8d5f",
   "metadata": {},
   "source": [
    "### 2. Median"
   ]
  },
  {
   "cell_type": "markdown",
   "id": "1f9d5bb2",
   "metadata": {},
   "source": [
    "The middle value of a set of numbers when they are arranged in ascending or descending order. If the count of numbers is even, the median is the average of the two middle numbers.\n",
    "We use np.median(data) to find the middle value of the dataset."
   ]
  },
  {
   "cell_type": "code",
   "execution_count": null,
   "id": "02f59883",
   "metadata": {},
   "outputs": [],
   "source": [
    "median = np.median(data)"
   ]
  },
  {
   "cell_type": "markdown",
   "id": "7c72f4c2",
   "metadata": {},
   "source": [
    "### 3. Mode"
   ]
  },
  {
   "cell_type": "markdown",
   "id": "c0d14e06",
   "metadata": {},
   "source": [
    "The most frequently occurring value in a set of numbers.\n",
    "We use stats.mode(data) from the SciPy library to determine the most frequently occurring value."
   ]
  },
  {
   "cell_type": "code",
   "execution_count": null,
   "id": "23da6cb1",
   "metadata": {},
   "outputs": [],
   "source": [
    "mode = stats.mode(data)"
   ]
  },
  {
   "cell_type": "markdown",
   "id": "da329667",
   "metadata": {},
   "source": [
    "### 4. Variance"
   ]
  },
  {
   "cell_type": "markdown",
   "id": "f2252865",
   "metadata": {},
   "source": [
    "A measure of the spread of the numbers. It is the average of the squared differences from the mean.\n",
    "We use np.var(data) to compute the average of the squared differences from the mean."
   ]
  },
  {
   "cell_type": "code",
   "execution_count": null,
   "id": "62efa03e",
   "metadata": {},
   "outputs": [],
   "source": [
    "variance = np.var(data)"
   ]
  },
  {
   "cell_type": "markdown",
   "id": "3af68958",
   "metadata": {},
   "source": [
    "### 5. Standard Deviation"
   ]
  },
  {
   "cell_type": "markdown",
   "id": "669d190a",
   "metadata": {},
   "source": [
    "The square root of the variance, indicating how much the numbers deviate from the mean. We use np.std(data) to calculate the square root of the variance."
   ]
  },
  {
   "cell_type": "code",
   "execution_count": null,
   "id": "108b933f",
   "metadata": {},
   "outputs": [],
   "source": [
    "std_dev = np.std(data)"
   ]
  },
  {
   "cell_type": "markdown",
   "id": "ac600dcd",
   "metadata": {},
   "source": [
    "### 6. Percentiles "
   ]
  },
  {
   "cell_type": "markdown",
   "id": "f2d8bce6",
   "metadata": {},
   "source": [
    "Values below which a certain percent of observations fall. For example, the 25th percentile is the value below which 25% of the observations may be found. We use np.percentile(data, 25) and np.percentile(data, 75) to find the 25th and 75th percentiles, respectively. The interquartile range (IQR) is the difference between these two percentiles."
   ]
  },
  {
   "cell_type": "code",
   "execution_count": null,
   "id": "aea41c13",
   "metadata": {},
   "outputs": [],
   "source": [
    "percentile_25 = np.percentile(data, 25)\n",
    "percentile_75 = np.percentile(data, 75)\n",
    "iqr = percentile_75 - percentile_25"
   ]
  },
  {
   "cell_type": "markdown",
   "id": "5c0a8288",
   "metadata": {},
   "source": [
    "## Example"
   ]
  },
  {
   "cell_type": "code",
   "execution_count": 3,
   "id": "bae3e97e",
   "metadata": {},
   "outputs": [
    {
     "name": "stdout",
     "output_type": "stream",
     "text": [
      "Mean: 50.28998083733488\n",
      "\n",
      "\n",
      "Median: 50.379509183523325\n",
      "\n",
      "\n",
      "Mode: 1.380989898963911 with count 1\n",
      "\n",
      "\n",
      "Variance: 215.52862268959137\n",
      "\n",
      "\n",
      "Standard Deviation: 14.680893116210314\n",
      "\n",
      "\n",
      "25th Percentile: 40.28614541806473\n",
      "75th Percentile: 59.71915813209395\n",
      "\n",
      "\n",
      "Interquartile Range (IQR): 19.433012714029225\n"
     ]
    },
    {
     "name": "stderr",
     "output_type": "stream",
     "text": [
      "/var/folders/83/zjjd7vbn6z73p2j6fd_52hz40000gn/T/ipykernel_1549/3651260312.py:19: FutureWarning: Unlike other reduction functions (e.g. `skew`, `kurtosis`), the default behavior of `mode` typically preserves the axis it acts along. In SciPy 1.11.0, this behavior will change: the default value of `keepdims` will become False, the `axis` over which the statistic is taken will be eliminated, and the value None will no longer be accepted. Set `keepdims` to True or False to avoid this warning.\n",
      "  mode = stats.mode(data)\n"
     ]
    }
   ],
   "source": [
    "import numpy as np\n",
    "from scipy import stats\n",
    "\n",
    "# Generate some random data\n",
    "np.random.seed(42)\n",
    "data = np.random.normal(loc=50, scale=15, size=1000)  # Normally distributed data\n",
    "\n",
    "# Mean: The average of a set of numbers\n",
    "mean = np.mean(data)\n",
    "print(f'Mean: {mean}')\n",
    "print('\\n')\n",
    "\n",
    "# Median: The middle value of a set of numbers\n",
    "median = np.median(data)\n",
    "print(f'Median: {median}')\n",
    "print('\\n')\n",
    "\n",
    "# Mode: The most frequently occurring value in a set\n",
    "mode = stats.mode(data)\n",
    "print(f'Mode: {mode.mode[0]} with count {mode.count[0]}')\n",
    "print('\\n')\n",
    "\n",
    "# Variance: A measure of the spread of the numbers\n",
    "variance = np.var(data)\n",
    "print(f'Variance: {variance}')\n",
    "print('\\n')\n",
    "\n",
    "# Standard Deviation: The square root of the variance\n",
    "std_dev = np.std(data)\n",
    "print(f'Standard Deviation: {std_dev}')\n",
    "print('\\n')\n",
    "\n",
    "# Percentiles: Values below which a certain percent of observations fall\n",
    "percentile_25 = np.percentile(data, 25)\n",
    "percentile_75 = np.percentile(data, 75)\n",
    "print(f'25th Percentile: {percentile_25}')\n",
    "print(f'75th Percentile: {percentile_75}')\n",
    "print('\\n')\n",
    "\n",
    "# Example of using percentiles to determine interquartile range (IQR)\n",
    "iqr = percentile_75 - percentile_25\n",
    "print(f'Interquartile Range (IQR): {iqr}')"
   ]
  },
  {
   "cell_type": "code",
   "execution_count": null,
   "id": "a5239f27",
   "metadata": {},
   "outputs": [],
   "source": []
  }
 ],
 "metadata": {
  "kernelspec": {
   "display_name": "Python 3 (ipykernel)",
   "language": "python",
   "name": "python3"
  },
  "language_info": {
   "codemirror_mode": {
    "name": "ipython",
    "version": 3
   },
   "file_extension": ".py",
   "mimetype": "text/x-python",
   "name": "python",
   "nbconvert_exporter": "python",
   "pygments_lexer": "ipython3",
   "version": "3.9.18"
  }
 },
 "nbformat": 4,
 "nbformat_minor": 5
}
