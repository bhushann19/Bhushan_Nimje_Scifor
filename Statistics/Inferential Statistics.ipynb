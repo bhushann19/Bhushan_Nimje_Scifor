{
 "cells": [
  {
   "cell_type": "markdown",
   "id": "cdc429f2",
   "metadata": {},
   "source": [
    "### 1. Hypothesis Testing"
   ]
  },
  {
   "cell_type": "markdown",
   "id": "a281b528",
   "metadata": {},
   "source": [
    "Hypothesis testing is a fundamental statistical technique used to make inferences about population parameters based on sample data. It involves evaluating two competing hypotheses about the population parameter of interest: the null hypothesis and the alternative hypothesis. The process aims to determine whether the observed data provide enough evidence to reject the null hypothesis in favor of the alternative hypothesis."
   ]
  },
  {
   "cell_type": "markdown",
   "id": "8a97e2ad",
   "metadata": {},
   "source": [
    "Key Concepts in Hypothesis Testing:-\n",
    "\n",
    "* Null Hypothesis (H0): This is the default assumption about the population parameter. It typically represents the status quo or the absence of an effect. It is denoted as H0.\n",
    "\n",
    "* Alternative Hypothesis (Ha or H1): This is the hypothesis that contradicts the null hypothesis. It represents the researcher's claim or the presence of an effect. It is denoted as Ha or H1.\n",
    "\n",
    "* Test Statistic: A statistic calculated from sample data that measures the discrepancy between the observed data and what is expected under the null hypothesis.\n",
    "\n",
    "* Significance Level (α): This is the probability of rejecting the null hypothesis when it is actually true. Commonly used significance levels are 0.05 (5%) and 0.01 (1%).\n",
    "\n",
    "* Critical Region: The set of values of the test statistic for which the null hypothesis will be rejected. It is determined based on the significance level and the sampling distribution of the test statistic.\n",
    "\n",
    "* P-value: The probability of observing a test statistic as extreme as, or more extreme than, the one observed, under the assumption that the null hypothesis is true. A small p-value indicates strong evidence against the null hypothesis."
   ]
  },
  {
   "cell_type": "markdown",
   "id": "9fe14048",
   "metadata": {},
   "source": [
    "### 2. P-Value"
   ]
  },
  {
   "cell_type": "markdown",
   "id": "b4f52ee2",
   "metadata": {},
   "source": [
    "The p-value, or probability value, is a crucial concept in hypothesis testing that quantifies the strength of evidence against the null hypothesis. It measures the probability of observing a test statistic as extreme as, or more extreme than, the one observed in the sample data, under the assumption that the null hypothesis is true."
   ]
  },
  {
   "cell_type": "markdown",
   "id": "853a7a4a",
   "metadata": {},
   "source": [
    "Key Points about P-value:-\n",
    "\n",
    "* Interpretation: A small p-value indicates strong evidence against the null hypothesis, suggesting that the observed data are unlikely to have occurred if the null hypothesis were true. Conversely, a large p-value suggests weak evidence against the null hypothesis, indicating that the observed data are reasonably likely under the null hypothesis.\n",
    "\n",
    "* Threshold: The significance level (α) is typically set in advance, commonly at 0.05 (5%) or 0.01 (1%). If the p-value is less than or equal to the significance level, the null hypothesis is rejected; otherwise, it is not rejected.\n",
    "\n",
    "* Continuous Scale: The p-value ranges between 0 and 1. A p-value of 0 indicates that the observed data are incompatible with the null hypothesis, while a p-value of 1 indicates perfect compatibility with the null hypothesis.\n",
    "\n",
    "* Decision Rule: If the p-value is less than or equal to the significance level (α), the null hypothesis is rejected in favor of the alternative hypothesis. If the p-value is greater than the significance level, the null hypothesis is not rejected."
   ]
  },
  {
   "cell_type": "markdown",
   "id": "d4794ae7",
   "metadata": {},
   "source": [
    "#### Calculation of P-value:"
   ]
  },
  {
   "cell_type": "markdown",
   "id": "d1aba783",
   "metadata": {},
   "source": [
    "* One-sided Test: For a one-sided test, the p-value is the probability of observing a test statistic as extreme as, or more extreme than, the observed value, in the direction specified by the alternative hypothesis.\n",
    "\n",
    "* Two-sided Test: For a two-sided test, the p-value is calculated as the probability of observing a test statistic as extreme as, or more extreme than, the observed value, in either direction (i.e., both tails).\n",
    "\n",
    "* Test Statistic: The calculation of the p-value depends on the specific test statistic used for hypothesis testing. Common test statistics include the Z-statistic, t-statistic, chi-square statistic, and F-statistic, depending on the type of hypothesis test and the characteristics of the data."
   ]
  },
  {
   "cell_type": "markdown",
   "id": "9f584e9d",
   "metadata": {},
   "source": [
    "#### Interpretation:"
   ]
  },
  {
   "cell_type": "markdown",
   "id": "586d0a6c",
   "metadata": {},
   "source": [
    "* If the p-value is less than the significance level (α), we have sufficient evidence to reject the null hypothesis.\n",
    "* If the p-value is greater than the significance level (α), we fail to reject the null hypothesis due to insufficient evidence"
   ]
  },
  {
   "cell_type": "code",
   "execution_count": 1,
   "id": "ba38e5b3",
   "metadata": {},
   "outputs": [
    {
     "name": "stdout",
     "output_type": "stream",
     "text": [
      "Z-statistic: 3.5355339059327378\n",
      "P-value: 0.00040695201744500586\n"
     ]
    }
   ],
   "source": [
    "import numpy as np\n",
    "from scipy.stats import norm\n",
    "\n",
    "# Sample data\n",
    "sample_mean = 155  # Sample mean\n",
    "pop_mean = 150     # Population mean\n",
    "sample_std = 10    # Sample standard deviation\n",
    "sample_size = 50   # Sample size\n",
    "\n",
    "# Calculate the Z-statistic\n",
    "z = (sample_mean - pop_mean) / (sample_std / np.sqrt(sample_size))\n",
    "\n",
    "# Calculate the p-value for a two-tailed test\n",
    "p_value = 2 * (1 - norm.cdf(np.abs(z)))\n",
    "\n",
    "# Print the results\n",
    "print(\"Z-statistic:\", z)\n",
    "print(\"P-value:\", p_value)\n"
   ]
  },
  {
   "cell_type": "markdown",
   "id": "6b99748e",
   "metadata": {},
   "source": [
    "### 3. Chi-Square Test"
   ]
  },
  {
   "cell_type": "markdown",
   "id": "7d4848a7",
   "metadata": {},
   "source": [
    "The chi-square test is a statistical test used to determine whether there is a significant association between two categorical variables. It is based on the chi-square (χ2) statistic, which measures the discrepancy between the observed frequencies and the expected frequencies under the null hypothesis of independence."
   ]
  },
  {
   "cell_type": "markdown",
   "id": "09354904",
   "metadata": {},
   "source": [
    "Key Concepts in Chi-Square Test:-\n",
    "\n",
    "* Null Hypothesis (H0): The null hypothesis assumes that there is no association between the two categorical variables. It suggests that the variables are independent of each other.\n",
    "\n",
    "* Alternative Hypothesis (Ha): The alternative hypothesis contradicts the null hypothesis and suggests that there is a significant association between the two variables.\n",
    "\n",
    "* Chi-Square (χ2) Statistic: The chi-square statistic is calculated as the sum of the squared differences between the observed and expected frequencies, divided by the expected frequencies. It measures the discrepancy between the observed and expected frequencies.\n",
    "\n",
    "* Degrees of Freedom (df): The degrees of freedom represent the number of categories minus 1 for each variable in the contingency table. For a 2x2 contingency table, the degrees of freedom is 1.\n",
    "\n",
    "* Significance Level (α): The significance level is the probability of rejecting the null hypothesis when it is actually true. Common choices are 0.05 and 0.01.\n",
    "\n",
    "* Critical Value: The critical value is determined based on the chosen significance level and the degrees of freedom. It represents the cutoff value beyond which we reject the null hypothesis.\n",
    "\n",
    "* P-value: The p-value is the probability of observing a chi-square statistic as extreme as, or more extreme than, the one calculated from the sample data, under the assumption that the null hypothesis is true."
   ]
  },
  {
   "cell_type": "markdown",
   "id": "689fedc6",
   "metadata": {},
   "source": [
    "#### Steps in Chi-Square Test"
   ]
  },
  {
   "cell_type": "markdown",
   "id": "c4a9170f",
   "metadata": {},
   "source": [
    "* Formulate Hypotheses: Define the null and alternative hypotheses based on the research question.\n",
    "\n",
    "* Create Contingency Table: Construct a contingency table (also known as a cross-tabulation or frequency table) that summarizes the observed frequencies of the two categorical variables.\n",
    "\n",
    "* Calculate Expected Frequencies: Compute the expected frequencies under the assumption of independence between the variables.\n",
    "\n",
    "* Compute Chi-Square Statistic: Calculate the chi-square statistic based on the observed and expected frequencies.\n",
    "\n",
    "* Determine Critical Value or P-value: Use the chi-square distribution table or software to find the critical value corresponding to the chosen significance level and degrees of freedom, or calculate the p-value directly.\n",
    "\n",
    "* Make a Decision: Compare the calculated chi-square statistic to the critical value or p-value. If the chi-square statistic exceeds the critical value or the p-value is less than the significance level, reject the null hypothesis; otherwise, fail to reject the null hypothesis.\n",
    "\n",
    "* Draw Conclusions: Interpret the results in the context of the research question and make conclusions about the association between the variables."
   ]
  },
  {
   "cell_type": "markdown",
   "id": "8afb4c95",
   "metadata": {},
   "source": [
    "### 4. F-test "
   ]
  },
  {
   "cell_type": "markdown",
   "id": "71039286",
   "metadata": {},
   "source": [
    "The F-test is a statistical test used to compare the variances of two populations or the equality of means across multiple populations. It is named after Sir Ronald Fisher, a prominent statistician. The F-test is commonly used in analysis of variance (ANOVA) and regression analysis to assess the significance of the overall model or the difference between groups."
   ]
  },
  {
   "cell_type": "markdown",
   "id": "074e71cb",
   "metadata": {},
   "source": [
    "#### Types of F-Tests:"
   ]
  },
  {
   "cell_type": "markdown",
   "id": "febfae5c",
   "metadata": {},
   "source": [
    "* Two-Sample F-Test: Compares the variances of two independent samples to test whether they come from populations with equal variances.\n",
    "\n",
    "* One-Way ANOVA F-Test: Compares the means of three or more independent samples to test whether they come from populations with equal means.\n",
    "\n",
    "* Two-Way ANOVA F-Test: Examines the effects of two categorical independent variables on a continuous dependent variable. It tests for the interaction between the two variables and the main effects of each variable."
   ]
  },
  {
   "cell_type": "markdown",
   "id": "9d59fb15",
   "metadata": {},
   "source": [
    "#### Key Concepts in F-Test:"
   ]
  },
  {
   "cell_type": "markdown",
   "id": "93d65a69",
   "metadata": {},
   "source": [
    "* Null Hypothesis (H0): The null hypothesis assumes that there is no difference in variances or means between the populations/groups being compared.\n",
    "\n",
    "* Alternative Hypothesis (Ha): The alternative hypothesis contradicts the null hypothesis and suggests that there is a significant difference in variances or means between the populations/groups.\n",
    "\n",
    "* F-Statistic: The F-statistic is calculated as the ratio of the variance between groups to the variance within groups. It measures the extent to which the group means differ relative to the variability within each group.\n",
    "\n",
    "* Degrees of Freedom (df): \n",
    "    * For the two-sample F-test, the degrees of freedom are n1−1 and n2−1 for the two samples.\n",
    "    * For ANOVA F-tests, the degrees of freedom are calculated based on the number of groups and the total number of observations.\n",
    "    \n",
    "* Significance Level (α): The significance level is the probability of rejecting the null hypothesis when it is actually true. Common choices are 0.05 and 0.01.\n",
    "\n",
    "* Critical Value: The critical value is determined based on the chosen significance level and the degrees of freedom. It represents the cutoff value beyond which we reject the null hypothesis.\n",
    "\n",
    "* P-value: The p-value is the probability of observing an F-statistic as extreme as, or more extreme than, the one calculated from the sample data, under the assumption that the null hypothesis is true."
   ]
  },
  {
   "cell_type": "markdown",
   "id": "0ad22ce6",
   "metadata": {},
   "source": [
    "#### Steps in Conducting F-Test:"
   ]
  },
  {
   "cell_type": "markdown",
   "id": "f46ecc93",
   "metadata": {},
   "source": [
    "* Formulate Hypotheses: Define the null and alternative hypotheses based on the research question.\n",
    "\n",
    "* Calculate the F-Statistic: Compute the F-statistic based on the sample data and the formula for the specific type of F-test being conducted.\n",
    "\n",
    "* Determine Critical Value or P-value: Use the F-distribution table or software to find the critical value corresponding to the chosen significance level and degrees of freedom, or calculate the p-value directly.\n",
    "\n",
    "* Make a Decision: Compare the calculated F-statistic to the critical value or p-value. If the F-statistic exceeds the critical value or the p-value is less than the significance level, reject the null hypothesis; otherwise, fail to reject the null hypothesis.\n",
    "\n",
    "* Draw Conclusions: Interpret the results in the context of the research question and make conclusions about the differences in variances or means between the populations/groups."
   ]
  },
  {
   "cell_type": "markdown",
   "id": "59f4a4f0",
   "metadata": {},
   "source": [
    "### 5. T-test"
   ]
  },
  {
   "cell_type": "markdown",
   "id": "3d44fefd",
   "metadata": {},
   "source": [
    "The t-test is a statistical test used to determine whether there is a significant difference between the means of two independent groups. It is based on the t-statistic, which measures the difference between the means of the two groups relative to the variability within each group. The t-test is widely used in hypothesis testing and comparing the means of samples from two populations."
   ]
  },
  {
   "cell_type": "markdown",
   "id": "dcbd30c4",
   "metadata": {},
   "source": [
    "#### Types of t-Tests:"
   ]
  },
  {
   "cell_type": "markdown",
   "id": "076beb3b",
   "metadata": {},
   "source": [
    "* Independent Samples t-Test: Also known as the two-sample t-test, it compares the means of two independent groups to test whether they come from populations with equal means. This test assumes that the two samples are independent and have approximately normal distributions.\n",
    "\n",
    "* Paired Samples t-Test: Also known as the dependent t-test or matched pairs t-test, it compares the means of two related groups to test whether there is a significant difference between the means of paired observations. This test is used when the observations in the two groups are not independent, such as before-and-after measurements or matched pairs."
   ]
  },
  {
   "cell_type": "markdown",
   "id": "03be7a6b",
   "metadata": {},
   "source": [
    "#### Key Concepts in t-Test:"
   ]
  },
  {
   "cell_type": "markdown",
   "id": "141f1a32",
   "metadata": {},
   "source": [
    "* Null Hypothesis (H0): The null hypothesis assumes that there is no difference between the means of the two groups being compared.\n",
    "\n",
    "* Alternative Hypothesis (Ha): The alternative hypothesis contradicts the null hypothesis and suggests that there is a significant difference between the means of the two groups.\n",
    "\n",
    "* t-Statistic: The t-statistic is calculated as the ratio of the difference between the sample means to the standard error of the difference. It measures the extent to which the sample means differ relative to the variability within each group.\n",
    "\n",
    "* Degrees of Freedom (df):\n",
    "    * For the independent samples t-test, the degrees of freedom are calculated based on the sample sizes of the two groups.\n",
    "    * For the paired samples t-test, the degrees of freedom are calculated as n−1, where n is the number of pairs.\n",
    "\n",
    "* Significance Level (α): The significance level is the probability of rejecting the null hypothesis when it is actually true. Common choices are 0.05 and 0.01.\n",
    "\n",
    "* Critical Value: The critical value is determined based on the chosen significance level and the degrees of freedom. It represents the cutoff value beyond which we reject the null hypothesis.\n",
    "\n",
    "* P-value: The p-value is the probability of observing a t-statistic as extreme as, or more extreme than, the one calculated from the sample data, under the assumption that the null hypothesis is true."
   ]
  },
  {
   "cell_type": "markdown",
   "id": "11a38838",
   "metadata": {},
   "source": [
    "#### Steps in Conducting t-Test:"
   ]
  },
  {
   "cell_type": "markdown",
   "id": "5cf13218",
   "metadata": {},
   "source": [
    "* Formulate Hypotheses: Define the null and alternative hypotheses based on the research question.\n",
    "\n",
    "* Calculate the t-Statistic: Compute the t-statistic based on the sample data and the formula for the specific type of t-test being conducted.\n",
    "\n",
    "* Determine Critical Value or P-value: Use the t-distribution table or software to find the critical value corresponding to the chosen significance level and degrees of freedom, or calculate the p-value directly.\n",
    "\n",
    "* Make a Decision: Compare the calculated t-statistic to the critical value or p-value. If the t-statistic exceeds the critical value or the p-value is less than the significance level, reject the null hypothesis; otherwise, fail to reject the null hypothesis.\n",
    "\n",
    "* Draw Conclusions: Interpret the results in the context of the research question and make conclusions about the difference between the means of the two groups."
   ]
  },
  {
   "cell_type": "code",
   "execution_count": null,
   "id": "b938a2a3",
   "metadata": {},
   "outputs": [],
   "source": []
  }
 ],
 "metadata": {
  "kernelspec": {
   "display_name": "Python 3 (ipykernel)",
   "language": "python",
   "name": "python3"
  },
  "language_info": {
   "codemirror_mode": {
    "name": "ipython",
    "version": 3
   },
   "file_extension": ".py",
   "mimetype": "text/x-python",
   "name": "python",
   "nbconvert_exporter": "python",
   "pygments_lexer": "ipython3",
   "version": "3.9.18"
  }
 },
 "nbformat": 4,
 "nbformat_minor": 5
}
