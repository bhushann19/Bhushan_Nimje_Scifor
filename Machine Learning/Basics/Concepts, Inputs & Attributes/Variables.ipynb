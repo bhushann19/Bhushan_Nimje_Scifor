{
 "cells": [
  {
   "cell_type": "markdown",
   "id": "149575e4",
   "metadata": {},
   "source": [
    "Variable is any characteristic, number, or quantity that can be measured or counted."
   ]
  },
  {
   "cell_type": "markdown",
   "id": "a81ceae1",
   "metadata": {},
   "source": [
    "### Types of variables:"
   ]
  },
  {
   "cell_type": "markdown",
   "id": "a9b17acd",
   "metadata": {},
   "source": [
    "1. Numerical variables.\n",
    "2. Categorical Variables.\n",
    "3. Mixed Variables."
   ]
  },
  {
   "cell_type": "markdown",
   "id": "611ad8b2",
   "metadata": {},
   "source": [
    "### 1. Numerical Variables:"
   ]
  },
  {
   "cell_type": "markdown",
   "id": "e936c219",
   "metadata": {},
   "source": [
    "Obviously numerical variables will store numerical values. Numerical variables further divided into 2 categories based on the type of numerical values are stored."
   ]
  },
  {
   "cell_type": "markdown",
   "id": "fe9396bd",
   "metadata": {},
   "source": [
    "* Continuous Variable: This variable stores continuous numerical values. like Salary(10000 $), Height(5.8 feet), Price(10.50 $).\n",
    "\n",
    "* Discrete Variable: This variable stores the whole number or count. This does not store floating-point numbers. Examples: Number of apples, Number of items."
   ]
  },
  {
   "cell_type": "markdown",
   "id": "44cc03d8",
   "metadata": {},
   "source": [
    "### 2. Categorical Variables:"
   ]
  },
  {
   "cell_type": "markdown",
   "id": "4eb84bb1",
   "metadata": {},
   "source": [
    "It stores categorical or string values. It further divided into 3 categories."
   ]
  },
  {
   "cell_type": "markdown",
   "id": "1cf00879",
   "metadata": {},
   "source": [
    "* Ordinal variable: Value stored in this has some order. Examples: Grades(A, B, C) Grades have some order associated with it A>B>C. Size(S,M,L) S<M<L.\n",
    "\n",
    "* Nominal Variable: In this all values are equal. Example: City(Mumbai, Delhi, Pune)\n",
    "\n",
    "* Date Time variable: These variable stores Date Only, Time Only, or Date&Time both."
   ]
  },
  {
   "cell_type": "markdown",
   "id": "2519f502",
   "metadata": {},
   "source": [
    "### 3. Mixed Variables: "
   ]
  },
  {
   "cell_type": "markdown",
   "id": "d71bed49",
   "metadata": {},
   "source": [
    "This variable stores data which is combination of both numeric and categorical values. Example: Seat Number(A10), Postal Code(XX123)."
   ]
  },
  {
   "cell_type": "code",
   "execution_count": null,
   "id": "ecbb8f54",
   "metadata": {},
   "outputs": [],
   "source": []
  }
 ],
 "metadata": {
  "kernelspec": {
   "display_name": "Python 3 (ipykernel)",
   "language": "python",
   "name": "python3"
  },
  "language_info": {
   "codemirror_mode": {
    "name": "ipython",
    "version": 3
   },
   "file_extension": ".py",
   "mimetype": "text/x-python",
   "name": "python",
   "nbconvert_exporter": "python",
   "pygments_lexer": "ipython3",
   "version": "3.9.18"
  }
 },
 "nbformat": 4,
 "nbformat_minor": 5
}
