{
 "cells": [
  {
   "cell_type": "markdown",
   "id": "77ff3b65",
   "metadata": {},
   "source": [
    "Encoding technology refers to the methods and techniques used to convert data from one form to another. In the context of data processing, encoding typically involves transforming data into a specific format suitable for storage, transmission, or computation. In machine learning and data science, encoding is often used to transform categorical data into numerical formats that can be processed by algorithms."
   ]
  },
  {
   "cell_type": "markdown",
   "id": "d22e51c8",
   "metadata": {},
   "source": [
    "### Types of Encoders:-"
   ]
  },
  {
   "cell_type": "markdown",
   "id": "b7ea4821",
   "metadata": {},
   "source": [
    "1. Label Encoding\n",
    "2. One-Hot Encoding\n",
    "3. Ordinal Encoding\n",
    "4. Binary Encoding\n",
    "5. Frequency Encoding\n",
    "6. Target Encoding\n",
    "7. Hashing Encoding"
   ]
  },
  {
   "cell_type": "markdown",
   "id": "b59c40a6",
   "metadata": {},
   "source": [
    "### Label Encoding "
   ]
  },
  {
   "cell_type": "markdown",
   "id": "f34ed1b1",
   "metadata": {},
   "source": [
    "Label Encoding involves converting each category in a categorical variable to a unique integer. For example, if we have a feature \"Color\" with categories \"Red\", \"Green\", and \"Blue\", it might be encoded as:"
   ]
  },
  {
   "cell_type": "markdown",
   "id": "79351a13",
   "metadata": {},
   "source": [
    "* Red -> 0\n",
    "* Green -> 1\n",
    "* Blue -> 2"
   ]
  },
  {
   "cell_type": "markdown",
   "id": "cfa76b30",
   "metadata": {},
   "source": [
    "#### Pros"
   ]
  },
  {
   "cell_type": "markdown",
   "id": "ced875c9",
   "metadata": {},
   "source": [
    "1. Simple and easy to implement.\n",
    "2. Suitable for ordinal data where categories have an inherent order."
   ]
  },
  {
   "cell_type": "markdown",
   "id": "1e4b61ec",
   "metadata": {},
   "source": [
    "#### Cons"
   ]
  },
  {
   "cell_type": "markdown",
   "id": "5605f30b",
   "metadata": {},
   "source": [
    "Can introduce ordinal relationships between categories that do not exist, potentially misleading algorithms."
   ]
  },
  {
   "cell_type": "markdown",
   "id": "bf19394d",
   "metadata": {},
   "source": [
    "#### When to use:"
   ]
  },
  {
   "cell_type": "markdown",
   "id": "e77e7cd5",
   "metadata": {},
   "source": [
    "Categorical features with two categories"
   ]
  },
  {
   "cell_type": "code",
   "execution_count": 1,
   "id": "f6883f4c",
   "metadata": {},
   "outputs": [
    {
     "name": "stdout",
     "output_type": "stream",
     "text": [
      "[2 1 0 1 2 0]\n"
     ]
    }
   ],
   "source": [
    "from sklearn.preprocessing import LabelEncoder\n",
    "\n",
    "# Sample data\n",
    "colors = ['Red', 'Green', 'Blue', 'Green', 'Red', 'Blue']\n",
    "\n",
    "# Initialize Label Encoder\n",
    "label_encoder = LabelEncoder()\n",
    "\n",
    "# Fit and transform the data\n",
    "encoded_colors = label_encoder.fit_transform(colors)\n",
    "\n",
    "print(encoded_colors)"
   ]
  },
  {
   "cell_type": "code",
   "execution_count": null,
   "id": "ed2234e9",
   "metadata": {},
   "outputs": [],
   "source": []
  }
 ],
 "metadata": {
  "kernelspec": {
   "display_name": "Python 3 (ipykernel)",
   "language": "python",
   "name": "python3"
  },
  "language_info": {
   "codemirror_mode": {
    "name": "ipython",
    "version": 3
   },
   "file_extension": ".py",
   "mimetype": "text/x-python",
   "name": "python",
   "nbconvert_exporter": "python",
   "pygments_lexer": "ipython3",
   "version": "3.9.18"
  }
 },
 "nbformat": 4,
 "nbformat_minor": 5
}
