{
 "cells": [
  {
   "cell_type": "markdown",
   "id": "472ee16e",
   "metadata": {},
   "source": [
    "Dummy encoding is a type of categorical data encoding similar to one-hot encoding but typically used to avoid multicollinearity issues in regression models. In dummy encoding, one of the categories is designated as the \"baseline\" or \"reference\" category, and only n−1 binary columns are created for a categorical variable with n categories. This ensures that the encoded data does not contain redundant information, which could cause multicollinearity issues."
   ]
  },
  {
   "cell_type": "markdown",
   "id": "e5495d3d",
   "metadata": {},
   "source": [
    "### Why Use Dummy Encoding?"
   ]
  },
  {
   "cell_type": "markdown",
   "id": "2f12c4ba",
   "metadata": {},
   "source": [
    "In regression models, including a full set of one-hot encoded variables (one for each category) can lead to a situation called the \"dummy variable trap,\" where there is perfect multicollinearity. Dummy encoding avoids this by dropping one of the categories, thus reducing redundancy."
   ]
  },
  {
   "cell_type": "markdown",
   "id": "65e3823e",
   "metadata": {},
   "source": [
    "#### Example"
   ]
  },
  {
   "cell_type": "markdown",
   "id": "b4cbb9fe",
   "metadata": {},
   "source": [
    "Suppose we have a categorical variable \"Color\" with three categories: \"Red,\" \"Green,\" and \"Blue.\""
   ]
  },
  {
   "cell_type": "markdown",
   "id": "ef739a3c",
   "metadata": {},
   "source": [
    "One-Hot Encoding:"
   ]
  },
  {
   "cell_type": "markdown",
   "id": "bd8b78ca",
   "metadata": {},
   "source": [
    "* Red: [1, 0, 0]\n",
    "* Green: [0, 1, 0]\n",
    "* Blue: [0, 0, 1]"
   ]
  },
  {
   "cell_type": "markdown",
   "id": "da75fb6d",
   "metadata": {},
   "source": [
    "Dummy Encoding (using \"Red\" as the reference category):"
   ]
  },
  {
   "cell_type": "markdown",
   "id": "8e8b42d1",
   "metadata": {},
   "source": [
    "* Red: [0, 0]\n",
    "* Green: [1, 0]\n",
    "* Blue: [0, 1]"
   ]
  },
  {
   "cell_type": "markdown",
   "id": "71ad1dd4",
   "metadata": {},
   "source": [
    "### How It Works"
   ]
  },
  {
   "cell_type": "markdown",
   "id": "73b102f6",
   "metadata": {},
   "source": [
    "In dummy encoding:\n",
    "\n",
    "1. The reference category (e.g., \"Red\") is represented by all zeros in the dummy variables.\n",
    "2. Other categories (e.g., \"Green\" and \"Blue\") are represented by binary columns indicating their presence."
   ]
  },
  {
   "cell_type": "code",
   "execution_count": 3,
   "id": "de7f79ac",
   "metadata": {},
   "outputs": [
    {
     "name": "stdout",
     "output_type": "stream",
     "text": [
      "   Color_Blue  Color_Green  Color_Red\n",
      "0           0            0          1\n",
      "1           0            1          0\n",
      "2           1            0          0\n",
      "3           0            1          0\n",
      "4           0            0          1\n",
      "5           1            0          0\n"
     ]
    }
   ],
   "source": [
    "import pandas as pd\n",
    "\n",
    "# Sample data\n",
    "data = {'Color': ['Red', 'Green', 'Blue', 'Green', 'Red', 'Blue']}\n",
    "df = pd.DataFrame(data)\n",
    "\n",
    "# Perform dummy encoding\n",
    "dummy_encoded_df = pd.get_dummies(df, columns=['Color'])\n",
    "\n",
    "print(dummy_encoded_df)"
   ]
  },
  {
   "cell_type": "markdown",
   "id": "58f720dd",
   "metadata": {},
   "source": [
    "Dummy encoding is particularly useful in regression analysis and other scenarios where multicollinearity might be an issue. By excluding one category (the reference category), it reduces redundancy and helps ensure the model remains interpretable and stable. "
   ]
  },
  {
   "cell_type": "code",
   "execution_count": null,
   "id": "b41eabe6",
   "metadata": {},
   "outputs": [],
   "source": []
  }
 ],
 "metadata": {
  "kernelspec": {
   "display_name": "Python 3 (ipykernel)",
   "language": "python",
   "name": "python3"
  },
  "language_info": {
   "codemirror_mode": {
    "name": "ipython",
    "version": 3
   },
   "file_extension": ".py",
   "mimetype": "text/x-python",
   "name": "python",
   "nbconvert_exporter": "python",
   "pygments_lexer": "ipython3",
   "version": "3.9.18"
  }
 },
 "nbformat": 4,
 "nbformat_minor": 5
}
