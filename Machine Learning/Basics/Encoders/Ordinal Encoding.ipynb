{
 "cells": [
  {
   "cell_type": "markdown",
   "id": "3549b87c",
   "metadata": {},
   "source": [
    "### Ordinal Encoding"
   ]
  },
  {
   "cell_type": "markdown",
   "id": "71e7bed2",
   "metadata": {},
   "source": [
    "Ordinal Encoding is similar to label encoding but is specifically used for ordinal data, where categories have a meaningful order. For example, \"Low\", \"Medium\", and \"High\" might be encoded as:"
   ]
  },
  {
   "cell_type": "markdown",
   "id": "18d600b3",
   "metadata": {},
   "source": [
    "* Low -> 0\n",
    "* Medium -> 1\n",
    "* High -> 2"
   ]
  },
  {
   "cell_type": "markdown",
   "id": "b33c4530",
   "metadata": {},
   "source": [
    "#### Pros"
   ]
  },
  {
   "cell_type": "markdown",
   "id": "ab0cfd32",
   "metadata": {},
   "source": [
    "Retains the ordinal relationship between categories."
   ]
  },
  {
   "cell_type": "markdown",
   "id": "3fa73827",
   "metadata": {},
   "source": [
    "#### Cons"
   ]
  },
  {
   "cell_type": "markdown",
   "id": "0bfc4ca6",
   "metadata": {},
   "source": [
    "Not suitable for nominal data where categories do not have a meaningful order."
   ]
  },
  {
   "cell_type": "markdown",
   "id": "eb908df9",
   "metadata": {},
   "source": [
    "#### When to use"
   ]
  },
  {
   "cell_type": "markdown",
   "id": "d496a8c0",
   "metadata": {},
   "source": [
    "The best option for ordinal features."
   ]
  },
  {
   "cell_type": "code",
   "execution_count": 1,
   "id": "7c41ed5b",
   "metadata": {},
   "outputs": [
    {
     "name": "stdout",
     "output_type": "stream",
     "text": [
      "     Size  Size_encoded\n",
      "0   Small           0.0\n",
      "1  Medium           1.0\n",
      "2   Large           2.0\n",
      "3  Medium           1.0\n",
      "4   Small           0.0\n",
      "5   Large           2.0\n"
     ]
    }
   ],
   "source": [
    "import pandas as pd\n",
    "from sklearn.preprocessing import OrdinalEncoder\n",
    "\n",
    "# Sample data\n",
    "data = {'Size': ['Small', 'Medium', 'Large', 'Medium', 'Small', 'Large']}\n",
    "df = pd.DataFrame(data)\n",
    "\n",
    "# Initialize Ordinal Encoder\n",
    "ordinal_encoder = OrdinalEncoder(categories=[['Small', 'Medium', 'Large']])\n",
    "\n",
    "# Fit and transform the data\n",
    "df['Size_encoded'] = ordinal_encoder.fit_transform(df[['Size']])\n",
    "\n",
    "print(df)"
   ]
  },
  {
   "cell_type": "code",
   "execution_count": null,
   "id": "e92ab57c",
   "metadata": {},
   "outputs": [],
   "source": []
  }
 ],
 "metadata": {
  "kernelspec": {
   "display_name": "Python 3 (ipykernel)",
   "language": "python",
   "name": "python3"
  },
  "language_info": {
   "codemirror_mode": {
    "name": "ipython",
    "version": 3
   },
   "file_extension": ".py",
   "mimetype": "text/x-python",
   "name": "python",
   "nbconvert_exporter": "python",
   "pygments_lexer": "ipython3",
   "version": "3.9.18"
  }
 },
 "nbformat": 4,
 "nbformat_minor": 5
}
