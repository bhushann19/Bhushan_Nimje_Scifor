{
 "cells": [
  {
   "cell_type": "markdown",
   "id": "883c4a84",
   "metadata": {},
   "source": [
    "### One-Hot Encoding"
   ]
  },
  {
   "cell_type": "markdown",
   "id": "91249f4f",
   "metadata": {},
   "source": [
    "One-Hot Encoding creates a binary column for each category and assigns a value of 1 to the column corresponding to the category for each instance, and 0 to all other columns. For example:"
   ]
  },
  {
   "cell_type": "markdown",
   "id": "0f2f3a91",
   "metadata": {},
   "source": [
    "* Red -> [1, 0, 0]\n",
    "* Green -> [0, 1, 0]\n",
    "* Blue -> [0, 0, 1]"
   ]
  },
  {
   "cell_type": "markdown",
   "id": "159d26ea",
   "metadata": {},
   "source": [
    "#### Pros"
   ]
  },
  {
   "cell_type": "markdown",
   "id": "c139ab41",
   "metadata": {},
   "source": [
    "1. Avoids the problem of introducing ordinal relationships between categories.\n",
    "2. Suitable for nominal data where categories do not have an inherent order."
   ]
  },
  {
   "cell_type": "markdown",
   "id": "e683026f",
   "metadata": {},
   "source": [
    "#### Cons"
   ]
  },
  {
   "cell_type": "markdown",
   "id": "3a3ad42e",
   "metadata": {},
   "source": [
    "Can lead to a significant increase in the dimensionality of the dataset, especially with high cardinality features."
   ]
  },
  {
   "cell_type": "markdown",
   "id": "b72c0849",
   "metadata": {},
   "source": [
    "#### When to use"
   ]
  },
  {
   "cell_type": "markdown",
   "id": "23ce9c60",
   "metadata": {},
   "source": [
    "Ideally for categorical features with less than 10 categories (max 50 categories can be considered)"
   ]
  },
  {
   "cell_type": "code",
   "execution_count": 1,
   "id": "c4b8ca85",
   "metadata": {},
   "outputs": [
    {
     "name": "stdout",
     "output_type": "stream",
     "text": [
      "[[0. 0. 1.]\n",
      " [0. 1. 0.]\n",
      " [1. 0. 0.]\n",
      " [0. 1. 0.]\n",
      " [0. 0. 1.]\n",
      " [1. 0. 0.]]\n"
     ]
    },
    {
     "name": "stderr",
     "output_type": "stream",
     "text": [
      "/Users/bhushannimje/opt/anaconda3/lib/python3.9/site-packages/sklearn/preprocessing/_encoders.py:868: FutureWarning: `sparse` was renamed to `sparse_output` in version 1.2 and will be removed in 1.4. `sparse_output` is ignored unless you leave `sparse` to its default value.\n",
      "  warnings.warn(\n"
     ]
    }
   ],
   "source": [
    "from sklearn.preprocessing import OneHotEncoder\n",
    "\n",
    "# Sample data\n",
    "colors = [['Red'], ['Green'], ['Blue'], ['Green'], ['Red'], ['Blue']]\n",
    "\n",
    "# Initialize One-Hot Encoder\n",
    "one_hot_encoder = OneHotEncoder(sparse=False)\n",
    "\n",
    "# Fit and transform the data\n",
    "encoded_colors = one_hot_encoder.fit_transform(colors)\n",
    "\n",
    "print(encoded_colors)"
   ]
  },
  {
   "cell_type": "code",
   "execution_count": null,
   "id": "4ddf44c7",
   "metadata": {},
   "outputs": [],
   "source": []
  }
 ],
 "metadata": {
  "kernelspec": {
   "display_name": "Python 3 (ipykernel)",
   "language": "python",
   "name": "python3"
  },
  "language_info": {
   "codemirror_mode": {
    "name": "ipython",
    "version": 3
   },
   "file_extension": ".py",
   "mimetype": "text/x-python",
   "name": "python",
   "nbconvert_exporter": "python",
   "pygments_lexer": "ipython3",
   "version": "3.9.18"
  }
 },
 "nbformat": 4,
 "nbformat_minor": 5
}
