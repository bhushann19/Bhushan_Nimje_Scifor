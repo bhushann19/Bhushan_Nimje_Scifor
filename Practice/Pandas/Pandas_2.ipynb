{
 "cells": [
  {
   "cell_type": "markdown",
   "metadata": {
    "cell_id": "c78107ca96774daeb376b2f5775abddf",
    "deepnote_cell_type": "text-cell-h1",
    "formattedRanges": [],
    "is_collapsed": false,
    "tags": []
   },
   "source": [
    "# 450+ Practice Questions From Pandas, NumPy, and SQL."
   ]
  },
  {
   "cell_type": "markdown",
   "metadata": {
    "cell_id": "beb56efd65e545af8214755c1f3e6fe2",
    "deepnote_cell_height": 125.171875,
    "deepnote_cell_type": "markdown",
    "tags": []
   },
   "source": [
    "Author: **Avi Chawla**\n",
    "\n",
    "LinkedIn: https://www.linkedin.com/in/avi-chawla/\n",
    "\n",
    "Read my newsletter here: https://www.blog.dailydoseofds.com/"
   ]
  },
  {
   "cell_type": "markdown",
   "metadata": {
    "cell_id": "4d096f4f425941b7839b74d6f96c1628",
    "deepnote_cell_type": "text-cell-h2",
    "formattedRanges": [],
    "is_collapsed": false,
    "tags": []
   },
   "source": [
    "## Introduction"
   ]
  },
  {
   "cell_type": "markdown",
   "metadata": {
    "cell_id": "13d3851213804fd7b65dab8f95da0809",
    "deepnote_cell_type": "text-cell-p",
    "formattedRanges": [
     {
      "fromCodePoint": 156,
      "marks": {
       "bold": true
      },
      "toCodePoint": 179
     }
    ],
    "is_collapsed": false,
    "tags": []
   },
   "source": [
    "This notebook has been created for you to practice three of the most common tools used in building any machine learning or data science applications, i.e., Pandas, NumPy, and SQL!"
   ]
  },
  {
   "cell_type": "markdown",
   "metadata": {
    "cell_id": "efbb9e09ca7241389a40f1a7a5ddbd03",
    "deepnote_cell_type": "text-cell-p",
    "formattedRanges": [],
    "is_collapsed": false,
    "tags": []
   },
   "source": [
    "The practice questions provided will serve as a great resource for those who are looking to familiarize themselves with some of the most common functions used in these tools. "
   ]
  },
  {
   "cell_type": "markdown",
   "metadata": {
    "cell_id": "0d85a1b8822540838bcf9be2c3450280",
    "deepnote_cell_type": "text-cell-p",
    "formattedRanges": [
     {
      "fromCodePoint": 284,
      "marks": {
       "bold": true
      },
      "toCodePoint": 289
     },
     {
      "fromCodePoint": 302,
      "marks": {
       "bold": true
      },
      "toCodePoint": 305
     }
    ],
    "is_collapsed": false,
    "tags": []
   },
   "source": [
    "Appropriate descriptions have been provided for all the questions in this entire exercise which will help you navigate through this exercise easily. If a dataset is to be loaded in the python environment, that has also been provided for you. You can find it on the right panel in the Files section. Do NOT delete any of the files/folders listed there. "
   ]
  },
  {
   "cell_type": "markdown",
   "metadata": {
    "cell_id": "ab212e0eaee64299bb266add3782ad61",
    "deepnote_cell_type": "text-cell-p",
    "formattedRanges": [],
    "is_collapsed": false,
    "tags": []
   },
   "source": [
    "The whole exercise has been divided into nine separate notebooks. Below are the links to all the other notebooks for you to jump from one notebook to another:"
   ]
  },
  {
   "cell_type": "markdown",
   "metadata": {
    "cell_id": "d567d95c64ca4419acd1765e93575430",
    "deepnote_cell_height": 403.6875,
    "deepnote_cell_type": "markdown",
    "tags": []
   },
   "source": [
    "- **Pandas**\n",
    "\n",
    "1. Pandas Notebook 1: [Link](https://deepnote.com/workspace/avi-chawla-695b-aee6f4ef-2d50-4fb6-9ef2-20ee1022995a/project/Pandas-Notebook-1-d693ac55-6455-40cf-ae34-867c6a02014e/notebook/6449493c84734151b11f4b6871f045d2#99f75bf946d04b9bb1daa9e14c2cfea9) \n",
    "2. Pandas Notebook 2: [Link](https://deepnote.com/workspace/avi-chawla-695b-aee6f4ef-2d50-4fb6-9ef2-20ee1022995a/project/Pandas-Notebook-employee-dataset-7e3b6755-5d4b-464b-9b75-9c84667ae3bd/notebook/notebook-0de50f3b70834570b13b651dde44c491) **(This Notebook)** \n",
    "\n",
    "3. Pandas Notebook 3: [Link](https://deepnote.com/workspace/avi-chawla-695b-aee6f4ef-2d50-4fb6-9ef2-20ee1022995a/project/Pandas-Notebook-employee-part-2-adc5a3ee-5f61-4725-8e46-ccb07899acfc/notebook/notebook-78e3faf901da4f14881ef24e41c80bf6)\n",
    "\n",
    "4. Pandas Notebook 4: [Link](https://deepnote.com/workspace/avi-chawla-695b-aee6f4ef-2d50-4fb6-9ef2-20ee1022995a/project/Pandas-after-employee-f84e02a1-fb6a-428e-af90-8dd99855749a/notebook/notebook-134ac20c38ef45e5a4432abd638e6c2e)\n",
    "\n",
    "- **NumPy**\n",
    "\n",
    "1. NumPy Notebook 1: [Link](https://deepnote.com/workspace/avi-chawla-695b-aee6f4ef-2d50-4fb6-9ef2-20ee1022995a/project/Numpy-part-1-9b9979f2-b708-4292-b466-3d0157564c91/notebook/notebook-07232b5ebafe49b198a9c55c553414f1)\n",
    "\n",
    "2. NumPy Notebook 2: [Link](https://deepnote.com/workspace/avi-chawla-695b-aee6f4ef-2d50-4fb6-9ef2-20ee1022995a/project/NumPy-Notebook-2-4456411e-2ddd-426d-8027-4881080027db/notebook/notebook-988aba30f33a45a3861adc4f6a6f338c)\n",
    "\n",
    "3. NumPy Notebook 3: [Link](https://deepnote.com/workspace/avi-chawla-695b-aee6f4ef-2d50-4fb6-9ef2-20ee1022995a/project/NumPy-Notebook-3-e6587114-b580-4249-b599-540de859e603/notebook/notebook-bb52759ea3f542eaaed9958b5df9c34b)\n",
    "\n",
    "- **SQL**\n",
    "\n",
    "1. SQL Notebook 1: [Link](https://deepnote.com/workspace/avi-chawla-695b-aee6f4ef-2d50-4fb6-9ef2-20ee1022995a/project/SQL-Notebook-1-eac9d782-a9b1-4e84-a1f9-af14080a6121/notebook/notebook-697f04297c664d02901db0f85431512e)\n",
    "\n",
    "2. SQL Notebook 2: [Link](https://deepnote.com/workspace/avi-chawla-695b-aee6f4ef-2d50-4fb6-9ef2-20ee1022995a/project/SQL-Notebook-2-1914b214-be03-44a1-be63-ad99e98be639/notebook/notebook-e549236b988c42a5b53126a7ebb98127)"
   ]
  },
  {
   "cell_type": "markdown",
   "metadata": {
    "cell_id": "5d6cb371b1dc4bc0919134316732b3f5",
    "deepnote_cell_type": "text-cell-h2",
    "formattedRanges": [],
    "is_collapsed": false,
    "tags": []
   },
   "source": [
    "## How to use this notebook?"
   ]
  },
  {
   "cell_type": "markdown",
   "metadata": {
    "cell_id": "9dfd39d2a8d841c0ad5eeb29064b850d",
    "deepnote_cell_type": "text-cell-p",
    "formattedRanges": [
     {
      "fromCodePoint": 41,
      "marks": {
       "bold": true
      },
      "toCodePoint": 50
     }
    ],
    "is_collapsed": false,
    "tags": []
   },
   "source": [
    "At the top right corner, you will find a Duplicate button. This will allow you to create a unique notebook for your own practice and write solutions to the question listed in this notebook.  "
   ]
  },
  {
   "cell_type": "markdown",
   "metadata": {
    "cell_id": "a50ddb47d0bb4ce780e357a2c023acb1",
    "deepnote_cell_height": 74.78125,
    "deepnote_cell_type": "markdown",
    "tags": []
   },
   "source": [
    "If you face any issues or have any feedback, feel free to reach out to me (Avi Chawla) either on Linkedin: https://www.linkedin.com/in/avi-chawla/ or write an email to avi@dsscholar[dot]com. "
   ]
  },
  {
   "cell_type": "markdown",
   "metadata": {
    "cell_id": "3a50b97bfbd3497aa86305727e081dbc",
    "deepnote_cell_type": "text-cell-p",
    "formattedRanges": [],
    "is_collapsed": false,
    "tags": []
   },
   "source": [
    "Let's begin 🚀!"
   ]
  },
  {
   "cell_type": "code",
   "execution_count": 3,
   "metadata": {},
   "outputs": [],
   "source": [
    "import pandas as pd\n",
    "import numpy as np"
   ]
  },
  {
   "cell_type": "markdown",
   "metadata": {
    "cell_id": "80ef1fa45e5d48a0bccd7f1965e6bd12",
    "deepnote_cell_type": "text-cell-h1",
    "formattedRanges": [],
    "is_collapsed": false,
    "tags": []
   },
   "source": [
    "# Pandas Notebook 2"
   ]
  },
  {
   "cell_type": "markdown",
   "metadata": {
    "cell_id": "44e674d818fb4d77871a72e30cbc411f",
    "deepnote_cell_type": "text-cell-h3",
    "formattedRanges": [],
    "is_collapsed": false,
    "tags": []
   },
   "source": [
    "### 31. Read the CSV file. "
   ]
  },
  {
   "cell_type": "code",
   "execution_count": 4,
   "metadata": {
    "cell_id": "d5a2997faec54bf5accae1ff257af47f",
    "deepnote_cell_height": 97,
    "deepnote_cell_type": "code",
    "tags": []
   },
   "outputs": [],
   "source": [
    "file_name = \"employee_dataset.csv\"\n",
    "\n",
    "df = pd.read_csv(file_name)"
   ]
  },
  {
   "cell_type": "markdown",
   "metadata": {
    "cell_id": "e17e62be56ca48d6adcfbe67313ba2f1",
    "deepnote_cell_type": "text-cell-h3",
    "formattedRanges": [],
    "is_collapsed": false,
    "tags": []
   },
   "source": [
    "### 32. Print the first 5 rows."
   ]
  },
  {
   "cell_type": "code",
   "execution_count": 5,
   "metadata": {
    "cell_id": "f29afee77a81416c98bc1787526679c5",
    "deepnote_cell_height": 97,
    "deepnote_cell_type": "code",
    "tags": []
   },
   "outputs": [
    {
     "name": "stdout",
     "output_type": "stream",
     "text": [
      "             Name                  Company_Name  \\\n",
      "0  Spencer Adkins                James and Sons   \n",
      "1    Julie Morton                 Nichols-James   \n",
      "2    Matthew Hall                     Scott Inc   \n",
      "3      Brad Scott  Johnston, Fleming and Tanner   \n",
      "4   Theresa Owens      Baker, Allen and Edwards   \n",
      "\n",
      "                        Employee_Job_Title      Employee_City  \\\n",
      "0                          Equities trader     New Russellton   \n",
      "1  Diplomatic Services operational officer  North Melissafurt   \n",
      "2               Regulatory affairs officer           Wardfort   \n",
      "3                      Production engineer     West Jamesview   \n",
      "4                      Production engineer          Whiteside   \n",
      "\n",
      "        Employee_Country  Employee_Salary Employment_Status  Employee_Rating  \n",
      "0  Palestinian Territory           321520         Full Time              3.9  \n",
      "1       Marshall Islands           589090         Full Time              4.3  \n",
      "2               Anguilla           630890         Full Time              3.1  \n",
      "3   Syrian Arab Republic           116400         Full Time              3.1  \n",
      "4               Dominica           523499         Full Time              4.8  \n"
     ]
    }
   ],
   "source": [
    "df_temp = df.head()\n",
    "\n",
    "print(df_temp)"
   ]
  },
  {
   "cell_type": "markdown",
   "metadata": {
    "cell_id": "21cc4cc89ef94d80b7f05d9683a13e2a",
    "deepnote_cell_type": "text-cell-h3",
    "formattedRanges": [],
    "is_collapsed": false,
    "tags": []
   },
   "source": [
    "### 33. Print the last 10 rows."
   ]
  },
  {
   "cell_type": "code",
   "execution_count": 6,
   "metadata": {
    "cell_id": "21246309dac4427c87ea434a2d5ba804",
    "deepnote_cell_height": 97,
    "deepnote_cell_type": "code",
    "tags": []
   },
   "outputs": [
    {
     "name": "stdout",
     "output_type": "stream",
     "text": [
      "                     Name                  Company_Name  \\\n",
      "299990      Monica Bender    Wallace, Smith and Shepard   \n",
      "299991  William Rodriguez                     Scott Inc   \n",
      "299992    Steven Thornton      Baker, Allen and Edwards   \n",
      "299993         Terry Hill       White, Mcclain and Cobb   \n",
      "299994      Kelly Bennett       White, Mcclain and Cobb   \n",
      "299995         Nancy Neal              Bullock-Carrillo   \n",
      "299996     Michele Butler  Johnston, Fleming and Tanner   \n",
      "299997        Lynn Wilson                 Nichols-James   \n",
      "299998      Lindsey Keith                 Nichols-James   \n",
      "299999      Karen Delgado                James and Sons   \n",
      "\n",
      "                  Employee_Job_Title      Employee_City Employee_Country  \\\n",
      "299990           Production engineer   New Cindychester       Bangladesh   \n",
      "299991                    Ergonomist          Whiteside      New Zealand   \n",
      "299992               Patent examiner         Aliciafort            Benin   \n",
      "299993  Investment banker, corporate   New Cindychester           Sweden   \n",
      "299994     Radiographer, therapeutic           Wardfort             Fiji   \n",
      "299995                   Optometrist  North Melissafurt            Samoa   \n",
      "299996                 Administrator         Aliciafort             Cuba   \n",
      "299997                 Administrator   New Cindychester          Bolivia   \n",
      "299998                          Make       Whitakerbury   Western Sahara   \n",
      "299999                       Actuary     New Russellton   United Kingdom   \n",
      "\n",
      "        Employee_Salary Employment_Status  Employee_Rating  \n",
      "299990           852660         Full Time              3.0  \n",
      "299991           214400         Full Time              1.5  \n",
      "299992            60240         Full Time              4.3  \n",
      "299993           414720            Intern              2.3  \n",
      "299994           182270         Full Time              3.6  \n",
      "299995            99670            Intern              3.3  \n",
      "299996           949580            Intern              2.6  \n",
      "299997           802830         Full Time              0.6  \n",
      "299998           257240         Full Time              2.4  \n",
      "299999           575770            Intern              3.3  \n"
     ]
    }
   ],
   "source": [
    "df_temp = df.tail(10)\n",
    "\n",
    "print(df_temp)"
   ]
  },
  {
   "cell_type": "markdown",
   "metadata": {
    "cell_id": "4eb1465d92d74314b38711cda728ad92",
    "deepnote_cell_type": "text-cell-h3",
    "formattedRanges": [],
    "is_collapsed": false,
    "tags": []
   },
   "source": [
    "### 34. Print the number of rows."
   ]
  },
  {
   "cell_type": "code",
   "execution_count": 16,
   "metadata": {
    "cell_id": "160196495c434ee79d35d0d8aa3f4734",
    "deepnote_cell_height": 97,
    "deepnote_cell_type": "code",
    "tags": []
   },
   "outputs": [
    {
     "name": "stdout",
     "output_type": "stream",
     "text": [
      "300000\n"
     ]
    }
   ],
   "source": [
    "df = pd.read_csv(\"employee_dataset.csv\")\n",
    "rows = df.shape[0]\n",
    "# To print both rows and columns df.shape\n",
    "print(rows)"
   ]
  },
  {
   "cell_type": "markdown",
   "metadata": {
    "cell_id": "ad6da97716844a449a22da39c1d8e955",
    "deepnote_cell_type": "text-cell-h3",
    "formattedRanges": [],
    "is_collapsed": false,
    "tags": []
   },
   "source": [
    "### 35. Print the number of columns."
   ]
  },
  {
   "cell_type": "code",
   "execution_count": 17,
   "metadata": {
    "cell_id": "e5860e541c4942aa9353c9b42ad22443",
    "deepnote_cell_height": 97,
    "deepnote_cell_type": "code",
    "tags": []
   },
   "outputs": [
    {
     "name": "stdout",
     "output_type": "stream",
     "text": [
      "8\n"
     ]
    }
   ],
   "source": [
    "columns = df.shape[1]\n",
    "\n",
    "print(columns)"
   ]
  },
  {
   "cell_type": "markdown",
   "metadata": {
    "cell_id": "7c30d916b56347bdb4e90010f2ce2679",
    "deepnote_cell_type": "text-cell-h3",
    "formattedRanges": [],
    "is_collapsed": false,
    "tags": []
   },
   "source": [
    "### 36. Print all column names."
   ]
  },
  {
   "cell_type": "code",
   "execution_count": 18,
   "metadata": {
    "cell_id": "f720d24f860c43bdb7311be0c8b5cd3f",
    "deepnote_cell_height": 97,
    "deepnote_cell_type": "code",
    "tags": []
   },
   "outputs": [
    {
     "name": "stdout",
     "output_type": "stream",
     "text": [
      "Index(['Name', 'Company_Name', 'Employee_Job_Title', 'Employee_City',\n",
      "       'Employee_Country', 'Employee_Salary', 'Employment_Status',\n",
      "       'Employee_Rating'],\n",
      "      dtype='object')\n"
     ]
    }
   ],
   "source": [
    "column_names = df.columns\n",
    "\n",
    "print(column_names)"
   ]
  },
  {
   "cell_type": "markdown",
   "metadata": {
    "cell_id": "11d29633f4ba42be80e49b018d7171c3",
    "deepnote_cell_type": "text-cell-h3",
    "formattedRanges": [
     {
      "fromCodePoint": 10,
      "marks": {
       "bold": true
      },
      "toCodePoint": 13
     }
    ],
    "is_collapsed": false,
    "tags": []
   },
   "source": [
    "### 37. Print the mean of Employee_Salary."
   ]
  },
  {
   "cell_type": "code",
   "execution_count": 20,
   "metadata": {
    "cell_id": "4638b6ac0ab741be8355dd04c5f42239",
    "deepnote_cell_height": 61,
    "deepnote_cell_type": "code",
    "tags": []
   },
   "outputs": [
    {
     "name": "stdout",
     "output_type": "stream",
     "text": [
      "Mean of Employee_Salary: 500224.20772666665\n"
     ]
    }
   ],
   "source": [
    "employee_salary_mean = df['Employee_Salary'].mean()\n",
    "print(f\"Mean of Employee_Salary: {employee_salary_mean}\")"
   ]
  },
  {
   "cell_type": "markdown",
   "metadata": {
    "cell_id": "cc3e5178820244ef84ac6209f6360eb4",
    "deepnote_cell_type": "text-cell-h3",
    "formattedRanges": [
     {
      "fromCodePoint": 10,
      "marks": {
       "bold": true
      },
      "toCodePoint": 13
     }
    ],
    "is_collapsed": false,
    "tags": []
   },
   "source": [
    "### 38. Print the mean of Employee_Rating."
   ]
  },
  {
   "cell_type": "code",
   "execution_count": 21,
   "metadata": {
    "cell_id": "c729f5a2fa6a432899a11b1918eb7f27",
    "deepnote_cell_height": 61,
    "deepnote_cell_type": "code",
    "tags": []
   },
   "outputs": [
    {
     "name": "stdout",
     "output_type": "stream",
     "text": [
      "Mean of Employee_Rating: 2.5059550000000006\n"
     ]
    }
   ],
   "source": [
    "employee_rating_mean = df['Employee_Rating'].mean()\n",
    "print(f\"Mean of Employee_Rating: {employee_rating_mean}\")"
   ]
  },
  {
   "cell_type": "markdown",
   "metadata": {
    "cell_id": "68a598c6b0044eca89a952164ac540a2",
    "deepnote_cell_type": "text-cell-h3",
    "formattedRanges": [],
    "is_collapsed": false,
    "tags": []
   },
   "source": [
    "### 39. Print the number of distinct Company_Name. "
   ]
  },
  {
   "cell_type": "code",
   "execution_count": 25,
   "metadata": {
    "cell_id": "77068474955f43a38e345a6fd97ceeb0",
    "deepnote_cell_height": 61,
    "deepnote_cell_type": "code",
    "tags": []
   },
   "outputs": [
    {
     "name": "stdout",
     "output_type": "stream",
     "text": [
      "Number of distinct Company_Name: 15\n"
     ]
    }
   ],
   "source": [
    "num_distinct_companies = df['Company_Name'].nunique()\n",
    "print(f\"Number of distinct Company_Name: {num_distinct_companies}\")"
   ]
  },
  {
   "cell_type": "markdown",
   "metadata": {
    "cell_id": "96780b9fec7c45b2bb173e0fd281e0f5",
    "deepnote_cell_type": "text-cell-h3",
    "formattedRanges": [],
    "is_collapsed": false,
    "tags": []
   },
   "source": [
    "### 40. Print all the distinct Company_Name. "
   ]
  },
  {
   "cell_type": "code",
   "execution_count": 26,
   "metadata": {
    "cell_id": "2a3f53c73e8445f7a131289f9fcebdbe",
    "deepnote_cell_height": 61,
    "deepnote_cell_type": "code",
    "tags": []
   },
   "outputs": [
    {
     "name": "stdout",
     "output_type": "stream",
     "text": [
      "Distinct Company_Name values: ['James and Sons' 'Nichols-James' 'Scott Inc'\n",
      " 'Johnston, Fleming and Tanner' 'Baker, Allen and Edwards' 'Andrade LLC'\n",
      " 'Matthews Inc' 'Taylor-Ramos' 'Campos, Reynolds and Mccormick'\n",
      " 'White, Mcclain and Cobb' 'Thomas-Spencer' 'Bullock-Carrillo'\n",
      " 'Marshall-Holloway' 'Wallace, Smith and Shepard' 'Nelson-Li']\n"
     ]
    }
   ],
   "source": [
    "distinct_companies = df['Company_Name'].unique()\n",
    "print(f\"Distinct Company_Name values: {distinct_companies}\")"
   ]
  },
  {
   "cell_type": "markdown",
   "metadata": {
    "cell_id": "592e30ab7ef44fe797df5af4ae8ce21f",
    "deepnote_cell_type": "text-cell-h3",
    "formattedRanges": [],
    "is_collapsed": false,
    "tags": []
   },
   "source": [
    "### 41. Print the number of employees working in the company \"Nichols-James\".  "
   ]
  },
  {
   "cell_type": "code",
   "execution_count": 28,
   "metadata": {
    "cell_id": "3896ac7406a5400cb9d5ff294919b07d",
    "deepnote_cell_height": 61,
    "deepnote_cell_type": "code",
    "tags": []
   },
   "outputs": [
    {
     "name": "stdout",
     "output_type": "stream",
     "text": [
      "Number of Employees in Nichols-James: 19911\n"
     ]
    }
   ],
   "source": [
    "nichols_james = df['Company_Name'] == 'Nichols-James'\n",
    "num_employees = df[nichols_james].shape[0]\n",
    "print(f\"Number of Employees in Nichols-James: {num_employees}\")"
   ]
  },
  {
   "cell_type": "markdown",
   "metadata": {
    "cell_id": "eb195d16e2be4c289835d0b33376c0a8",
    "deepnote_cell_type": "text-cell-h3",
    "formattedRanges": [],
    "is_collapsed": false,
    "tags": []
   },
   "source": [
    "### 42-44. Print the maximum, minimum and median Employee_Salary."
   ]
  },
  {
   "cell_type": "code",
   "execution_count": 29,
   "metadata": {
    "cell_id": "cb403eb90a2d48d39e2381e0272dab34",
    "deepnote_cell_height": 61,
    "deepnote_cell_type": "code",
    "tags": []
   },
   "outputs": [
    {
     "name": "stdout",
     "output_type": "stream",
     "text": [
      "Maximum Employee Salary: 999990\n",
      "Minimum Employee Salary: 0\n",
      "Median Employee Salary: 500780.0\n"
     ]
    }
   ],
   "source": [
    "max_employee_salary = df['Employee_Salary'].max()\n",
    "min_employee_salary = df['Employee_Salary'].min()\n",
    "median_employee_salary = df['Employee_Salary'].median()\n",
    "\n",
    "print(f\"Maximum Employee Salary: {max_employee_salary}\")\n",
    "print(f\"Minimum Employee Salary: {min_employee_salary}\")\n",
    "print(f\"Median Employee Salary: {median_employee_salary}\")"
   ]
  },
  {
   "cell_type": "markdown",
   "metadata": {
    "cell_id": "bc0019f39ab54a94b39d0669902b651e",
    "deepnote_cell_type": "text-cell-h3",
    "formattedRanges": [],
    "is_collapsed": false,
    "tags": []
   },
   "source": [
    "### 45-49. Print the distribution of the following columns: (the frequency of individual entries)."
   ]
  },
  {
   "cell_type": "markdown",
   "metadata": {
    "cell_id": "36b364296e9446b290f4cb2fdb8cf94c",
    "deepnote_cell_type": "text-cell-p",
    "formattedRanges": [],
    "is_collapsed": false,
    "tags": []
   },
   "source": [
    "1. Company_Name"
   ]
  },
  {
   "cell_type": "code",
   "execution_count": 30,
   "metadata": {
    "cell_id": "ad3e3305739649cb9b550b5ad981cd57",
    "deepnote_cell_height": 61,
    "deepnote_cell_type": "code",
    "tags": []
   },
   "outputs": [
    {
     "name": "stdout",
     "output_type": "stream",
     "text": [
      "Distribution of Company_Name:\n",
      "Company_Name\n",
      "Scott Inc                         20390\n",
      "White, Mcclain and Cobb           20261\n",
      "Thomas-Spencer                    20142\n",
      "Nelson-Li                         20132\n",
      "Taylor-Ramos                      20122\n",
      "Baker, Allen and Edwards          20084\n",
      "Matthews Inc                      20083\n",
      "Bullock-Carrillo                  20063\n",
      "Andrade LLC                       19983\n",
      "Campos, Reynolds and Mccormick    19927\n",
      "Nichols-James                     19911\n",
      "James and Sons                    19868\n",
      "Marshall-Holloway                 19859\n",
      "Johnston, Fleming and Tanner      19811\n",
      "Wallace, Smith and Shepard        19364\n",
      "Name: count, dtype: int64\n"
     ]
    }
   ],
   "source": [
    "print(\"Distribution of Company_Name:\")\n",
    "print(df['Company_Name'].value_counts())"
   ]
  },
  {
   "cell_type": "markdown",
   "metadata": {
    "cell_id": "2cef1a05b8ea48c3a608881477adfa6c",
    "deepnote_cell_type": "text-cell-p",
    "formattedRanges": [],
    "is_collapsed": false,
    "tags": []
   },
   "source": [
    "2. Employee_Job_Title"
   ]
  },
  {
   "cell_type": "code",
   "execution_count": 31,
   "metadata": {
    "cell_id": "f18d63d680d2437da939105808cb798b",
    "deepnote_cell_height": 61,
    "deepnote_cell_type": "code",
    "tags": []
   },
   "outputs": [
    {
     "name": "stdout",
     "output_type": "stream",
     "text": [
      "Distribution of Employee_Job_Title:\n",
      "Employee_Job_Title\n",
      "Diplomatic Services operational officer                  30137\n",
      "Administrator                                            15222\n",
      "Garment/textile technologist                             15183\n",
      "Trading standards officer                                15155\n",
      "Patent examiner                                          15085\n",
      "Armed forces logistics/support/administrative officer    15050\n",
      "Retail merchandiser                                      15033\n",
      "Energy manager                                           15033\n",
      "Actuary                                                  15030\n",
      "Investment banker, corporate                             15008\n",
      "Ergonomist                                               15006\n",
      "Production engineer                                      15003\n",
      "Equities trader                                          15000\n",
      "Naval architect                                          14905\n",
      "Radiographer, therapeutic                                14882\n",
      "Regulatory affairs officer                               14869\n",
      "Optometrist                                              14838\n",
      "Sales promotion account executive                        14820\n",
      "Make                                                     14741\n",
      "Name: count, dtype: int64\n"
     ]
    }
   ],
   "source": [
    "print(\"Distribution of Employee_Job_Title:\")\n",
    "print(df['Employee_Job_Title'].value_counts())"
   ]
  },
  {
   "cell_type": "markdown",
   "metadata": {
    "cell_id": "869221c1ed294f3082cc0592cc1fb9f3",
    "deepnote_cell_type": "text-cell-p",
    "formattedRanges": [],
    "is_collapsed": false,
    "tags": []
   },
   "source": [
    "3. Employee_City"
   ]
  },
  {
   "cell_type": "code",
   "execution_count": 32,
   "metadata": {
    "cell_id": "aa6715ce14944daab2bfe1672bfb73e8",
    "deepnote_cell_height": 61,
    "deepnote_cell_type": "code",
    "tags": []
   },
   "outputs": [
    {
     "name": "stdout",
     "output_type": "stream",
     "text": [
      "Distribution of Employee_City:\n",
      "Employee_City\n",
      "North Melissafurt    30209\n",
      "Kristaburgh          30204\n",
      "Wardfort             30097\n",
      "Ricardomouth         30052\n",
      "Aliciafort           30037\n",
      "New Russellton       30001\n",
      "West Jamesview       29941\n",
      "Whitakerbury         29854\n",
      "Whiteside            29849\n",
      "New Cindychester     29756\n",
      "Name: count, dtype: int64\n"
     ]
    }
   ],
   "source": [
    "print(\"Distribution of Employee_City:\")\n",
    "print(df['Employee_City'].value_counts())"
   ]
  },
  {
   "cell_type": "markdown",
   "metadata": {
    "cell_id": "338993a088794a70afaf8e54d5f0d211",
    "deepnote_cell_type": "text-cell-p",
    "formattedRanges": [],
    "is_collapsed": false,
    "tags": []
   },
   "source": [
    "4. Employee_Country"
   ]
  },
  {
   "cell_type": "code",
   "execution_count": 33,
   "metadata": {
    "cell_id": "cb2e870cb1f949bf93778255862aa825",
    "deepnote_cell_height": 61,
    "deepnote_cell_type": "code",
    "tags": []
   },
   "outputs": [
    {
     "name": "stdout",
     "output_type": "stream",
     "text": [
      "Distribution of Employee_Country:\n",
      "Employee_Country\n",
      "Congo                                                  2413\n",
      "Korea                                                  2301\n",
      "British Indian Ocean Territory (Chagos Archipelago)    1344\n",
      "Egypt                                                  1322\n",
      "Turkey                                                 1308\n",
      "                                                       ... \n",
      "Saint Vincent and the Grenadines                       1147\n",
      "Czech Republic                                         1145\n",
      "Mexico                                                 1144\n",
      "Mauritania                                             1139\n",
      "Ukraine                                                1133\n",
      "Name: count, Length: 243, dtype: int64\n"
     ]
    }
   ],
   "source": [
    "print(\"Distribution of Employee_Country:\")\n",
    "print(df['Employee_Country'].value_counts())"
   ]
  },
  {
   "cell_type": "markdown",
   "metadata": {
    "cell_id": "0ef16ab127fc414380781b60ddb0b22d",
    "deepnote_cell_type": "text-cell-p",
    "formattedRanges": [],
    "is_collapsed": false,
    "tags": []
   },
   "source": [
    "5. Employment_Status"
   ]
  },
  {
   "cell_type": "code",
   "execution_count": 34,
   "metadata": {
    "cell_id": "4f0b5a3ad32945c7846cbeddaec07dfb",
    "deepnote_cell_height": 61,
    "deepnote_cell_type": "code",
    "tags": []
   },
   "outputs": [
    {
     "name": "stdout",
     "output_type": "stream",
     "text": [
      "Distribution of Employment_Status:\n",
      "Employment_Status\n",
      "Full Time    240010\n",
      "Intern        59990\n",
      "Name: count, dtype: int64\n"
     ]
    }
   ],
   "source": [
    "print(\"Distribution of Employment_Status:\")\n",
    "print(df['Employment_Status'].value_counts())"
   ]
  },
  {
   "cell_type": "markdown",
   "metadata": {
    "cell_id": "2fad5fffa96346b286d0be0e82c439ab",
    "deepnote_cell_type": "text-cell-h3",
    "formattedRanges": [],
    "is_collapsed": false,
    "tags": []
   },
   "source": [
    "### 50. Print the company with the most number of employees."
   ]
  },
  {
   "cell_type": "code",
   "execution_count": 36,
   "metadata": {
    "cell_id": "641282a9baa34bc191210cc6b37745be",
    "deepnote_cell_height": 61,
    "deepnote_cell_type": "code",
    "tags": []
   },
   "outputs": [
    {
     "name": "stdout",
     "output_type": "stream",
     "text": [
      "Company with the most number of employees: Scott Inc\n"
     ]
    }
   ],
   "source": [
    "# Group by 'Company_Name' and count the number of employees per company\n",
    "company_counts = df['Company_Name'].value_counts()\n",
    "\n",
    "# Find the company with the most number of employees\n",
    "most_employees_company = company_counts.idxmax()\n",
    "\n",
    "# Print the company with the most number of employees and the count\n",
    "print(f\"Company with the most number of employees: {most_employees_company}\")"
   ]
  },
  {
   "cell_type": "markdown",
   "metadata": {
    "cell_id": "1e30e2269bd64f1381aa5ba5eca9662e",
    "deepnote_cell_type": "text-cell-h3",
    "formattedRanges": [],
    "is_collapsed": false,
    "tags": []
   },
   "source": [
    "### 51. Print the number of employees in the above company. "
   ]
  },
  {
   "cell_type": "code",
   "execution_count": 37,
   "metadata": {
    "cell_id": "cb0575e8a0c94ef0ad378c51bfa1d478",
    "deepnote_cell_height": 61,
    "deepnote_cell_type": "code",
    "tags": []
   },
   "outputs": [
    {
     "name": "stdout",
     "output_type": "stream",
     "text": [
      "Number of employees: 20390\n"
     ]
    }
   ],
   "source": [
    "most_employees_count = company_counts.max()\n",
    "print(f\"Number of employees: {most_employees_count}\")"
   ]
  },
  {
   "cell_type": "markdown",
   "metadata": {
    "cell_id": "0d1dee0410e6492bb1593d07681d0c0e",
    "deepnote_cell_type": "text-cell-h3",
    "formattedRanges": [],
    "is_collapsed": false,
    "tags": []
   },
   "source": [
    "### 52. Print the company with the least number of employees."
   ]
  },
  {
   "cell_type": "code",
   "execution_count": 39,
   "metadata": {
    "cell_id": "95cba32e71b44519a838eefbeaad8415",
    "deepnote_cell_height": 61,
    "deepnote_cell_type": "code",
    "tags": []
   },
   "outputs": [
    {
     "name": "stdout",
     "output_type": "stream",
     "text": [
      "Company with least number of employees: Wallace, Smith and Shepard\n"
     ]
    }
   ],
   "source": [
    "least_employees_company = company_counts.idxmin()\n",
    "print(f\"Company with least number of employees: {least_employees_company}\")"
   ]
  },
  {
   "cell_type": "markdown",
   "metadata": {
    "cell_id": "638bbd5be0ab415d9ce6763439bdd1df",
    "deepnote_cell_type": "text-cell-h3",
    "formattedRanges": [],
    "is_collapsed": false,
    "tags": []
   },
   "source": [
    "### 53. Print the number of employees in the above company. "
   ]
  },
  {
   "cell_type": "code",
   "execution_count": 40,
   "metadata": {
    "cell_id": "2626ab0f4bcd45cda8ba8ab398b2bf0a",
    "deepnote_cell_height": 61,
    "deepnote_cell_type": "code",
    "tags": []
   },
   "outputs": [
    {
     "name": "stdout",
     "output_type": "stream",
     "text": [
      "Number of employees: 19364\n"
     ]
    }
   ],
   "source": [
    "least_employees_count = company_counts.min()\n",
    "print(f\"Number of employees: {least_employees_count}\")"
   ]
  },
  {
   "cell_type": "markdown",
   "metadata": {
    "cell_id": "86fb3cfcf96a46379896ae9c28ef1831",
    "deepnote_cell_type": "text-cell-h3",
    "formattedRanges": [],
    "is_collapsed": false,
    "tags": []
   },
   "source": [
    "### 54. Print the employee details with the maximum salary"
   ]
  },
  {
   "cell_type": "code",
   "execution_count": 41,
   "metadata": {
    "cell_id": "74f58c0a385c43a49f5529658ef6ef36",
    "deepnote_cell_height": 61,
    "deepnote_cell_type": "code",
    "tags": []
   },
   "outputs": [
    {
     "name": "stdout",
     "output_type": "stream",
     "text": [
      "Employee details with the maximum salary:               Name  Company_Name   Employee_Job_Title Employee_City  \\\n",
      "70356  Anna Lawson  Taylor-Ramos  Production engineer   Kristaburgh   \n",
      "\n",
      "      Employee_Country  Employee_Salary Employment_Status  Employee_Rating  \n",
      "70356          Lesotho           999990         Full Time              4.0  \n"
     ]
    }
   ],
   "source": [
    "# Find the maximum salary\n",
    "max_salary = df['Employee_Salary'].max()\n",
    "\n",
    "# Filter DataFrame to get the employee details with the maximum salary\n",
    "employee_max_salary = df[df['Employee_Salary'] == max_salary]\n",
    "print(f\"Employee details with the maximum salary: {employee_max_salary}\")"
   ]
  },
  {
   "cell_type": "markdown",
   "metadata": {
    "cell_id": "f2d798c4d5264760b5bb9a482c108878",
    "deepnote_cell_type": "text-cell-h3",
    "formattedRanges": [],
    "is_collapsed": false,
    "tags": []
   },
   "source": [
    "### 55. Print the employee details with the maximum rating"
   ]
  },
  {
   "cell_type": "code",
   "execution_count": 42,
   "metadata": {
    "cell_id": "f5752c4edcff43a5a98803760f42a414",
    "deepnote_cell_height": 61,
    "deepnote_cell_type": "code",
    "tags": []
   },
   "outputs": [
    {
     "name": "stdout",
     "output_type": "stream",
     "text": [
      "Employee details with the maximum rating:                     Name                  Company_Name  \\\n",
      "124       Joshua Huffman                James and Sons   \n",
      "342         Alan Carlson      Baker, Allen and Edwards   \n",
      "391         Lisa Summers  Johnston, Fleming and Tanner   \n",
      "395        Timothy Woods  Johnston, Fleming and Tanner   \n",
      "415      Cameron Hawkins                  Taylor-Ramos   \n",
      "...                  ...                           ...   \n",
      "299689    Michael Jordan  Johnston, Fleming and Tanner   \n",
      "299855  Rebecca Garrison                     Nelson-Li   \n",
      "299900      Daniel Jones                  Taylor-Ramos   \n",
      "299906     Justin Mendez              Bullock-Carrillo   \n",
      "299973      Doris Miller                   Andrade LLC   \n",
      "\n",
      "                                       Employee_Job_Title      Employee_City  \\\n",
      "124                          Garment/textile technologist     New Russellton   \n",
      "342               Diplomatic Services operational officer        Kristaburgh   \n",
      "391                            Regulatory affairs officer  North Melissafurt   \n",
      "395                          Garment/textile technologist          Whiteside   \n",
      "415     Armed forces logistics/support/administrative ...           Wardfort   \n",
      "...                                                   ...                ...   \n",
      "299689                                    Naval architect       Whitakerbury   \n",
      "299855                                Production engineer       Whitakerbury   \n",
      "299900                  Sales promotion account executive        Kristaburgh   \n",
      "299906                         Regulatory affairs officer   New Cindychester   \n",
      "299973  Armed forces logistics/support/administrative ...           Wardfort   \n",
      "\n",
      "                    Employee_Country  Employee_Salary Employment_Status  \\\n",
      "124                     Cook Islands           694760         Full Time   \n",
      "342                         Mongolia           491710            Intern   \n",
      "391                             Togo           933500         Full Time   \n",
      "395     United States Virgin Islands           367630         Full Time   \n",
      "415                         Tanzania            66570            Intern   \n",
      "...                              ...              ...               ...   \n",
      "299689                   Philippines           474540         Full Time   \n",
      "299855                       Ireland           592530         Full Time   \n",
      "299900                  Sierra Leone            32160         Full Time   \n",
      "299906                      Colombia           374540         Full Time   \n",
      "299973                    Kazakhstan           943340            Intern   \n",
      "\n",
      "        Employee_Rating  \n",
      "124                 5.0  \n",
      "342                 5.0  \n",
      "391                 5.0  \n",
      "395                 5.0  \n",
      "415                 5.0  \n",
      "...                 ...  \n",
      "299689              5.0  \n",
      "299855              5.0  \n",
      "299900              5.0  \n",
      "299906              5.0  \n",
      "299973              5.0  \n",
      "\n",
      "[2985 rows x 8 columns]\n"
     ]
    }
   ],
   "source": [
    "# Find the maximum rating\n",
    "max_rating = df['Employee_Rating'].max()\n",
    "\n",
    "# Filter DataFrame to get the employee details with the maximum rating\n",
    "employee_max_rating = df[df['Employee_Rating'] == max_rating]\n",
    "print(f\"Employee details with the maximum rating: {employee_max_rating}\")"
   ]
  },
  {
   "cell_type": "markdown",
   "metadata": {
    "cell_id": "3882d609c5514c09817bdbf5b18ac4e6",
    "deepnote_cell_type": "text-cell-h3",
    "formattedRanges": [],
    "is_collapsed": false,
    "tags": []
   },
   "source": [
    "### 56. Print the Company_Name with most number of employees in 'Wardfort' city."
   ]
  },
  {
   "cell_type": "code",
   "execution_count": 46,
   "metadata": {
    "cell_id": "e16938f5670c4c2ba3016fad424d7a4f",
    "deepnote_cell_height": 61,
    "deepnote_cell_type": "code",
    "tags": []
   },
   "outputs": [
    {
     "name": "stdout",
     "output_type": "stream",
     "text": [
      "Company with the most number of employees in 'Wardfort': White, Mcclain and Cobb\n",
      "Number of employees: 2069\n"
     ]
    }
   ],
   "source": [
    "# Filter the DataFrame for employees in 'Wardfort' city\n",
    "df_wardfort = df[df['Employee_City'] == 'Wardfort']\n",
    "\n",
    "# Group by 'Company_Name' and count the number of employees per company\n",
    "company_counts = df_wardfort['Company_Name'].value_counts()\n",
    "\n",
    "# Find the company with the most number of employees in 'Wardfort'\n",
    "most_employees_company = company_counts.idxmax()\n",
    "most_employees_count = company_counts.max()\n",
    "\n",
    "# Print the company with the most number of employees in 'Wardfort' and the count\n",
    "print(f\"Company with the most number of employees in 'Wardfort': {most_employees_company}\")\n",
    "print(f\"Number of employees: {most_employees_count}\")"
   ]
  },
  {
   "cell_type": "markdown",
   "metadata": {
    "cell_id": "2afd81bf77f14c5d8c5572ee741d8d11",
    "deepnote_cell_type": "text-cell-h3",
    "formattedRanges": [],
    "is_collapsed": false,
    "tags": []
   },
   "source": [
    "### 57. Change the Data type of 'Employee_Salary' column to float."
   ]
  },
  {
   "cell_type": "code",
   "execution_count": 47,
   "metadata": {
    "cell_id": "64949cb3539045f1a3f1c14d6de508f2",
    "deepnote_cell_height": 61,
    "deepnote_cell_type": "code",
    "tags": []
   },
   "outputs": [
    {
     "name": "stdout",
     "output_type": "stream",
     "text": [
      "Name                   object\n",
      "Company_Name           object\n",
      "Employee_Job_Title     object\n",
      "Employee_City          object\n",
      "Employee_Country       object\n",
      "Employee_Salary       float64\n",
      "Employment_Status      object\n",
      "Employee_Rating       float64\n",
      "dtype: object\n"
     ]
    }
   ],
   "source": [
    "import pandas as pd\n",
    "\n",
    "# File path\n",
    "file_name = \"employee_dataset.csv\"\n",
    "\n",
    "# Read CSV file into DataFrame\n",
    "df = pd.read_csv(file_name)\n",
    "\n",
    "# Change the data type of 'Employee_Salary' column to float\n",
    "df['Employee_Salary'] = df['Employee_Salary'].astype(float)\n",
    "\n",
    "# Verify the change by printing the data types\n",
    "print(df.dtypes)\n"
   ]
  },
  {
   "cell_type": "markdown",
   "metadata": {
    "cell_id": "7af651b8948d487e8539d12f8922470b",
    "deepnote_cell_type": "text-cell-h3",
    "formattedRanges": [],
    "is_collapsed": false,
    "tags": []
   },
   "source": [
    "### 58. Print the Employee_City with the most number of 'Production engineer'."
   ]
  },
  {
   "cell_type": "code",
   "execution_count": 49,
   "metadata": {
    "cell_id": "504f019e82ee448b9bb2c6c6bd837d80",
    "deepnote_cell_height": 61,
    "deepnote_cell_type": "code",
    "tags": []
   },
   "outputs": [
    {
     "name": "stdout",
     "output_type": "stream",
     "text": [
      "City with the most number of 'Production Engineer': Aliciafort\n",
      "Number of 'Production Engineer' in that city: 1588\n"
     ]
    }
   ],
   "source": [
    "# Filter the DataFrame for 'Production Engineer' job title\n",
    "df_production_engineer = df[df['Employee_Job_Title'] == 'Production engineer']\n",
    "\n",
    "# Group by 'Employee_City' and count the number of employees per city\n",
    "city_counts = df_production_engineer['Employee_City'].value_counts()\n",
    "\n",
    "# Find the city with the most number of 'Production Engineer'\n",
    "most_employees_city = city_counts.idxmax()\n",
    "most_employees_count = city_counts.max()\n",
    "\n",
    "# Print the city with the most number of 'Production Engineer' and the count\n",
    "print(f\"City with the most number of 'Production Engineer': {most_employees_city}\")\n",
    "print(f\"Number of 'Production Engineer' in that city: {most_employees_count}\")"
   ]
  },
  {
   "cell_type": "markdown",
   "metadata": {
    "cell_id": "838afc70674049d1ba0cc4f78cb1b32f",
    "deepnote_cell_type": "text-cell-h3",
    "formattedRanges": [],
    "is_collapsed": false,
    "tags": []
   },
   "source": [
    "### 59. Print the Company_Name with the most number of Full-time Employees. "
   ]
  },
  {
   "cell_type": "code",
   "execution_count": 97,
   "metadata": {
    "cell_id": "07d8532a916645e88ed279ae41faf4fe",
    "deepnote_cell_height": 61,
    "deepnote_cell_type": "code",
    "tags": []
   },
   "outputs": [
    {
     "ename": "ValueError",
     "evalue": "attempt to get argmax of an empty sequence",
     "output_type": "error",
     "traceback": [
      "\u001b[0;31m---------------------------------------------------------------------------\u001b[0m",
      "\u001b[0;31mValueError\u001b[0m                                Traceback (most recent call last)",
      "Cell \u001b[0;32mIn[97], line 8\u001b[0m\n\u001b[1;32m      5\u001b[0m full_time_employee_counts \u001b[38;5;241m=\u001b[39m full_time_employees[\u001b[38;5;124m'\u001b[39m\u001b[38;5;124mCompany_Name\u001b[39m\u001b[38;5;124m'\u001b[39m]\u001b[38;5;241m.\u001b[39mvalue_counts()\n\u001b[1;32m      7\u001b[0m \u001b[38;5;66;03m# Get the company with the maximum full-time employees\u001b[39;00m\n\u001b[0;32m----> 8\u001b[0m company_with_max_full_time_employees \u001b[38;5;241m=\u001b[39m \u001b[43mfull_time_employee_counts\u001b[49m\u001b[38;5;241;43m.\u001b[39;49m\u001b[43midxmax\u001b[49m\u001b[43m(\u001b[49m\u001b[43m)\u001b[49m\n\u001b[1;32m     10\u001b[0m \u001b[38;5;66;03m# Print the company name\u001b[39;00m\n\u001b[1;32m     11\u001b[0m \u001b[38;5;28mprint\u001b[39m(\u001b[38;5;124mf\u001b[39m\u001b[38;5;124m\"\u001b[39m\u001b[38;5;124mThe company with the most number of full-time employees is: \u001b[39m\u001b[38;5;132;01m{\u001b[39;00mcompany_with_max_full_time_employees\u001b[38;5;132;01m}\u001b[39;00m\u001b[38;5;124m\"\u001b[39m)\n",
      "File \u001b[0;32m~/opt/anaconda3/lib/python3.9/site-packages/pandas/core/series.py:2761\u001b[0m, in \u001b[0;36mSeries.idxmax\u001b[0;34m(self, axis, skipna, *args, **kwargs)\u001b[0m\n\u001b[1;32m   2756\u001b[0m \u001b[38;5;28;01mwith\u001b[39;00m warnings\u001b[38;5;241m.\u001b[39mcatch_warnings():\n\u001b[1;32m   2757\u001b[0m     \u001b[38;5;66;03m# TODO(3.0): this catching/filtering can be removed\u001b[39;00m\n\u001b[1;32m   2758\u001b[0m     \u001b[38;5;66;03m# ignore warning produced by argmax since we will issue a different\u001b[39;00m\n\u001b[1;32m   2759\u001b[0m     \u001b[38;5;66;03m#  warning for argmax\u001b[39;00m\n\u001b[1;32m   2760\u001b[0m     warnings\u001b[38;5;241m.\u001b[39msimplefilter(\u001b[38;5;124m\"\u001b[39m\u001b[38;5;124mignore\u001b[39m\u001b[38;5;124m\"\u001b[39m)\n\u001b[0;32m-> 2761\u001b[0m     i \u001b[38;5;241m=\u001b[39m \u001b[38;5;28;43mself\u001b[39;49m\u001b[38;5;241;43m.\u001b[39;49m\u001b[43margmax\u001b[49m\u001b[43m(\u001b[49m\u001b[43maxis\u001b[49m\u001b[43m,\u001b[49m\u001b[43m \u001b[49m\u001b[43mskipna\u001b[49m\u001b[43m,\u001b[49m\u001b[43m \u001b[49m\u001b[38;5;241;43m*\u001b[39;49m\u001b[43margs\u001b[49m\u001b[43m,\u001b[49m\u001b[43m \u001b[49m\u001b[38;5;241;43m*\u001b[39;49m\u001b[38;5;241;43m*\u001b[39;49m\u001b[43mkwargs\u001b[49m\u001b[43m)\u001b[49m\n\u001b[1;32m   2763\u001b[0m \u001b[38;5;28;01mif\u001b[39;00m i \u001b[38;5;241m==\u001b[39m \u001b[38;5;241m-\u001b[39m\u001b[38;5;241m1\u001b[39m:\n\u001b[1;32m   2764\u001b[0m     \u001b[38;5;66;03m# GH#43587 give correct NA value for Index.\u001b[39;00m\n\u001b[1;32m   2765\u001b[0m     warnings\u001b[38;5;241m.\u001b[39mwarn(\n\u001b[1;32m   2766\u001b[0m         \u001b[38;5;124mf\u001b[39m\u001b[38;5;124m\"\u001b[39m\u001b[38;5;124mThe behavior of \u001b[39m\u001b[38;5;132;01m{\u001b[39;00m\u001b[38;5;28mtype\u001b[39m(\u001b[38;5;28mself\u001b[39m)\u001b[38;5;241m.\u001b[39m\u001b[38;5;18m__name__\u001b[39m\u001b[38;5;132;01m}\u001b[39;00m\u001b[38;5;124m.idxmax with all-NA \u001b[39m\u001b[38;5;124m\"\u001b[39m\n\u001b[1;32m   2767\u001b[0m         \u001b[38;5;124m\"\u001b[39m\u001b[38;5;124mvalues, or any-NA and skipna=False, is deprecated. In a future \u001b[39m\u001b[38;5;124m\"\u001b[39m\n\u001b[0;32m   (...)\u001b[0m\n\u001b[1;32m   2770\u001b[0m         stacklevel\u001b[38;5;241m=\u001b[39mfind_stack_level(),\n\u001b[1;32m   2771\u001b[0m     )\n",
      "File \u001b[0;32m~/opt/anaconda3/lib/python3.9/site-packages/pandas/core/base.py:751\u001b[0m, in \u001b[0;36mIndexOpsMixin.argmax\u001b[0;34m(self, axis, skipna, *args, **kwargs)\u001b[0m\n\u001b[1;32m    749\u001b[0m         \u001b[38;5;28;01mreturn\u001b[39;00m delegate\u001b[38;5;241m.\u001b[39margmax()\n\u001b[1;32m    750\u001b[0m \u001b[38;5;28;01melse\u001b[39;00m:\n\u001b[0;32m--> 751\u001b[0m     result \u001b[38;5;241m=\u001b[39m \u001b[43mnanops\u001b[49m\u001b[38;5;241;43m.\u001b[39;49m\u001b[43mnanargmax\u001b[49m\u001b[43m(\u001b[49m\u001b[43mdelegate\u001b[49m\u001b[43m,\u001b[49m\u001b[43m \u001b[49m\u001b[43mskipna\u001b[49m\u001b[38;5;241;43m=\u001b[39;49m\u001b[43mskipna\u001b[49m\u001b[43m)\u001b[49m\n\u001b[1;32m    752\u001b[0m     \u001b[38;5;28;01mif\u001b[39;00m result \u001b[38;5;241m==\u001b[39m \u001b[38;5;241m-\u001b[39m\u001b[38;5;241m1\u001b[39m:\n\u001b[1;32m    753\u001b[0m         warnings\u001b[38;5;241m.\u001b[39mwarn(\n\u001b[1;32m    754\u001b[0m             \u001b[38;5;124mf\u001b[39m\u001b[38;5;124m\"\u001b[39m\u001b[38;5;124mThe behavior of \u001b[39m\u001b[38;5;132;01m{\u001b[39;00m\u001b[38;5;28mtype\u001b[39m(\u001b[38;5;28mself\u001b[39m)\u001b[38;5;241m.\u001b[39m\u001b[38;5;18m__name__\u001b[39m\u001b[38;5;132;01m}\u001b[39;00m\u001b[38;5;124m.argmax/argmin \u001b[39m\u001b[38;5;124m\"\u001b[39m\n\u001b[1;32m    755\u001b[0m             \u001b[38;5;124m\"\u001b[39m\u001b[38;5;124mwith skipna=False and NAs, or with all-NAs is deprecated. \u001b[39m\u001b[38;5;124m\"\u001b[39m\n\u001b[0;32m   (...)\u001b[0m\n\u001b[1;32m    758\u001b[0m             stacklevel\u001b[38;5;241m=\u001b[39mfind_stack_level(),\n\u001b[1;32m    759\u001b[0m         )\n",
      "File \u001b[0;32m~/opt/anaconda3/lib/python3.9/site-packages/pandas/core/nanops.py:1148\u001b[0m, in \u001b[0;36mnanargmax\u001b[0;34m(values, axis, skipna, mask)\u001b[0m\n\u001b[1;32m   1116\u001b[0m \u001b[38;5;250m\u001b[39m\u001b[38;5;124;03m\"\"\"\u001b[39;00m\n\u001b[1;32m   1117\u001b[0m \u001b[38;5;124;03mParameters\u001b[39;00m\n\u001b[1;32m   1118\u001b[0m \u001b[38;5;124;03m----------\u001b[39;00m\n\u001b[0;32m   (...)\u001b[0m\n\u001b[1;32m   1145\u001b[0m \u001b[38;5;124;03marray([2, 2, 1, 1])\u001b[39;00m\n\u001b[1;32m   1146\u001b[0m \u001b[38;5;124;03m\"\"\"\u001b[39;00m\n\u001b[1;32m   1147\u001b[0m values, mask \u001b[38;5;241m=\u001b[39m _get_values(values, \u001b[38;5;28;01mTrue\u001b[39;00m, fill_value_typ\u001b[38;5;241m=\u001b[39m\u001b[38;5;124m\"\u001b[39m\u001b[38;5;124m-inf\u001b[39m\u001b[38;5;124m\"\u001b[39m, mask\u001b[38;5;241m=\u001b[39mmask)\n\u001b[0;32m-> 1148\u001b[0m result \u001b[38;5;241m=\u001b[39m \u001b[43mvalues\u001b[49m\u001b[38;5;241;43m.\u001b[39;49m\u001b[43margmax\u001b[49m\u001b[43m(\u001b[49m\u001b[43maxis\u001b[49m\u001b[43m)\u001b[49m\n\u001b[1;32m   1149\u001b[0m \u001b[38;5;66;03m# error: Argument 1 to \"_maybe_arg_null_out\" has incompatible type \"Any |\u001b[39;00m\n\u001b[1;32m   1150\u001b[0m \u001b[38;5;66;03m# signedinteger[Any]\"; expected \"ndarray[Any, Any]\"\u001b[39;00m\n\u001b[1;32m   1151\u001b[0m result \u001b[38;5;241m=\u001b[39m _maybe_arg_null_out(result, axis, mask, skipna)  \u001b[38;5;66;03m# type: ignore[arg-type]\u001b[39;00m\n",
      "\u001b[0;31mValueError\u001b[0m: attempt to get argmax of an empty sequence"
     ]
    }
   ],
   "source": [
    "# Filter rows where 'Employment_Status' is 'Full-time'\n",
    "full_time_employees = df[df['Employment_Status'] == 'Full-time']\n",
    "\n",
    "# Group by 'Company_Name' and count the number of employees\n",
    "full_time_employee_counts = full_time_employees['Company_Name'].value_counts()\n",
    "\n",
    "# Get the company with the maximum full-time employees\n",
    "company_with_max_full_time_employees = full_time_employee_counts.idxmax()\n",
    "\n",
    "# Print the company name\n",
    "print(f\"The company with the most number of full-time employees is: {company_with_max_full_time_employees}\")"
   ]
  },
  {
   "cell_type": "markdown",
   "metadata": {
    "cell_id": "9d7fccfd64c142aeb57be6dcb22a8736",
    "deepnote_cell_type": "text-cell-h3",
    "formattedRanges": [],
    "is_collapsed": false,
    "tags": []
   },
   "source": [
    "### 60. Print the Company_Name with the highest average 'Employee_Rating'. "
   ]
  },
  {
   "cell_type": "code",
   "execution_count": 54,
   "metadata": {
    "cell_id": "3ad191b1b2a94c2a8151d66184808892",
    "deepnote_cell_height": 61,
    "deepnote_cell_type": "code",
    "tags": []
   },
   "outputs": [
    {
     "name": "stdout",
     "output_type": "stream",
     "text": [
      "Company with the highest average 'Employee_Rating': Matthews Inc\n",
      "Highest average 'Employee_Rating': 2.5254543643877905\n"
     ]
    }
   ],
   "source": [
    "# Group by 'Company_Name' and calculate the average 'Employee_Rating' for each company\n",
    "average_ratings = df.groupby('Company_Name')['Employee_Rating'].mean()\n",
    "\n",
    "# Find the company with the highest average rating\n",
    "highest_avg_rating_company = average_ratings.idxmax()\n",
    "highest_avg_rating = average_ratings.max()\n",
    "\n",
    "# Print the company with the highest average rating and the average rating\n",
    "print(f\"Company with the highest average 'Employee_Rating': {highest_avg_rating_company}\")\n",
    "print(f\"Highest average 'Employee_Rating': {highest_avg_rating}\")"
   ]
  },
  {
   "cell_type": "markdown",
   "metadata": {
    "cell_id": "50148e9a859d4fba9f7ce6cc0f49b1b0",
    "deepnote_cell_type": "text-cell-h3",
    "formattedRanges": [],
    "is_collapsed": false,
    "tags": []
   },
   "source": [
    "### 61. Print the number of employees working in 'Ricardomouth' and 'Kristaburgh' location combined."
   ]
  },
  {
   "cell_type": "code",
   "execution_count": 55,
   "metadata": {
    "cell_id": "cee0c52d672c433c9e1efdcf96f07841",
    "deepnote_cell_height": 61,
    "deepnote_cell_type": "code",
    "tags": []
   },
   "outputs": [
    {
     "name": "stdout",
     "output_type": "stream",
     "text": [
      "Number of employees working in 'Ricardomouth' and 'Kristaburgh': 60256\n"
     ]
    }
   ],
   "source": [
    "# Filter the DataFrame for employees in 'Ricardomouth' and 'Kristaburgh'\n",
    "df_filtered = df[df['Employee_City'].isin(['Ricardomouth', 'Kristaburgh'])]\n",
    "\n",
    "# Count the number of employees in the filtered DataFrame\n",
    "num_employees_combined = df_filtered.shape[0]\n",
    "\n",
    "# Print the number of employees working in 'Ricardomouth' and 'Kristaburgh' combined\n",
    "print(f\"Number of employees working in 'Ricardomouth' and 'Kristaburgh': {num_employees_combined}\")"
   ]
  },
  {
   "cell_type": "markdown",
   "metadata": {
    "cell_id": "7e451bb028ea44798d4d08f8a8296f4d",
    "deepnote_cell_type": "text-cell-h3",
    "formattedRanges": [],
    "is_collapsed": false,
    "tags": []
   },
   "source": [
    "### 62. Print the distinct Company_Name corresponding to the 5 highest paid employees in the dataset. "
   ]
  },
  {
   "cell_type": "code",
   "execution_count": 57,
   "metadata": {
    "cell_id": "08d9361596954c5692415b98c870a21e",
    "deepnote_cell_height": 61,
    "deepnote_cell_type": "code",
    "tags": []
   },
   "outputs": [
    {
     "name": "stdout",
     "output_type": "stream",
     "text": [
      "Distinct Company_Name corresponding to the 5 highest-paid employees:\n",
      "['Taylor-Ramos' 'Thomas-Spencer' 'White, Mcclain and Cobb'\n",
      " 'Campos, Reynolds and Mccormick']\n"
     ]
    }
   ],
   "source": [
    "# Sort the DataFrame by 'Employee_Salary' in descending order\n",
    "df_sorted = df.sort_values(by='Employee_Salary', ascending=False)\n",
    "\n",
    "# Select the top 5 highest-paid employees\n",
    "top_5_employees = df_sorted.head(5)\n",
    "\n",
    "# Extract the distinct 'Company_Name' values\n",
    "distinct_companies = top_5_employees['Company_Name'].unique()\n",
    "\n",
    "# Print the distinct 'Company_Name' corresponding to the 5 highest-paid employees\n",
    "print(\"Distinct Company_Name corresponding to the 5 highest-paid employees:\")\n",
    "print(distinct_companies)"
   ]
  },
  {
   "cell_type": "markdown",
   "metadata": {
    "cell_id": "995c0f6226514fc4972e0c2539f0ba07",
    "deepnote_cell_type": "text-cell-h3",
    "formattedRanges": [],
    "is_collapsed": false,
    "tags": []
   },
   "source": [
    "### 63. Check if there are any duplicate rows in the DataFrame. "
   ]
  },
  {
   "cell_type": "code",
   "execution_count": 59,
   "metadata": {
    "cell_id": "151ad55dca154946bad786d5b8bce912",
    "deepnote_cell_height": 61,
    "deepnote_cell_type": "code",
    "tags": []
   },
   "outputs": [
    {
     "name": "stdout",
     "output_type": "stream",
     "text": [
      "There are no duplicate rows in the DataFrame.\n"
     ]
    }
   ],
   "source": [
    "duplicated_rows = df.duplicated().any()\n",
    "\n",
    "# Print if there are any duplicate rows\n",
    "if duplicated_rows:\n",
    "    print(\"There are duplicate rows in the DataFrame.\")\n",
    "else:\n",
    "    print(\"There are no duplicate rows in the DataFrame.\")"
   ]
  },
  {
   "cell_type": "markdown",
   "metadata": {
    "cell_id": "ea776f6741b746e3b94b786cc647fa1d",
    "deepnote_cell_type": "text-cell-h3",
    "formattedRanges": [],
    "is_collapsed": false,
    "tags": []
   },
   "source": [
    "### 64. Check if any of the columns has NaN values. "
   ]
  },
  {
   "cell_type": "code",
   "execution_count": 60,
   "metadata": {
    "cell_id": "41f4150913b544c8b08cabe57689a326",
    "deepnote_cell_height": 61,
    "deepnote_cell_type": "code",
    "tags": []
   },
   "outputs": [
    {
     "name": "stdout",
     "output_type": "stream",
     "text": [
      "No columns have NaN values.\n"
     ]
    }
   ],
   "source": [
    "# Check for NaN values in each column\n",
    "nan_columns = df.isnull().any()\n",
    "\n",
    "# Print columns that have NaN values\n",
    "columns_with_nan = nan_columns[nan_columns].index.tolist()\n",
    "\n",
    "if columns_with_nan:\n",
    "    print(\"Columns with NaN values:\")\n",
    "    print(columns_with_nan)\n",
    "else:\n",
    "    print(\"No columns have NaN values.\")"
   ]
  },
  {
   "cell_type": "markdown",
   "metadata": {
    "cell_id": "af9d3affe25a46aaaf2b5a7bd867f546",
    "deepnote_cell_type": "text-cell-h3",
    "formattedRanges": [],
    "is_collapsed": false,
    "tags": []
   },
   "source": [
    "### 65. Print the data type of every column in the DataFrame."
   ]
  },
  {
   "cell_type": "code",
   "execution_count": 61,
   "metadata": {
    "cell_id": "95f33775bdca4fa1a89525831a117694",
    "deepnote_cell_height": 61,
    "deepnote_cell_type": "code",
    "tags": []
   },
   "outputs": [
    {
     "name": "stdout",
     "output_type": "stream",
     "text": [
      "Data types of each column in the DataFrame:\n",
      "Name                   object\n",
      "Company_Name           object\n",
      "Employee_Job_Title     object\n",
      "Employee_City          object\n",
      "Employee_Country       object\n",
      "Employee_Salary       float64\n",
      "Employment_Status      object\n",
      "Employee_Rating       float64\n",
      "dtype: object\n"
     ]
    }
   ],
   "source": [
    "# Print the data type of every column\n",
    "print(\"Data types of each column in the DataFrame:\")\n",
    "print(df.dtypes)"
   ]
  },
  {
   "cell_type": "markdown",
   "metadata": {
    "cell_id": "9d53727e900b474f81af82a0a68df6e1",
    "deepnote_cell_type": "text-cell-h3",
    "formattedRanges": [],
    "is_collapsed": false,
    "tags": []
   },
   "source": [
    "### 66. Print the Company_Name column only as a Series"
   ]
  },
  {
   "cell_type": "code",
   "execution_count": 62,
   "metadata": {
    "cell_id": "90911acb00ec4468b70015b051c7d6a9",
    "deepnote_cell_height": 61,
    "deepnote_cell_type": "code",
    "tags": []
   },
   "outputs": [
    {
     "name": "stdout",
     "output_type": "stream",
     "text": [
      "0                       James and Sons\n",
      "1                        Nichols-James\n",
      "2                            Scott Inc\n",
      "3         Johnston, Fleming and Tanner\n",
      "4             Baker, Allen and Edwards\n",
      "                      ...             \n",
      "299995                Bullock-Carrillo\n",
      "299996    Johnston, Fleming and Tanner\n",
      "299997                   Nichols-James\n",
      "299998                   Nichols-James\n",
      "299999                  James and Sons\n",
      "Name: Company_Name, Length: 300000, dtype: object\n"
     ]
    }
   ],
   "source": [
    "# Print the 'Company_Name' column as a Series\n",
    "company_name_series = df['Company_Name']\n",
    "print(company_name_series)"
   ]
  },
  {
   "cell_type": "markdown",
   "metadata": {
    "cell_id": "7209fedbfa5a4e6bb193a14dbfc28e7b",
    "deepnote_cell_type": "text-cell-h3",
    "formattedRanges": [],
    "is_collapsed": false,
    "tags": []
   },
   "source": [
    "### 67. Print the Company_Name column only as a DataFrame"
   ]
  },
  {
   "cell_type": "code",
   "execution_count": 63,
   "metadata": {
    "cell_id": "a90fea448dc642b0afdfa32e9b9ae649",
    "deepnote_cell_height": 61,
    "deepnote_cell_type": "code",
    "tags": []
   },
   "outputs": [
    {
     "name": "stdout",
     "output_type": "stream",
     "text": [
      "                        Company_Name\n",
      "0                     James and Sons\n",
      "1                      Nichols-James\n",
      "2                          Scott Inc\n",
      "3       Johnston, Fleming and Tanner\n",
      "4           Baker, Allen and Edwards\n",
      "...                              ...\n",
      "299995              Bullock-Carrillo\n",
      "299996  Johnston, Fleming and Tanner\n",
      "299997                 Nichols-James\n",
      "299998                 Nichols-James\n",
      "299999                James and Sons\n",
      "\n",
      "[300000 rows x 1 columns]\n"
     ]
    }
   ],
   "source": [
    "# Print the 'Company_Name' column as a DataFrame\n",
    "company_name_df = df[['Company_Name']]\n",
    "print(company_name_df)"
   ]
  },
  {
   "cell_type": "markdown",
   "metadata": {
    "cell_id": "740ca45cabaf4537a773ac6e7e075c26",
    "deepnote_cell_type": "text-cell-h3",
    "formattedRanges": [],
    "is_collapsed": false,
    "tags": []
   },
   "source": [
    "### 68. Select the 'Employee_Job_Title' and 'Employee_City' column. "
   ]
  },
  {
   "cell_type": "code",
   "execution_count": 64,
   "metadata": {
    "cell_id": "301603ca13d347eba9407970aeebfae7",
    "deepnote_cell_height": 61,
    "deepnote_cell_type": "code",
    "tags": []
   },
   "outputs": [
    {
     "name": "stdout",
     "output_type": "stream",
     "text": [
      "                             Employee_Job_Title      Employee_City\n",
      "0                               Equities trader     New Russellton\n",
      "1       Diplomatic Services operational officer  North Melissafurt\n",
      "2                    Regulatory affairs officer           Wardfort\n",
      "3                           Production engineer     West Jamesview\n",
      "4                           Production engineer          Whiteside\n",
      "...                                         ...                ...\n",
      "299995                              Optometrist  North Melissafurt\n",
      "299996                            Administrator         Aliciafort\n",
      "299997                            Administrator   New Cindychester\n",
      "299998                                     Make       Whitakerbury\n",
      "299999                                  Actuary     New Russellton\n",
      "\n",
      "[300000 rows x 2 columns]\n"
     ]
    }
   ],
   "source": [
    "selected_columns = df[['Employee_Job_Title', 'Employee_City']]\n",
    "print(selected_columns)"
   ]
  },
  {
   "cell_type": "markdown",
   "metadata": {
    "cell_id": "6698219b365b495e9d2b7b7e63d85682",
    "deepnote_cell_type": "text-cell-h3",
    "formattedRanges": [],
    "is_collapsed": false,
    "tags": []
   },
   "source": [
    "### 69. Print the number of employees with Employee_Rating greater than the average Employee_Rating"
   ]
  },
  {
   "cell_type": "code",
   "execution_count": 65,
   "metadata": {
    "cell_id": "15e34ec91c4a4b11b76900397c666f70",
    "deepnote_cell_height": 61,
    "deepnote_cell_type": "code",
    "tags": []
   },
   "outputs": [
    {
     "name": "stdout",
     "output_type": "stream",
     "text": [
      "Number of employees with Employee_Rating greater than the average: 147548\n"
     ]
    }
   ],
   "source": [
    "# Calculate the average Employee_Rating\n",
    "average_rating = df['Employee_Rating'].mean()\n",
    "\n",
    "# Filter the DataFrame for employees with Employee_Rating greater than the average\n",
    "above_average_rating_df = df[df['Employee_Rating'] > average_rating]\n",
    "\n",
    "# Count the number of employees with Employee_Rating greater than the average\n",
    "num_employees_above_average = above_average_rating_df.shape[0]\n",
    "\n",
    "# Print the number of employees with Employee_Rating greater than the average\n",
    "print(f\"Number of employees with Employee_Rating greater than the average: {num_employees_above_average}\")"
   ]
  },
  {
   "cell_type": "markdown",
   "metadata": {
    "cell_id": "2237f18656904ecd82f14e5267b45218",
    "deepnote_cell_type": "text-cell-h3",
    "formattedRanges": [],
    "is_collapsed": false,
    "tags": []
   },
   "source": [
    "### 70. Find the employee which has the maximum salary among the ones with  the minimum Employee_Rating "
   ]
  },
  {
   "cell_type": "code",
   "execution_count": 66,
   "metadata": {
    "cell_id": "4cfa232f89304dc9ba57fb370946dd9d",
    "deepnote_cell_height": 61,
    "deepnote_cell_type": "code",
    "tags": []
   },
   "outputs": [
    {
     "name": "stdout",
     "output_type": "stream",
     "text": [
      "Employee with the maximum salary among those with the minimum Employee_Rating:\n",
      "Name                         Gary Jackson\n",
      "Company_Name             Bullock-Carrillo\n",
      "Employee_Job_Title    Production engineer\n",
      "Employee_City                  Aliciafort\n",
      "Employee_Country                Macedonia\n",
      "Employee_Salary                  141250.0\n",
      "Employment_Status               Full Time\n",
      "Employee_Rating                       0.0\n",
      "Name: 32, dtype: object\n"
     ]
    }
   ],
   "source": [
    "# Find the minimum Employee_Rating\n",
    "min_rating = df['Employee_Rating'].min()\n",
    "\n",
    "# Filter the DataFrame for employees with the minimum Employee_Rating\n",
    "min_rating_employees = df[df['Employee_Rating'] == min_rating]\n",
    "\n",
    "# Find the employee with the maximum salary among those with the minimum Employee_Rating\n",
    "max_salary_employee = min_rating_employees.loc[min_rating_employees['Employee_Rating'].idxmax()]\n",
    "\n",
    "# Print the details of the employee with the maximum salary among those with the minimum Employee_Rating\n",
    "print(\"Employee with the maximum salary among those with the minimum Employee_Rating:\")\n",
    "print(max_salary_employee)"
   ]
  },
  {
   "cell_type": "markdown",
   "metadata": {
    "cell_id": "64fa45f9f95349049d15c81abcabfad8",
    "deepnote_cell_type": "text-cell-h3",
    "formattedRanges": [],
    "is_collapsed": false,
    "tags": []
   },
   "source": [
    "### 71. Sort the DataFrame in ascending order of Employee_Salary"
   ]
  },
  {
   "cell_type": "code",
   "execution_count": 67,
   "metadata": {
    "cell_id": "2550827685824865a00a4ded18856103",
    "deepnote_cell_height": 61,
    "deepnote_cell_type": "code",
    "tags": []
   },
   "outputs": [
    {
     "name": "stdout",
     "output_type": "stream",
     "text": [
      "                      Name                    Company_Name  \\\n",
      "54531      Kristen Vasquez         White, Mcclain and Cobb   \n",
      "205070  Courtney Singleton         White, Mcclain and Cobb   \n",
      "185700          Vanessa Wu  Campos, Reynolds and Mccormick   \n",
      "226792          Penny Meza      Wallace, Smith and Shepard   \n",
      "229395         Grace Smith    Johnston, Fleming and Tanner   \n",
      "...                    ...                             ...   \n",
      "23536        Dennis Sexton  Campos, Reynolds and Mccormick   \n",
      "50461        Logan Jackson         White, Mcclain and Cobb   \n",
      "153993       Jason Jenkins                    Taylor-Ramos   \n",
      "51642      Richard Kennedy                  Thomas-Spencer   \n",
      "70356          Anna Lawson                    Taylor-Ramos   \n",
      "\n",
      "                                       Employee_Job_Title      Employee_City  \\\n",
      "54531   Armed forces logistics/support/administrative ...           Wardfort   \n",
      "205070                       Garment/textile technologist   New Cindychester   \n",
      "185700                                    Patent examiner  North Melissafurt   \n",
      "226792                          Trading standards officer           Wardfort   \n",
      "229395                          Trading standards officer     West Jamesview   \n",
      "...                                                   ...                ...   \n",
      "23536             Diplomatic Services operational officer        Kristaburgh   \n",
      "50461                                          Ergonomist           Wardfort   \n",
      "153993                  Sales promotion account executive         Aliciafort   \n",
      "51642                                      Energy manager         Aliciafort   \n",
      "70356                                 Production engineer        Kristaburgh   \n",
      "\n",
      "              Employee_Country  Employee_Salary Employment_Status  \\\n",
      "54531                  Bermuda              0.0         Full Time   \n",
      "205070                Ethiopia              0.0         Full Time   \n",
      "185700                  Zambia             10.0         Full Time   \n",
      "226792                 Albania             10.0         Full Time   \n",
      "229395  Libyan Arab Jamahiriya             10.0            Intern   \n",
      "...                        ...              ...               ...   \n",
      "23536           United Kingdom         999970.0         Full Time   \n",
      "50461             Saint Helena         999980.0         Full Time   \n",
      "153993                Pakistan         999980.0         Full Time   \n",
      "51642             Cook Islands         999980.0         Full Time   \n",
      "70356                  Lesotho         999990.0         Full Time   \n",
      "\n",
      "        Employee_Rating  \n",
      "54531               3.4  \n",
      "205070              2.8  \n",
      "185700              1.3  \n",
      "226792              0.7  \n",
      "229395              1.1  \n",
      "...                 ...  \n",
      "23536               0.9  \n",
      "50461               2.0  \n",
      "153993              2.6  \n",
      "51642               2.4  \n",
      "70356               4.0  \n",
      "\n",
      "[300000 rows x 8 columns]\n"
     ]
    }
   ],
   "source": [
    "# Sort the DataFrame in ascending order of 'Employee_Salary'\n",
    "df_sorted = df.sort_values(by='Employee_Salary', ascending=True)\n",
    "print(df_sorted)"
   ]
  },
  {
   "cell_type": "markdown",
   "metadata": {
    "cell_id": "bcc20c014a4d45ff82c00da13d6908e2",
    "deepnote_cell_type": "text-cell-h3",
    "formattedRanges": [],
    "is_collapsed": false,
    "tags": []
   },
   "source": [
    "### 72. Sort the DataFrame in descending order of Employee_Rating"
   ]
  },
  {
   "cell_type": "code",
   "execution_count": 69,
   "metadata": {
    "cell_id": "20a2835aadce4af588afc1e4e5f2b8da",
    "deepnote_cell_height": 61,
    "deepnote_cell_type": "code",
    "tags": []
   },
   "outputs": [
    {
     "name": "stdout",
     "output_type": "stream",
     "text": [
      "                     Name                  Company_Name  \\\n",
      "222544        Laura Lopez                     Scott Inc   \n",
      "26453     Adriana Ferrell  Johnston, Fleming and Tanner   \n",
      "141265     Russell Dorsey      Baker, Allen and Edwards   \n",
      "184624  Katherine Jenkins                  Matthews Inc   \n",
      "70533     Brittney Greene                James and Sons   \n",
      "...                   ...                           ...   \n",
      "50012           Sara King                  Matthews Inc   \n",
      "289392       Heather Paul                     Nelson-Li   \n",
      "14752     Kathryn Goodwin      Baker, Allen and Edwards   \n",
      "204854          Nina Yang    Wallace, Smith and Shepard   \n",
      "242616   Melissa Johnston                  Matthews Inc   \n",
      "\n",
      "                                       Employee_Job_Title     Employee_City  \\\n",
      "222544                                    Equities trader         Whiteside   \n",
      "26453                                          Ergonomist        Aliciafort   \n",
      "141265                                        Optometrist        Aliciafort   \n",
      "184624                                               Make  New Cindychester   \n",
      "70533                                      Energy manager      Ricardomouth   \n",
      "...                                                   ...               ...   \n",
      "50012             Diplomatic Services operational officer         Whiteside   \n",
      "289392                                               Make          Wardfort   \n",
      "14752                                      Energy manager  New Cindychester   \n",
      "204854  Armed forces logistics/support/administrative ...          Wardfort   \n",
      "242616            Diplomatic Services operational officer         Whiteside   \n",
      "\n",
      "                   Employee_Country  Employee_Salary Employment_Status  \\\n",
      "222544       British Virgin Islands         271140.0         Full Time   \n",
      "26453                         Gabon         678800.0            Intern   \n",
      "141265                      Morocco         816320.0         Full Time   \n",
      "184624                        Nauru         498850.0         Full Time   \n",
      "70533                      Bulgaria         332780.0         Full Time   \n",
      "...                             ...              ...               ...   \n",
      "50012                          Iran         986490.0            Intern   \n",
      "289392  French Southern Territories         712720.0         Full Time   \n",
      "14752                       Moldova         557330.0         Full Time   \n",
      "204854                    Swaziland         744300.0            Intern   \n",
      "242616                        Macao         704700.0            Intern   \n",
      "\n",
      "        Employee_Rating  \n",
      "222544              5.0  \n",
      "26453               5.0  \n",
      "141265              5.0  \n",
      "184624              5.0  \n",
      "70533               5.0  \n",
      "...                 ...  \n",
      "50012               0.0  \n",
      "289392              0.0  \n",
      "14752               0.0  \n",
      "204854              0.0  \n",
      "242616              0.0  \n",
      "\n",
      "[300000 rows x 8 columns]\n"
     ]
    }
   ],
   "source": [
    "df_sorted = df.sort_values(by='Employee_Rating', ascending=False)\n",
    "print(df_sorted)"
   ]
  },
  {
   "cell_type": "markdown",
   "metadata": {
    "cell_id": "f968bed472c2444face7478ef14b32cc",
    "deepnote_cell_type": "text-cell-h3",
    "formattedRanges": [],
    "is_collapsed": false,
    "tags": []
   },
   "source": [
    "### 73. Print the name of 100th employee after sorting on Name"
   ]
  },
  {
   "cell_type": "code",
   "execution_count": 70,
   "metadata": {
    "cell_id": "75941d08737c45f6bfa45b4cab13ef6a",
    "deepnote_cell_height": 61,
    "deepnote_cell_type": "code",
    "tags": []
   },
   "outputs": [
    {
     "name": "stdout",
     "output_type": "stream",
     "text": [
      "The name of the 100th employee after sorting by name: Aaron Brown\n"
     ]
    }
   ],
   "source": [
    "df_sorted = df.sort_values(by='Name')\n",
    "# Select the name of the 100th employee (index 99 since index is 0-based)\n",
    "employee_100th_name = df_sorted.iloc[99]['Name']\n",
    "\n",
    "# Print the name of the 100th employee\n",
    "print(f\"The name of the 100th employee after sorting by name: {employee_100th_name}\")"
   ]
  },
  {
   "cell_type": "markdown",
   "metadata": {
    "cell_id": "6afddd564bb24ff895c70f4ebff86b03",
    "deepnote_cell_type": "text-cell-h3",
    "formattedRanges": [],
    "is_collapsed": false,
    "tags": []
   },
   "source": [
    "### 74. Print the first 5 rows of the first 5 columns. "
   ]
  },
  {
   "cell_type": "code",
   "execution_count": 71,
   "metadata": {
    "cell_id": "c7e9be68a23f47f690df53b804f019a5",
    "deepnote_cell_height": 61,
    "deepnote_cell_type": "code",
    "tags": []
   },
   "outputs": [
    {
     "name": "stdout",
     "output_type": "stream",
     "text": [
      "             Name                  Company_Name  \\\n",
      "0  Spencer Adkins                James and Sons   \n",
      "1    Julie Morton                 Nichols-James   \n",
      "2    Matthew Hall                     Scott Inc   \n",
      "3      Brad Scott  Johnston, Fleming and Tanner   \n",
      "4   Theresa Owens      Baker, Allen and Edwards   \n",
      "\n",
      "                        Employee_Job_Title      Employee_City  \\\n",
      "0                          Equities trader     New Russellton   \n",
      "1  Diplomatic Services operational officer  North Melissafurt   \n",
      "2               Regulatory affairs officer           Wardfort   \n",
      "3                      Production engineer     West Jamesview   \n",
      "4                      Production engineer          Whiteside   \n",
      "\n",
      "        Employee_Country  \n",
      "0  Palestinian Territory  \n",
      "1       Marshall Islands  \n",
      "2               Anguilla  \n",
      "3   Syrian Arab Republic  \n",
      "4               Dominica  \n"
     ]
    }
   ],
   "source": [
    "# Print the first 5 rows of the first 5 columns\n",
    "first_5_rows_first_5_columns = df.iloc[0:5,0:5]\n",
    "print(first_5_rows_first_5_columns)"
   ]
  },
  {
   "cell_type": "markdown",
   "metadata": {
    "cell_id": "7255be19d3734ecdbc6d6ca613715bf0",
    "deepnote_cell_type": "text-cell-h3",
    "formattedRanges": [],
    "is_collapsed": false,
    "tags": []
   },
   "source": [
    "### 75. Print the transpose of the first 5 rows"
   ]
  },
  {
   "cell_type": "code",
   "execution_count": 73,
   "metadata": {
    "cell_id": "3d45a2a66b3748f5bcf9f6099e430654",
    "deepnote_cell_height": 61,
    "deepnote_cell_type": "code",
    "tags": []
   },
   "outputs": [
    {
     "name": "stdout",
     "output_type": "stream",
     "text": [
      "                                        0  \\\n",
      "Name                       Spencer Adkins   \n",
      "Company_Name               James and Sons   \n",
      "Employee_Job_Title        Equities trader   \n",
      "Employee_City              New Russellton   \n",
      "Employee_Country    Palestinian Territory   \n",
      "Employee_Salary                  321520.0   \n",
      "Employment_Status               Full Time   \n",
      "Employee_Rating                       3.9   \n",
      "\n",
      "                                                          1  \\\n",
      "Name                                           Julie Morton   \n",
      "Company_Name                                  Nichols-James   \n",
      "Employee_Job_Title  Diplomatic Services operational officer   \n",
      "Employee_City                             North Melissafurt   \n",
      "Employee_Country                           Marshall Islands   \n",
      "Employee_Salary                                    589090.0   \n",
      "Employment_Status                                 Full Time   \n",
      "Employee_Rating                                         4.3   \n",
      "\n",
      "                                             2                             3  \\\n",
      "Name                              Matthew Hall                    Brad Scott   \n",
      "Company_Name                         Scott Inc  Johnston, Fleming and Tanner   \n",
      "Employee_Job_Title  Regulatory affairs officer           Production engineer   \n",
      "Employee_City                         Wardfort                West Jamesview   \n",
      "Employee_Country                      Anguilla          Syrian Arab Republic   \n",
      "Employee_Salary                       630890.0                      116400.0   \n",
      "Employment_Status                    Full Time                     Full Time   \n",
      "Employee_Rating                            3.1                           3.1   \n",
      "\n",
      "                                           4  \n",
      "Name                           Theresa Owens  \n",
      "Company_Name        Baker, Allen and Edwards  \n",
      "Employee_Job_Title       Production engineer  \n",
      "Employee_City                      Whiteside  \n",
      "Employee_Country                    Dominica  \n",
      "Employee_Salary                     523499.0  \n",
      "Employment_Status                  Full Time  \n",
      "Employee_Rating                          4.8  \n"
     ]
    }
   ],
   "source": [
    "# Select the first 5 rows\n",
    "first_5_rows = df.head(5)\n",
    "\n",
    "# Transpose the DataFrame\n",
    "first_5_rows_transposed = first_5_rows.T\n",
    "\n",
    "print(first_5_rows_transposed)"
   ]
  },
  {
   "cell_type": "markdown",
   "metadata": {
    "cell_id": "4ca3043f12434849a21ffac04765e5d0",
    "deepnote_cell_type": "text-cell-h3",
    "formattedRanges": [],
    "is_collapsed": false,
    "tags": []
   },
   "source": [
    "### 76. Print the number of employees whose first name starts with the letter 'V'. "
   ]
  },
  {
   "cell_type": "code",
   "execution_count": 75,
   "metadata": {
    "cell_id": "fa0734590e7f4b7aa8c5db700a0e5980",
    "deepnote_cell_height": 61,
    "deepnote_cell_type": "code",
    "tags": []
   },
   "outputs": [
    {
     "name": "stdout",
     "output_type": "stream",
     "text": [
      "Number of employees whose first name starts with 'V': 3683\n"
     ]
    }
   ],
   "source": [
    "# Assume the 'Employee_Name' column contains full names in 'First Last' format\n",
    "# Extract the first name from 'Employee_Name'\n",
    "df['First_Name'] = df['Name'].apply(lambda x: x.split()[0])\n",
    "\n",
    "# Filter the DataFrame for employees whose first name starts with 'V'\n",
    "employees_with_v = df[df['First_Name'].str.startswith('V')]\n",
    "\n",
    "# Count the number of such employees\n",
    "num_employees_with_v = employees_with_v.shape[0]\n",
    "\n",
    "# Print the number of employees whose first name starts with 'V'\n",
    "print(f\"Number of employees whose first name starts with 'V': {num_employees_with_v}\")"
   ]
  },
  {
   "cell_type": "markdown",
   "metadata": {
    "cell_id": "47245d330d674c07baa269f9a1044905",
    "deepnote_cell_type": "text-cell-h3",
    "formattedRanges": [],
    "is_collapsed": false,
    "tags": []
   },
   "source": [
    "### 77. Print the number of employees whose last name starts with the letter 'R'. "
   ]
  },
  {
   "cell_type": "code",
   "execution_count": 78,
   "metadata": {
    "cell_id": "5b6f0a12151841a0bfc1e53c67c2dd19",
    "deepnote_cell_height": 61,
    "deepnote_cell_type": "code",
    "tags": []
   },
   "outputs": [
    {
     "name": "stdout",
     "output_type": "stream",
     "text": [
      "Number of employees whose last name starts with 'R': 20712\n"
     ]
    }
   ],
   "source": [
    "# Assume the 'Employee_Name' column contains full names in 'First Last' format\n",
    "# Extract the last name from 'Employee_Name'\n",
    "df['Last_Name'] = df['Name'].apply(lambda x: x.split()[-1])\n",
    "\n",
    "# Filter the DataFrame for employees whose last name starts with 'R'\n",
    "employees_with_r = df[df['Last_Name'].str.startswith('R')]\n",
    "\n",
    "# Count the number of such employees\n",
    "num_employees_with_r = employees_with_r.shape[0]\n",
    "\n",
    "# Print the number of employees whose last name starts with 'R'\n",
    "print(f\"Number of employees whose last name starts with 'R': {num_employees_with_r}\")"
   ]
  },
  {
   "cell_type": "markdown",
   "metadata": {
    "cell_id": "98e5592bf725415894df424e0b181c48",
    "deepnote_cell_type": "text-cell-h3",
    "formattedRanges": [],
    "is_collapsed": false,
    "tags": []
   },
   "source": [
    "### 78. Select the rows 2 to 7 and the columns 3 to 7 (both included)"
   ]
  },
  {
   "cell_type": "code",
   "execution_count": 80,
   "metadata": {
    "cell_id": "13d622ae8c8a4960be176f7883ec325c",
    "deepnote_cell_height": 61,
    "deepnote_cell_type": "code",
    "tags": []
   },
   "outputs": [
    {
     "name": "stdout",
     "output_type": "stream",
     "text": [
      "                        Employee_Job_Title      Employee_City  \\\n",
      "1  Diplomatic Services operational officer  North Melissafurt   \n",
      "2               Regulatory affairs officer           Wardfort   \n",
      "3                      Production engineer     West Jamesview   \n",
      "4                      Production engineer          Whiteside   \n",
      "5                                     Make       Ricardomouth   \n",
      "6                          Naval architect           Wardfort   \n",
      "\n",
      "       Employee_Country  Employee_Salary Employment_Status  \n",
      "1      Marshall Islands         589090.0         Full Time  \n",
      "2              Anguilla         630890.0         Full Time  \n",
      "3  Syrian Arab Republic         116400.0         Full Time  \n",
      "4              Dominica         523499.0         Full Time  \n",
      "5                  Mali         850140.0         Full Time  \n",
      "6                 Aruba         711410.0         Full Time  \n"
     ]
    }
   ],
   "source": [
    "df_selected = df.iloc[1:7,2:7]\n",
    "print(df_selected)"
   ]
  },
  {
   "cell_type": "markdown",
   "metadata": {
    "cell_id": "b179fcacb5ba44d885ffdfb8ca0ccb65",
    "deepnote_cell_type": "text-cell-h3",
    "formattedRanges": [],
    "is_collapsed": false,
    "tags": []
   },
   "source": [
    "### 79. Select every row after the 10th row and select all columns. "
   ]
  },
  {
   "cell_type": "code",
   "execution_count": 82,
   "metadata": {
    "cell_id": "a623adc900f74d4f9881db6d707b048e",
    "deepnote_cell_height": 61,
    "deepnote_cell_type": "code",
    "tags": []
   },
   "outputs": [
    {
     "name": "stdout",
     "output_type": "stream",
     "text": [
      "                   Name                    Company_Name  \\\n",
      "9       Michael Edwards  Campos, Reynolds and Mccormick   \n",
      "10      Victoria Sutton         White, Mcclain and Cobb   \n",
      "11      Timothy Johnson        Baker, Allen and Edwards   \n",
      "12       Tiffany Galvan  Campos, Reynolds and Mccormick   \n",
      "13          David Duran                   Nichols-James   \n",
      "...                 ...                             ...   \n",
      "299995       Nancy Neal                Bullock-Carrillo   \n",
      "299996   Michele Butler    Johnston, Fleming and Tanner   \n",
      "299997      Lynn Wilson                   Nichols-James   \n",
      "299998    Lindsey Keith                   Nichols-James   \n",
      "299999    Karen Delgado                  James and Sons   \n",
      "\n",
      "                             Employee_Job_Title      Employee_City  \\\n",
      "9                                    Ergonomist   New Cindychester   \n",
      "10                              Naval architect          Whiteside   \n",
      "11                   Regulatory affairs officer       Ricardomouth   \n",
      "12      Diplomatic Services operational officer     West Jamesview   \n",
      "13                 Investment banker, corporate     New Russellton   \n",
      "...                                         ...                ...   \n",
      "299995                              Optometrist  North Melissafurt   \n",
      "299996                            Administrator         Aliciafort   \n",
      "299997                            Administrator   New Cindychester   \n",
      "299998                                     Make       Whitakerbury   \n",
      "299999                                  Actuary     New Russellton   \n",
      "\n",
      "                        Employee_Country  Employee_Salary Employment_Status  \\\n",
      "9       Lao People's Democratic Republic         516950.0         Full Time   \n",
      "10                                Poland         656260.0         Full Time   \n",
      "11                               Georgia         503610.0         Full Time   \n",
      "12                                 Niger         786430.0            Intern   \n",
      "13                               Georgia         910210.0         Full Time   \n",
      "...                                  ...              ...               ...   \n",
      "299995                             Samoa          99670.0            Intern   \n",
      "299996                              Cuba         949580.0            Intern   \n",
      "299997                           Bolivia         802830.0         Full Time   \n",
      "299998                    Western Sahara         257240.0         Full Time   \n",
      "299999                    United Kingdom         575770.0            Intern   \n",
      "\n",
      "        Employee_Rating First_Name Last_Name  \n",
      "9                   2.3    Michael   Edwards  \n",
      "10                  4.9   Victoria    Sutton  \n",
      "11                  2.9    Timothy   Johnson  \n",
      "12                  3.6    Tiffany    Galvan  \n",
      "13                  4.9      David     Duran  \n",
      "...                 ...        ...       ...  \n",
      "299995              3.3      Nancy      Neal  \n",
      "299996              2.6    Michele    Butler  \n",
      "299997              0.6       Lynn    Wilson  \n",
      "299998              2.4    Lindsey     Keith  \n",
      "299999              3.3      Karen   Delgado  \n",
      "\n",
      "[299991 rows x 10 columns]\n"
     ]
    }
   ],
   "source": [
    "df_selected = df.iloc[9:,:]\n",
    "# df_selected = df.iloc[9:]\n",
    "print(df_selected)"
   ]
  },
  {
   "cell_type": "markdown",
   "metadata": {
    "cell_id": "3ec1198fe6b94e9aa2062e5f756f39f2",
    "deepnote_cell_type": "text-cell-h3",
    "formattedRanges": [],
    "is_collapsed": false,
    "tags": []
   },
   "source": [
    "### 80. Select every row up to the 10th row and select all columns. "
   ]
  },
  {
   "cell_type": "code",
   "execution_count": 85,
   "metadata": {
    "cell_id": "4b81fb81aee340ad90c37d995f5b59cc",
    "deepnote_cell_height": 61,
    "deepnote_cell_type": "code",
    "tags": []
   },
   "outputs": [
    {
     "name": "stdout",
     "output_type": "stream",
     "text": [
      "              Name                    Company_Name  \\\n",
      "0   Spencer Adkins                  James and Sons   \n",
      "1     Julie Morton                   Nichols-James   \n",
      "2     Matthew Hall                       Scott Inc   \n",
      "3       Brad Scott    Johnston, Fleming and Tanner   \n",
      "4    Theresa Owens        Baker, Allen and Edwards   \n",
      "5    Vanessa Allen                     Andrade LLC   \n",
      "6      Kelly Brown                     Andrade LLC   \n",
      "7      Vicki Beard                    Matthews Inc   \n",
      "8      Lisa French                    Taylor-Ramos   \n",
      "9  Michael Edwards  Campos, Reynolds and Mccormick   \n",
      "\n",
      "                        Employee_Job_Title      Employee_City  \\\n",
      "0                          Equities trader     New Russellton   \n",
      "1  Diplomatic Services operational officer  North Melissafurt   \n",
      "2               Regulatory affairs officer           Wardfort   \n",
      "3                      Production engineer     West Jamesview   \n",
      "4                      Production engineer          Whiteside   \n",
      "5                                     Make       Ricardomouth   \n",
      "6                          Naval architect           Wardfort   \n",
      "7  Diplomatic Services operational officer        Kristaburgh   \n",
      "8                Radiographer, therapeutic     West Jamesview   \n",
      "9                               Ergonomist   New Cindychester   \n",
      "\n",
      "                   Employee_Country  Employee_Salary Employment_Status  \\\n",
      "0             Palestinian Territory         321520.0         Full Time   \n",
      "1                  Marshall Islands         589090.0         Full Time   \n",
      "2                          Anguilla         630890.0         Full Time   \n",
      "3              Syrian Arab Republic         116400.0         Full Time   \n",
      "4                          Dominica         523499.0         Full Time   \n",
      "5                              Mali         850140.0         Full Time   \n",
      "6                             Aruba         711410.0         Full Time   \n",
      "7                    Western Sahara         777000.0         Full Time   \n",
      "8                            Kuwait         870580.0         Full Time   \n",
      "9  Lao People's Democratic Republic         516950.0         Full Time   \n",
      "\n",
      "   Employee_Rating First_Name Last_Name  \n",
      "0              3.9    Spencer    Adkins  \n",
      "1              4.3      Julie    Morton  \n",
      "2              3.1    Matthew      Hall  \n",
      "3              3.1       Brad     Scott  \n",
      "4              4.8    Theresa     Owens  \n",
      "5              2.6    Vanessa     Allen  \n",
      "6              2.0      Kelly     Brown  \n",
      "7              3.3      Vicki     Beard  \n",
      "8              1.3       Lisa    French  \n",
      "9              2.3    Michael   Edwards  \n"
     ]
    }
   ],
   "source": [
    "df_selected = df.iloc[:10]\n",
    "print(df_selected)"
   ]
  },
  {
   "cell_type": "markdown",
   "metadata": {
    "cell_id": "a801a1ea514346a28e9eb6018946983c",
    "deepnote_cell_type": "text-cell-h3",
    "formattedRanges": [],
    "is_collapsed": false,
    "tags": []
   },
   "source": [
    "### 81. Select rows with employee rating > 4.5. "
   ]
  },
  {
   "cell_type": "code",
   "execution_count": 87,
   "metadata": {
    "cell_id": "45e9e9a8acf542b7bd5ec3b16767ada0",
    "deepnote_cell_height": 61,
    "deepnote_cell_type": "code",
    "tags": []
   },
   "outputs": [
    {
     "name": "stdout",
     "output_type": "stream",
     "text": [
      "                   Name              Company_Name  \\\n",
      "4         Theresa Owens  Baker, Allen and Edwards   \n",
      "10      Victoria Sutton   White, Mcclain and Cobb   \n",
      "13          David Duran             Nichols-James   \n",
      "14           Julie Cook              Matthews Inc   \n",
      "49      Gerald Santiago            Thomas-Spencer   \n",
      "...                 ...                       ...   \n",
      "299910   Daniel Johnson  Baker, Allen and Edwards   \n",
      "299952    Joshua Knight             Nichols-James   \n",
      "299957  Martha Phillips              Matthews Inc   \n",
      "299973     Doris Miller               Andrade LLC   \n",
      "299981   Herbert Bailey             Nichols-James   \n",
      "\n",
      "                                       Employee_Job_Title     Employee_City  \\\n",
      "4                                     Production engineer         Whiteside   \n",
      "10                                        Naval architect         Whiteside   \n",
      "13                           Investment banker, corporate    New Russellton   \n",
      "14                                        Equities trader    New Russellton   \n",
      "49                           Garment/textile technologist       Kristaburgh   \n",
      "...                                                   ...               ...   \n",
      "299910                                     Energy manager          Wardfort   \n",
      "299952                  Sales promotion account executive          Wardfort   \n",
      "299957                                    Naval architect          Wardfort   \n",
      "299973  Armed forces logistics/support/administrative ...          Wardfort   \n",
      "299981                          Radiographer, therapeutic  New Cindychester   \n",
      "\n",
      "       Employee_Country  Employee_Salary Employment_Status  Employee_Rating  \\\n",
      "4              Dominica         523499.0         Full Time              4.8   \n",
      "10               Poland         656260.0         Full Time              4.9   \n",
      "13              Georgia         910210.0         Full Time              4.9   \n",
      "14          Puerto Rico         328860.0         Full Time              4.8   \n",
      "49          El Salvador         873320.0         Full Time              4.7   \n",
      "...                 ...              ...               ...              ...   \n",
      "299910   American Samoa         452970.0         Full Time              4.7   \n",
      "299952             Mali         175450.0            Intern              4.9   \n",
      "299957          Somalia         485270.0         Full Time              4.8   \n",
      "299973       Kazakhstan         943340.0            Intern              5.0   \n",
      "299981         Guernsey         165550.0         Full Time              4.8   \n",
      "\n",
      "       First_Name Last_Name  \n",
      "4         Theresa     Owens  \n",
      "10       Victoria    Sutton  \n",
      "13          David     Duran  \n",
      "14          Julie      Cook  \n",
      "49         Gerald  Santiago  \n",
      "...           ...       ...  \n",
      "299910     Daniel   Johnson  \n",
      "299952     Joshua    Knight  \n",
      "299957     Martha  Phillips  \n",
      "299973      Doris    Miller  \n",
      "299981    Herbert    Bailey  \n",
      "\n",
      "[26978 rows x 10 columns]\n"
     ]
    }
   ],
   "source": [
    "# Select rows with 'Employee_Rating' > 4.5\n",
    "high_rating_employees = df[df['Employee_Rating'] > 4.5]\n",
    "\n",
    "# Print the selected rows\n",
    "print(high_rating_employees)"
   ]
  },
  {
   "cell_type": "markdown",
   "metadata": {
    "cell_id": "9a5e35dfbcfa40b2b6557811f4be7c75",
    "deepnote_cell_type": "text-cell-h3",
    "formattedRanges": [],
    "is_collapsed": false,
    "tags": []
   },
   "source": [
    "### 82. Select rows with employee rating > 4.5 and < 4.8. "
   ]
  },
  {
   "cell_type": "code",
   "execution_count": 88,
   "metadata": {
    "cell_id": "c7df09c32caa4bd49e4a9a23437d1c93",
    "deepnote_cell_height": 61,
    "deepnote_cell_type": "code",
    "tags": []
   },
   "outputs": [
    {
     "name": "stdout",
     "output_type": "stream",
     "text": [
      "                    Name                  Company_Name  \\\n",
      "49       Gerald Santiago                Thomas-Spencer   \n",
      "88         Julie Richard              Bullock-Carrillo   \n",
      "94        Natasha Harmon                  Matthews Inc   \n",
      "119        Jason Parrish                   Andrade LLC   \n",
      "129       Connie Coleman                   Andrade LLC   \n",
      "...                  ...                           ...   \n",
      "299757     Melissa Perry             Marshall-Holloway   \n",
      "299765    Jeremy Ramirez                Thomas-Spencer   \n",
      "299772         Adam Moss  Johnston, Fleming and Tanner   \n",
      "299820  Brandi Christian                James and Sons   \n",
      "299910    Daniel Johnson      Baker, Allen and Edwards   \n",
      "\n",
      "                             Employee_Job_Title      Employee_City  \\\n",
      "49                 Garment/textile technologist        Kristaburgh   \n",
      "88                              Naval architect           Wardfort   \n",
      "94                    Radiographer, therapeutic     West Jamesview   \n",
      "119                Garment/textile technologist         Aliciafort   \n",
      "129                                 Optometrist        Kristaburgh   \n",
      "...                                         ...                ...   \n",
      "299757                Trading standards officer          Whiteside   \n",
      "299765  Diplomatic Services operational officer       Ricardomouth   \n",
      "299772             Garment/textile technologist          Whiteside   \n",
      "299820                                     Make  North Melissafurt   \n",
      "299910                           Energy manager           Wardfort   \n",
      "\n",
      "                        Employee_Country  Employee_Salary Employment_Status  \\\n",
      "49                           El Salvador         873320.0         Full Time   \n",
      "88                               Burundi         222850.0         Full Time   \n",
      "94                               Bolivia         790000.0         Full Time   \n",
      "119                        Cote d'Ivoire         581130.0         Full Time   \n",
      "129                            Indonesia         899260.0         Full Time   \n",
      "...                                  ...              ...               ...   \n",
      "299757                Russian Federation         712460.0         Full Time   \n",
      "299765                       Netherlands         330640.0            Intern   \n",
      "299772  Lao People's Democratic Republic         298790.0            Intern   \n",
      "299820             Palestinian Territory         503370.0            Intern   \n",
      "299910                    American Samoa         452970.0         Full Time   \n",
      "\n",
      "        Employee_Rating First_Name  Last_Name  \n",
      "49                  4.7     Gerald   Santiago  \n",
      "88                  4.6      Julie    Richard  \n",
      "94                  4.7    Natasha     Harmon  \n",
      "119                 4.7      Jason    Parrish  \n",
      "129                 4.7     Connie    Coleman  \n",
      "...                 ...        ...        ...  \n",
      "299757              4.7    Melissa      Perry  \n",
      "299765              4.6     Jeremy    Ramirez  \n",
      "299772              4.6       Adam       Moss  \n",
      "299820              4.6     Brandi  Christian  \n",
      "299910              4.7     Daniel    Johnson  \n",
      "\n",
      "[11866 rows x 10 columns]\n"
     ]
    }
   ],
   "source": [
    "# Select rows with 'Employee_Rating' > 4.5 and < 4.8\n",
    "filtered_employees = df[(df['Employee_Rating'] > 4.5) & (df['Employee_Rating'] < 4.8)]\n",
    "print(filtered_employees)"
   ]
  },
  {
   "cell_type": "markdown",
   "metadata": {
    "cell_id": "406a12d1db7e47beaafefdfc26f61520",
    "deepnote_cell_type": "text-cell-h3",
    "formattedRanges": [],
    "is_collapsed": false,
    "tags": []
   },
   "source": [
    "### 83. Print the name of the company with the maximum employees having rating > 4."
   ]
  },
  {
   "cell_type": "code",
   "execution_count": 90,
   "metadata": {
    "cell_id": "4577012673ec4848a27da7b530b1ed15",
    "deepnote_cell_height": 61,
    "deepnote_cell_type": "code",
    "tags": []
   },
   "outputs": [
    {
     "name": "stdout",
     "output_type": "stream",
     "text": [
      "The company with the maximum employees having a rating > 4 is: Matthews Inc\n"
     ]
    }
   ],
   "source": [
    "# Filter rows with 'Employee_Rating' > 4\n",
    "high_rating_employees = df[df['Employee_Rating'] > 4]\n",
    "\n",
    "# Group by 'Company_Name' and count the number of employees\n",
    "company_employee_counts = high_rating_employees['Company_Name'].value_counts()\n",
    "\n",
    "# Get the company with the maximum employees having rating > 4\n",
    "company_with_max_employees = company_employee_counts.idxmax()\n",
    "\n",
    "# Print the company name\n",
    "print(f\"The company with the maximum employees having a rating > 4 is: {company_with_max_employees}\")"
   ]
  },
  {
   "cell_type": "markdown",
   "metadata": {
    "cell_id": "a95bdafe3e604b97b361be2b0f8e7e87",
    "deepnote_cell_type": "text-cell-h3",
    "formattedRanges": [],
    "is_collapsed": false,
    "tags": []
   },
   "source": [
    "### 84. Print the rating of the employee named 'Julie Morton'."
   ]
  },
  {
   "cell_type": "code",
   "execution_count": 92,
   "metadata": {
    "cell_id": "c6ecd8b591ee4d22a72fb82c00c30519",
    "deepnote_cell_height": 61,
    "deepnote_cell_type": "code",
    "tags": []
   },
   "outputs": [
    {
     "name": "stdout",
     "output_type": "stream",
     "text": [
      "The rating of Julie Morton is: 4.3\n"
     ]
    }
   ],
   "source": [
    "# Filter the DataFrame for the employee named 'Julie Morton'\n",
    "julie_morton_rating = df[df['Name'] == 'Julie Morton']['Employee_Rating']\n",
    "\n",
    "# Print the rating of 'Julie Morton'\n",
    "if not julie_morton_rating.empty:\n",
    "    print(f\"The rating of Julie Morton is: {julie_morton_rating.iloc[0]}\")\n",
    "else:\n",
    "    print(\"Julie Morton is not found in the dataset.\")"
   ]
  },
  {
   "cell_type": "markdown",
   "metadata": {
    "cell_id": "6602e9acaeb748c795083a55a6178202",
    "deepnote_cell_type": "text-cell-h3",
    "formattedRanges": [],
    "is_collapsed": false,
    "tags": []
   },
   "source": [
    "### 85. Print the last 3rd entry in the column Employee_City"
   ]
  },
  {
   "cell_type": "code",
   "execution_count": 93,
   "metadata": {
    "cell_id": "e76d55dc278b4c7988892f7901283949",
    "deepnote_cell_height": 61,
    "deepnote_cell_type": "code",
    "tags": []
   },
   "outputs": [
    {
     "name": "stdout",
     "output_type": "stream",
     "text": [
      "The third-to-last entry in the 'Employee_City' column is: New Cindychester\n"
     ]
    }
   ],
   "source": [
    "# Get the third-to-last entry in the 'Employee_City' column\n",
    "third_last_employee_city = df['Employee_City'].iloc[-3]\n",
    "\n",
    "# Print the third-to-last entry\n",
    "print(f\"The third-to-last entry in the 'Employee_City' column is: {third_last_employee_city}\")"
   ]
  },
  {
   "cell_type": "markdown",
   "metadata": {
    "cell_id": "81cf0e6e6fb24b9f92d40bf80639479a",
    "deepnote_cell_type": "text-cell-h3",
    "formattedRanges": [],
    "is_collapsed": false,
    "tags": []
   },
   "source": [
    "### 86. Print the Employee_City column as a list"
   ]
  },
  {
   "cell_type": "code",
   "execution_count": 98,
   "metadata": {
    "cell_id": "136e1d70975c41e7b635d1b0e5f3258c",
    "deepnote_cell_height": 61,
    "deepnote_cell_type": "code",
    "tags": []
   },
   "outputs": [
    {
     "name": "stderr",
     "output_type": "stream",
     "text": [
      "IOPub data rate exceeded.\n",
      "The notebook server will temporarily stop sending output\n",
      "to the client in order to avoid crashing it.\n",
      "To change this limit, set the config variable\n",
      "`--NotebookApp.iopub_data_rate_limit`.\n",
      "\n",
      "Current values:\n",
      "NotebookApp.iopub_data_rate_limit=1000000.0 (bytes/sec)\n",
      "NotebookApp.rate_limit_window=3.0 (secs)\n",
      "\n"
     ]
    }
   ],
   "source": [
    "# Convert the 'Employee_City' column to a list\n",
    "employee_city_list = df['Employee_City'].tolist()\n",
    "\n",
    "# Print the list\n",
    "print(employee_city_list)"
   ]
  },
  {
   "cell_type": "code",
   "execution_count": 99,
   "metadata": {},
   "outputs": [
    {
     "name": "stdout",
     "output_type": "stream",
     "text": [
      "['New Russellton', 'North Melissafurt', 'Wardfort', 'West Jamesview', 'Whiteside', 'Ricardomouth', 'Wardfort', 'Kristaburgh', 'West Jamesview', 'New Cindychester']\n",
      "Total number of entries in 'Employee_City': 300000\n"
     ]
    }
   ],
   "source": [
    "# Convert the 'Employee_City' column to a list\n",
    "employee_city_list = df['Employee_City'].tolist()\n",
    "\n",
    "# Print the first 10 entries of the list to avoid exceeding data rate limit\n",
    "print(employee_city_list[:10])\n",
    "\n",
    "# Optionally, print the length of the list to confirm the total number of entries\n",
    "print(f\"Total number of entries in 'Employee_City': {len(employee_city_list)}\")"
   ]
  },
  {
   "cell_type": "markdown",
   "metadata": {
    "cell_id": "1cd6bf65f6af488aa764c5e4265f5e9e",
    "deepnote_cell_type": "text-cell-h3",
    "formattedRanges": [],
    "is_collapsed": false,
    "tags": []
   },
   "source": [
    "### 87. Are the number of employees in 'Scott Inc' company greater than that in 'Andrade LLC'? Print True/False"
   ]
  },
  {
   "cell_type": "code",
   "execution_count": 100,
   "metadata": {
    "cell_id": "c632763bf2724f48862ee972cc1e300a",
    "deepnote_cell_height": 61,
    "deepnote_cell_type": "code",
    "tags": []
   },
   "outputs": [
    {
     "name": "stdout",
     "output_type": "stream",
     "text": [
      "True\n"
     ]
    }
   ],
   "source": [
    "# Count the number of employees in 'Scott Inc'\n",
    "scott_inc_count = df[df['Company_Name'] == 'Scott Inc'].shape[0]\n",
    "\n",
    "# Count the number of employees in 'Andrade LLC'\n",
    "andrade_llc_count = df[df['Company_Name'] == 'Andrade LLC'].shape[0]\n",
    "\n",
    "# Compare the counts and print True/False\n",
    "is_scott_inc_greater = scott_inc_count > andrade_llc_count\n",
    "print(is_scott_inc_greater)\n"
   ]
  },
  {
   "cell_type": "markdown",
   "metadata": {
    "cell_id": "e85eeecbe2c246cf9191d3b7af0a42c6",
    "deepnote_cell_type": "text-cell-h3",
    "formattedRanges": [],
    "is_collapsed": false,
    "tags": []
   },
   "source": [
    "### 88. Which is the most common first name in the dataframe?"
   ]
  },
  {
   "cell_type": "code",
   "execution_count": 102,
   "metadata": {
    "cell_id": "775c471c1b65479ca44c838fdedd9a66",
    "deepnote_cell_height": 61,
    "deepnote_cell_type": "code",
    "tags": []
   },
   "outputs": [
    {
     "name": "stdout",
     "output_type": "stream",
     "text": [
      "The most common first name in the dataset is: Michael\n"
     ]
    }
   ],
   "source": [
    "# Split the 'Employee_Name' column to extract first names\n",
    "first_names = df['Name'].apply(lambda x: x.split()[0])\n",
    "\n",
    "# Count the occurrences of each first name\n",
    "first_name_counts = first_names.value_counts()\n",
    "\n",
    "# Get the most common first name\n",
    "most_common_first_name = first_name_counts.idxmax()\n",
    "\n",
    "# Print the most common first name\n",
    "print(f\"The most common first name in the dataset is: {most_common_first_name}\")"
   ]
  },
  {
   "cell_type": "markdown",
   "metadata": {
    "cell_id": "c289e410d6744ac6b387d5490f2da61b",
    "deepnote_cell_type": "text-cell-h3",
    "formattedRanges": [],
    "is_collapsed": false,
    "tags": []
   },
   "source": [
    "### 89. Which is the least common last name in the dataframe?"
   ]
  },
  {
   "cell_type": "code",
   "execution_count": 103,
   "metadata": {
    "cell_id": "04e654c82f964ccebdb39e10508eafe1",
    "deepnote_cell_height": 61,
    "deepnote_cell_type": "code",
    "tags": []
   },
   "outputs": [
    {
     "name": "stdout",
     "output_type": "stream",
     "text": [
      "The least common last name in the dataset is: Madden\n"
     ]
    }
   ],
   "source": [
    "# Split the 'Employee_Name' column to extract last names\n",
    "last_names = df['Name'].apply(lambda x: x.split()[-1])\n",
    "\n",
    "# Count the occurrences of each last name\n",
    "last_name_counts = last_names.value_counts()\n",
    "\n",
    "# Get the least common last name\n",
    "least_common_last_name = last_name_counts.idxmin()\n",
    "\n",
    "# Print the least common last name\n",
    "print(f\"The least common last name in the dataset is: {least_common_last_name}\")"
   ]
  },
  {
   "cell_type": "markdown",
   "metadata": {
    "cell_id": "342360203d4b46f7a5535f8fea0370d0",
    "deepnote_cell_type": "text-cell-h3",
    "formattedRanges": [],
    "is_collapsed": false,
    "tags": []
   },
   "source": [
    "### 90. What is the average name length? "
   ]
  },
  {
   "cell_type": "code",
   "execution_count": 105,
   "metadata": {
    "cell_id": "ca3e3255a2564b938944c4e7a1bfd4d0",
    "deepnote_cell_height": 61,
    "deepnote_cell_type": "code",
    "tags": []
   },
   "outputs": [
    {
     "name": "stdout",
     "output_type": "stream",
     "text": [
      "The average length of names in the dataset is: 13.11\n"
     ]
    }
   ],
   "source": [
    "# Calculate the length of each name\n",
    "name_lengths = df['Name'].apply(len)\n",
    "\n",
    "# Compute the average name length\n",
    "average_name_length = name_lengths.mean()\n",
    "\n",
    "# Print the average name length\n",
    "print(f\"The average length of names in the dataset is: {average_name_length:.2f}\")"
   ]
  },
  {
   "cell_type": "markdown",
   "metadata": {
    "cell_id": "b68402ffbdd74afc8268d1ef35ba3520",
    "deepnote_cell_height": 117.390625,
    "deepnote_cell_type": "markdown",
    "tags": []
   },
   "source": [
    "Great job solving this notebook. Go to Pandas Notebook  3: [Link](https://deepnote.com/workspace/avi-chawla-695b-aee6f4ef-2d50-4fb6-9ef2-20ee1022995a/project/Pandas-Notebook-employee-part-2-adc5a3ee-5f61-4725-8e46-ccb07899acfc/%2Fnotebook.ipynb)"
   ]
  },
  {
   "cell_type": "markdown",
   "metadata": {
    "created_in_deepnote_cell": true,
    "deepnote_cell_type": "markdown"
   },
   "source": [
    "<a style='text-decoration:none;line-height:16px;display:flex;color:#5B5B62;padding:10px;justify-content:end;' href='https://deepnote.com?utm_source=created-in-deepnote-cell&projectId=7e3b6755-5d4b-464b-9b75-9c84667ae3bd' target=\"_blank\">\n",
    "<img alt='Created in deepnote.com' style='display:inline;max-height:16px;margin:0px;margin-right:7.5px;' src='data:image/svg+xml;base64,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' > </img>\n",
    "Created in <span style='font-weight:600;margin-left:4px;'>Deepnote</span></a>"
   ]
  }
 ],
 "metadata": {
  "deepnote_execution_queue": [],
  "deepnote_notebook_id": "0de50f3b70834570b13b651dde44c491",
  "kernelspec": {
   "display_name": "Python 3 (ipykernel)",
   "language": "python",
   "name": "python3"
  },
  "language_info": {
   "codemirror_mode": {
    "name": "ipython",
    "version": 3
   },
   "file_extension": ".py",
   "mimetype": "text/x-python",
   "name": "python",
   "nbconvert_exporter": "python",
   "pygments_lexer": "ipython3",
   "version": "3.9.18"
  }
 },
 "nbformat": 4,
 "nbformat_minor": 1
}
