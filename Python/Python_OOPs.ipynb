{
 "cells": [
  {
   "cell_type": "markdown",
   "id": "9a4bf235",
   "metadata": {},
   "source": [
    "## Object-Oriented Programming (OOP)"
   ]
  },
  {
   "cell_type": "markdown",
   "id": "18ad427c",
   "metadata": {},
   "source": [
    "Object-oriented programming (OOP) is a programming paradigm based on the concept of \"objects\", which can contain data and code to manipulate that data. Here are the key OOP concepts in Python:\n",
    "\n",
    "1. Classes and Objects\n",
    "2. Encapsulation\n",
    "3. Inheritance\n",
    "4. Polymorphism\n",
    "5. Abstraction"
   ]
  },
  {
   "cell_type": "markdown",
   "id": "2033615a",
   "metadata": {},
   "source": [
    "## 1. Classes and Objects"
   ]
  },
  {
   "cell_type": "markdown",
   "id": "1af53f5f",
   "metadata": {},
   "source": [
    "### Classes"
   ]
  },
  {
   "cell_type": "markdown",
   "id": "ecad9d48",
   "metadata": {},
   "source": [
    "A class is a blueprint for creating objects (a particular data structure). It defines a set of attributes and methods that the objects created from the class will have."
   ]
  },
  {
   "cell_type": "markdown",
   "id": "42dc93e8",
   "metadata": {},
   "source": [
    "### Objects"
   ]
  },
  {
   "cell_type": "markdown",
   "id": "0a8939c9",
   "metadata": {},
   "source": [
    "An object is an instance of a class. When a class is defined, no memory is allocated until an object of that class is created."
   ]
  },
  {
   "cell_type": "code",
   "execution_count": 1,
   "id": "ed43d5a6",
   "metadata": {},
   "outputs": [
    {
     "name": "stdout",
     "output_type": "stream",
     "text": [
      "Tomy\n",
      "5\n",
      "Animal\n",
      "Some sound\n"
     ]
    }
   ],
   "source": [
    "# Defining a class\n",
    "class Animal:\n",
    "    # Class attribute\n",
    "    species = \"Animal\"\n",
    "    \n",
    "    # Initializer/Constructor\n",
    "    def __init__(self, name, age):\n",
    "        # Instance attributes\n",
    "        self.name = name\n",
    "        self.age = age\n",
    "    \n",
    "    # Method\n",
    "    def make_sound(self):\n",
    "        return \"Some sound\"\n",
    "\n",
    "# Creating an object of the Animal class\n",
    "dog = Animal(\"Tomy\", 5)\n",
    "\n",
    "# Accessing attributes and methods\n",
    "print(dog.name)           \n",
    "print(dog.age)            \n",
    "print(dog.species)        \n",
    "print(dog.make_sound())   "
   ]
  },
  {
   "cell_type": "markdown",
   "id": "7565d3e2",
   "metadata": {},
   "source": [
    "## 2. Encapsulation"
   ]
  },
  {
   "cell_type": "markdown",
   "id": "53f9be49",
   "metadata": {},
   "source": [
    "Encapsulation is the bundling of data and methods that operate on the data within one unit, such as a class. It restricts direct access to some of an object's components, which can prevent the accidental modification of data."
   ]
  },
  {
   "cell_type": "code",
   "execution_count": 2,
   "id": "102ff033",
   "metadata": {},
   "outputs": [
    {
     "name": "stdout",
     "output_type": "stream",
     "text": [
      "1000\n",
      "1500\n",
      "1300\n"
     ]
    }
   ],
   "source": [
    "class BankAccount:\n",
    "    def __init__(self, balance):\n",
    "        self.__balance = balance  # Private attribute\n",
    "    \n",
    "    # Public method to get balance\n",
    "    def get_balance(self):\n",
    "        return self.__balance\n",
    "    \n",
    "    # Public method to deposit money\n",
    "    def deposit(self, amount):\n",
    "        if amount > 0:\n",
    "            self.__balance += amount\n",
    "    \n",
    "    # Public method to withdraw money\n",
    "    def withdraw(self, amount):\n",
    "        if 0 < amount <= self.__balance:\n",
    "            self.__balance -= amount\n",
    "\n",
    "# Creating an object of BankAccount\n",
    "account = BankAccount(1000)\n",
    "print(account.get_balance())  \n",
    "\n",
    "account.deposit(500)\n",
    "print(account.get_balance())  \n",
    "\n",
    "account.withdraw(200)\n",
    "print(account.get_balance())  \n",
    "\n",
    "# Trying to access the private attribute directly\n",
    "# print(account.__balance)  # This will raise an AttributeError\n"
   ]
  },
  {
   "cell_type": "markdown",
   "id": "955de1a7",
   "metadata": {},
   "source": [
    "## 3. Inheritance"
   ]
  },
  {
   "cell_type": "markdown",
   "id": "750d8c7f",
   "metadata": {},
   "source": [
    "Inheritance is a mechanism for creating a new class that is based on an existing class. The new class, known as the derived or child class, inherits attributes and methods from the existing class, known as the base or parent class."
   ]
  },
  {
   "cell_type": "code",
   "execution_count": 3,
   "id": "34d0d66b",
   "metadata": {},
   "outputs": [
    {
     "name": "stdout",
     "output_type": "stream",
     "text": [
      "Buddy says Woof!\n",
      "Whiskers says Meow!\n"
     ]
    }
   ],
   "source": [
    "# Base class\n",
    "class Animal:\n",
    "    def __init__(self, name):\n",
    "        self.name = name\n",
    "    \n",
    "    def speak(self):\n",
    "        raise NotImplementedError(\"Subclasses must implement this method\")\n",
    "\n",
    "# Derived class\n",
    "class Dog(Animal):\n",
    "    def speak(self):\n",
    "        return f\"{self.name} says Woof!\"\n",
    "\n",
    "# Derived class\n",
    "class Cat(Animal):\n",
    "    def speak(self):\n",
    "        return f\"{self.name} says Meow!\"\n",
    "\n",
    "# Creating objects of derived classes\n",
    "dog = Dog(\"Buddy\")\n",
    "cat = Cat(\"Whiskers\")\n",
    "\n",
    "print(dog.speak())  \n",
    "print(cat.speak())  "
   ]
  },
  {
   "cell_type": "markdown",
   "id": "dd1e1d4e",
   "metadata": {},
   "source": [
    "## 4. Polymorphism"
   ]
  },
  {
   "cell_type": "markdown",
   "id": "82d08555",
   "metadata": {},
   "source": [
    "Polymorphism allows objects of different classes to be treated as objects of a common superclass. It is often used in methods where the exact type of object is not known, and it relies on method overriding."
   ]
  },
  {
   "cell_type": "code",
   "execution_count": 4,
   "id": "95831a1e",
   "metadata": {},
   "outputs": [
    {
     "name": "stdout",
     "output_type": "stream",
     "text": [
      "Sparrow flying\n",
      "Ostriches can't fly\n"
     ]
    }
   ],
   "source": [
    "class Bird:\n",
    "    def fly(self):\n",
    "        return \"Flying\"\n",
    "\n",
    "class Sparrow(Bird):\n",
    "    def fly(self):\n",
    "        return \"Sparrow flying\"\n",
    "\n",
    "class Ostrich(Bird):\n",
    "    def fly(self):\n",
    "        return \"Ostriches can't fly\"\n",
    "\n",
    "# Polymorphism in action\n",
    "def make_bird_fly(bird):\n",
    "    print(bird.fly())\n",
    "\n",
    "sparrow = Sparrow()\n",
    "ostrich = Ostrich()\n",
    "\n",
    "make_bird_fly(sparrow)  \n",
    "make_bird_fly(ostrich)  "
   ]
  },
  {
   "cell_type": "markdown",
   "id": "71963433",
   "metadata": {},
   "source": [
    "## 5. Abstraction "
   ]
  },
  {
   "cell_type": "markdown",
   "id": "d791f483",
   "metadata": {},
   "source": [
    "Abstraction is the concept of hiding the complex implementation details and showing only the essential features of the object. It can be achieved using abstract classes and methods in Python."
   ]
  },
  {
   "cell_type": "code",
   "execution_count": 5,
   "id": "4e7f14e9",
   "metadata": {},
   "outputs": [
    {
     "name": "stdout",
     "output_type": "stream",
     "text": [
      "Area: 200\n",
      "Perimeter: 60\n"
     ]
    }
   ],
   "source": [
    "from abc import ABC, abstractmethod\n",
    "\n",
    "# Abstract base class\n",
    "class Shape(ABC):\n",
    "    @abstractmethod\n",
    "    def area(self):\n",
    "        pass\n",
    "    \n",
    "    @abstractmethod\n",
    "    def perimeter(self):\n",
    "        pass\n",
    "\n",
    "# Derived class\n",
    "class Rectangle(Shape):\n",
    "    def __init__(self, width, height):\n",
    "        self.width = width\n",
    "        self.height = height\n",
    "    \n",
    "    def area(self):\n",
    "        return self.width * self.height\n",
    "    \n",
    "    def perimeter(self):\n",
    "        return 2 * (self.width + self.height)\n",
    "\n",
    "# Creating an object of Rectangle\n",
    "rectangle = Rectangle(10, 20)\n",
    "\n",
    "print(f\"Area: {rectangle.area()}\")         \n",
    "print(f\"Perimeter: {rectangle.perimeter()}\") "
   ]
  },
  {
   "cell_type": "code",
   "execution_count": null,
   "id": "8f227a2e",
   "metadata": {},
   "outputs": [],
   "source": []
  }
 ],
 "metadata": {
  "kernelspec": {
   "display_name": "Python 3 (ipykernel)",
   "language": "python",
   "name": "python3"
  },
  "language_info": {
   "codemirror_mode": {
    "name": "ipython",
    "version": 3
   },
   "file_extension": ".py",
   "mimetype": "text/x-python",
   "name": "python",
   "nbconvert_exporter": "python",
   "pygments_lexer": "ipython3",
   "version": "3.9.18"
  }
 },
 "nbformat": 4,
 "nbformat_minor": 5
}
