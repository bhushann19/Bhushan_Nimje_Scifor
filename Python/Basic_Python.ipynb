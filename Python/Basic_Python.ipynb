{
 "cells": [
  {
   "cell_type": "markdown",
   "id": "c7d286d7",
   "metadata": {},
   "source": [
    "## 1. Variables and Data Types"
   ]
  },
  {
   "cell_type": "markdown",
   "id": "699f532c",
   "metadata": {},
   "source": [
    "Variables in Python are used to store data. Python supports various data types, including integers, floats, strings, and booleans."
   ]
  },
  {
   "cell_type": "code",
   "execution_count": 1,
   "id": "27402851",
   "metadata": {},
   "outputs": [
    {
     "name": "stdout",
     "output_type": "stream",
     "text": [
      "10\n",
      "3.14\n",
      "Alice\n",
      "True\n"
     ]
    }
   ],
   "source": [
    "# Variable assignment\n",
    "x = 10           # Integer\n",
    "y = 3.14         # Float\n",
    "name = \"Alice\"   # String\n",
    "is_student = True # Boolean\n",
    "\n",
    "# Printing variables\n",
    "print(x)         \n",
    "print(y)         \n",
    "print(name)      \n",
    "print(is_student)\n"
   ]
  },
  {
   "cell_type": "markdown",
   "id": "9d8d940c",
   "metadata": {},
   "source": [
    "## 2. Control Structures"
   ]
  },
  {
   "cell_type": "markdown",
   "id": "acaae5b0",
   "metadata": {},
   "source": [
    "Control structures include conditional statements and loops."
   ]
  },
  {
   "cell_type": "markdown",
   "id": "212972a2",
   "metadata": {},
   "source": [
    "### Conditional Statements"
   ]
  },
  {
   "cell_type": "code",
   "execution_count": 2,
   "id": "f2073ff2",
   "metadata": {},
   "outputs": [
    {
     "name": "stdout",
     "output_type": "stream",
     "text": [
      "Just became an adult\n"
     ]
    }
   ],
   "source": [
    "# If-elif-else statement\n",
    "age = 18\n",
    "if age < 18:\n",
    "    print(\"Minor\")\n",
    "elif age == 18:\n",
    "    print(\"Just became an adult\")\n",
    "else:\n",
    "    print(\"Adult\")\n"
   ]
  },
  {
   "cell_type": "markdown",
   "id": "da3e342e",
   "metadata": {},
   "source": [
    "### Loops"
   ]
  },
  {
   "cell_type": "markdown",
   "id": "ae3eddd3",
   "metadata": {},
   "source": [
    "#### For Loop"
   ]
  },
  {
   "cell_type": "markdown",
   "id": "2ca46f7b",
   "metadata": {},
   "source": [
    "A for loop in Python is used to iterate over a sequence (such as a list, tuple, dictionary, set, or string). This allows you to execute a block of code multiple times, once for each item in the sequence."
   ]
  },
  {
   "cell_type": "code",
   "execution_count": null,
   "id": "3eda3eec",
   "metadata": {},
   "outputs": [],
   "source": [
    "# Basic Syntax\n",
    "for item in sequence:\n",
    "    # Code to execute for each item"
   ]
  },
  {
   "cell_type": "code",
   "execution_count": 4,
   "id": "ed002156",
   "metadata": {},
   "outputs": [
    {
     "name": "stdout",
     "output_type": "stream",
     "text": [
      "apple\n",
      "banana\n",
      "cherry\n"
     ]
    }
   ],
   "source": [
    "# Example 1: Iterating Over a List\n",
    "# Define a list of fruits\n",
    "fruits = ['apple', 'banana', 'cherry']\n",
    "\n",
    "# Iterate over each fruit in the list\n",
    "for fruit in fruits:\n",
    "    print(fruit)  # Print the current fruit\n"
   ]
  },
  {
   "cell_type": "code",
   "execution_count": 5,
   "id": "49f21676",
   "metadata": {},
   "outputs": [
    {
     "name": "stdout",
     "output_type": "stream",
     "text": [
      "0\n",
      "1\n",
      "2\n",
      "3\n",
      "4\n"
     ]
    }
   ],
   "source": [
    "# Example 2: Using range() Function\n",
    "# Use range() to generate a sequence of numbers from 0 to 4\n",
    "for i in range(5):\n",
    "    print(i)  # Print the current number\n"
   ]
  },
  {
   "cell_type": "markdown",
   "id": "65766846",
   "metadata": {},
   "source": [
    "#### While Loop"
   ]
  },
  {
   "cell_type": "markdown",
   "id": "893c2dca",
   "metadata": {},
   "source": [
    "A while loop in Python repeatedly executes a block of code as long as a given condition is True."
   ]
  },
  {
   "cell_type": "code",
   "execution_count": 6,
   "id": "99f6242f",
   "metadata": {},
   "outputs": [],
   "source": [
    "# Basic Syntax\n",
    "while condition:\n",
    "    # Code to execute as long as condition is True"
   ]
  },
  {
   "cell_type": "code",
   "execution_count": 7,
   "id": "afd684dc",
   "metadata": {},
   "outputs": [
    {
     "name": "stdout",
     "output_type": "stream",
     "text": [
      "0\n",
      "1\n",
      "2\n",
      "3\n",
      "4\n"
     ]
    }
   ],
   "source": [
    "# Example 1: Basic While Loop\n",
    "# Initialize a counter variable\n",
    "counter = 0\n",
    "\n",
    "# Loop as long as counter is less than 5\n",
    "while counter < 5:\n",
    "    print(counter)  # Print the current value of counter\n",
    "    counter += 1    # Increment the counter\n"
   ]
  },
  {
   "cell_type": "code",
   "execution_count": 8,
   "id": "70d1968a",
   "metadata": {},
   "outputs": [
    {
     "name": "stdout",
     "output_type": "stream",
     "text": [
      "0\n",
      "1\n",
      "2\n",
      "3\n",
      "4\n"
     ]
    }
   ],
   "source": [
    "# Example 2: Using a break Statement (Break Statement: Exits the loop prematurely.)\n",
    "# Initialize a counter variable\n",
    "counter = 0\n",
    "\n",
    "# Loop indefinitely\n",
    "while True:\n",
    "    print(counter)  # Print the current value of counter\n",
    "    counter += 1    # Increment the counter\n",
    "    if counter >= 5:\n",
    "        break  # Exit the loop if counter reaches 5\n"
   ]
  },
  {
   "cell_type": "code",
   "execution_count": 9,
   "id": "2cfbeea1",
   "metadata": {},
   "outputs": [
    {
     "name": "stdout",
     "output_type": "stream",
     "text": [
      "1\n",
      "3\n",
      "5\n",
      "7\n",
      "9\n"
     ]
    }
   ],
   "source": [
    "# Example 3: Using a continue Statement (Continue Statement: Skips the current iteration and continues with the next iteration.)\n",
    "# Initialize a counter variable\n",
    "counter = 0\n",
    "\n",
    "# Loop indefinitely\n",
    "while counter < 10:\n",
    "    counter += 1  # Increment the counter\n",
    "    \n",
    "    # Skip the rest of the loop if counter is even\n",
    "    if counter % 2 == 0:\n",
    "        continue\n",
    "    \n",
    "    print(counter)  # Print the current value of counter if it's odd\n"
   ]
  },
  {
   "cell_type": "markdown",
   "id": "0c8c695b",
   "metadata": {},
   "source": [
    "## 3. Functions"
   ]
  },
  {
   "cell_type": "markdown",
   "id": "b54e7f66",
   "metadata": {},
   "source": [
    "Functions are reusable blocks of code that perform a specific task."
   ]
  },
  {
   "cell_type": "code",
   "execution_count": 10,
   "id": "1559a66d",
   "metadata": {},
   "outputs": [
    {
     "name": "stdout",
     "output_type": "stream",
     "text": [
      "Hello, Alice!\n",
      "Hello, Bob!\n",
      "Hi, Charlie!\n"
     ]
    }
   ],
   "source": [
    "# Defining a function\n",
    "def greet(name):\n",
    "    return f\"Hello, {name}!\"\n",
    "\n",
    "# Calling a function\n",
    "message = greet(\"Alice\")\n",
    "print(message)  # Output: Hello, Alice!\n",
    "\n",
    "# Function with default arguments\n",
    "def greet(name, greeting=\"Hello\"):\n",
    "    return f\"{greeting}, {name}!\"\n",
    "\n",
    "print(greet(\"Bob\"))               \n",
    "print(greet(\"Charlie\", \"Hi\")) \n"
   ]
  },
  {
   "cell_type": "markdown",
   "id": "44c77c84",
   "metadata": {},
   "source": [
    "## 4. Modules and Packages"
   ]
  },
  {
   "cell_type": "markdown",
   "id": "912a27d2",
   "metadata": {},
   "source": [
    "Modules are files containing Python code. Packages are collections of modules."
   ]
  },
  {
   "cell_type": "code",
   "execution_count": 11,
   "id": "e615ac78",
   "metadata": {},
   "outputs": [
    {
     "name": "stdout",
     "output_type": "stream",
     "text": [
      "4.0\n",
      "3.141592653589793\n",
      "1.0\n"
     ]
    }
   ],
   "source": [
    "# Importing a module\n",
    "import math\n",
    "print(math.sqrt(16))  \n",
    "\n",
    "# Importing specific functions from a module\n",
    "from math import pi, sin\n",
    "print(pi)             \n",
    "print(sin(pi/2))      \n"
   ]
  },
  {
   "cell_type": "markdown",
   "id": "814106a9",
   "metadata": {},
   "source": [
    "## 5. File Handling"
   ]
  },
  {
   "cell_type": "markdown",
   "id": "3f64efd3",
   "metadata": {},
   "source": [
    "Reading from and writing to files in Python."
   ]
  },
  {
   "cell_type": "code",
   "execution_count": 12,
   "id": "791c7071",
   "metadata": {},
   "outputs": [
    {
     "name": "stdout",
     "output_type": "stream",
     "text": [
      "Hello, world!\n"
     ]
    }
   ],
   "source": [
    "# Writing to a file\n",
    "with open(\"example.txt\", \"w\") as file:\n",
    "    file.write(\"Hello, world!\")\n",
    "\n",
    "# Reading from a file\n",
    "with open(\"example.txt\", \"r\") as file:\n",
    "    content = file.read()\n",
    "    print(content)  \n"
   ]
  },
  {
   "cell_type": "markdown",
   "id": "723e41eb",
   "metadata": {},
   "source": [
    "## 6. Exception Handling"
   ]
  },
  {
   "cell_type": "markdown",
   "id": "e4034238",
   "metadata": {},
   "source": [
    "Handling errors and exceptions to ensure the program doesn't crash unexpectedly."
   ]
  },
  {
   "cell_type": "code",
   "execution_count": 13,
   "id": "5a2c66e5",
   "metadata": {},
   "outputs": [
    {
     "name": "stdout",
     "output_type": "stream",
     "text": [
      "You cannot divide by zero!\n",
      "This will always run.\n"
     ]
    }
   ],
   "source": [
    "try:\n",
    "    # Code that may cause an exception\n",
    "    result = 10 / 0\n",
    "except ZeroDivisionError:\n",
    "    # Code to run if there is a ZeroDivisionError\n",
    "    print(\"You cannot divide by zero!\")\n",
    "finally:\n",
    "    # Code to run no matter what\n",
    "    print(\"This will always run.\")\n"
   ]
  },
  {
   "cell_type": "markdown",
   "id": "3cc43154",
   "metadata": {},
   "source": [
    "## 7. List Comprehensions"
   ]
  },
  {
   "cell_type": "markdown",
   "id": "6c30a2a3",
   "metadata": {},
   "source": [
    "A concise way to create lists."
   ]
  },
  {
   "cell_type": "code",
   "execution_count": 14,
   "id": "d3ce3499",
   "metadata": {},
   "outputs": [
    {
     "name": "stdout",
     "output_type": "stream",
     "text": [
      "[0, 1, 4, 9, 16, 25, 36, 49, 64, 81]\n"
     ]
    }
   ],
   "source": [
    "# Traditional way\n",
    "squares = []\n",
    "for x in range(10):\n",
    "    squares.append(x**2)\n",
    "\n",
    "# Using list comprehension\n",
    "squares = [x**2 for x in range(10)]\n",
    "print(squares)  \n"
   ]
  },
  {
   "cell_type": "markdown",
   "id": "347c2c5b",
   "metadata": {},
   "source": [
    "## 8. Lambda Functions"
   ]
  },
  {
   "cell_type": "markdown",
   "id": "67890d40",
   "metadata": {},
   "source": [
    "Small anonymous functions defined using the lambda keyword."
   ]
  },
  {
   "cell_type": "code",
   "execution_count": 15,
   "id": "c6eb5db7",
   "metadata": {},
   "outputs": [
    {
     "name": "stdout",
     "output_type": "stream",
     "text": [
      "5\n"
     ]
    }
   ],
   "source": [
    "# Traditional function\n",
    "def add(x, y):\n",
    "    return x + y\n",
    "\n",
    "# Lambda function\n",
    "add = lambda x, y: x + y\n",
    "\n",
    "print(add(2, 3))\n"
   ]
  },
  {
   "cell_type": "code",
   "execution_count": null,
   "id": "eb6a2ba0",
   "metadata": {},
   "outputs": [],
   "source": []
  }
 ],
 "metadata": {
  "kernelspec": {
   "display_name": "Python 3 (ipykernel)",
   "language": "python",
   "name": "python3"
  },
  "language_info": {
   "codemirror_mode": {
    "name": "ipython",
    "version": 3
   },
   "file_extension": ".py",
   "mimetype": "text/x-python",
   "name": "python",
   "nbconvert_exporter": "python",
   "pygments_lexer": "ipython3",
   "version": "3.9.18"
  }
 },
 "nbformat": 4,
 "nbformat_minor": 5
}
