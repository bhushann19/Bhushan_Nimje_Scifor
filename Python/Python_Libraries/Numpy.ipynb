{
 "cells": [
  {
   "cell_type": "markdown",
   "id": "004cf64f",
   "metadata": {},
   "source": [
    "NumPy (Numerical Python) is a fundamental package for scientific computing in Python. It provides support for arrays, matrices, and many mathematical functions to operate on these data structures efficiently."
   ]
  },
  {
   "cell_type": "markdown",
   "id": "aa55fb06",
   "metadata": {},
   "source": [
    "## 1. Introduction to NumPy"
   ]
  },
  {
   "cell_type": "markdown",
   "id": "57f93df0",
   "metadata": {},
   "source": [
    "To use NumPy, you first need to import it. By convention, NumPy is imported with the alias np."
   ]
  },
  {
   "cell_type": "code",
   "execution_count": 1,
   "id": "4e613c26",
   "metadata": {},
   "outputs": [],
   "source": [
    "import numpy as np"
   ]
  },
  {
   "cell_type": "markdown",
   "id": "9db63d9b",
   "metadata": {},
   "source": [
    "## 2. Arrays"
   ]
  },
  {
   "cell_type": "markdown",
   "id": "4b44dc90",
   "metadata": {},
   "source": [
    "The central feature of NumPy is the ndarray, a homogeneous n-dimensional array object."
   ]
  },
  {
   "cell_type": "markdown",
   "id": "216cb804",
   "metadata": {},
   "source": [
    "### i. Creating Arrays"
   ]
  },
  {
   "cell_type": "markdown",
   "id": "fafff0c1",
   "metadata": {},
   "source": [
    "#### From a list"
   ]
  },
  {
   "cell_type": "code",
   "execution_count": 2,
   "id": "32a16b40",
   "metadata": {},
   "outputs": [
    {
     "name": "stdout",
     "output_type": "stream",
     "text": [
      "[1 2 3 4 5]\n",
      "\n",
      "\n",
      "[[1 2 3]\n",
      " [4 5 6]]\n"
     ]
    }
   ],
   "source": [
    "# Creating a 1D array from a list\n",
    "arr = np.array([1, 2, 3, 4, 5])\n",
    "print(arr) \n",
    "print('\\n')\n",
    "\n",
    "# Creating a 2D array from a list of lists\n",
    "arr_2d = np.array([[1, 2, 3], [4, 5, 6]])\n",
    "print(arr_2d)"
   ]
  },
  {
   "cell_type": "markdown",
   "id": "7d012072",
   "metadata": {},
   "source": [
    "#### Using built-in functions"
   ]
  },
  {
   "cell_type": "code",
   "execution_count": 3,
   "id": "bb6b1b44",
   "metadata": {},
   "outputs": [
    {
     "name": "stdout",
     "output_type": "stream",
     "text": [
      "[[0. 0. 0.]\n",
      " [0. 0. 0.]]\n",
      "\n",
      "\n",
      "[[1. 1.]\n",
      " [1. 1.]\n",
      " [1. 1.]]\n",
      "\n",
      "\n",
      "[0 2 4 6 8]\n",
      "\n",
      "\n",
      "[0.   0.25 0.5  0.75 1.  ]\n"
     ]
    }
   ],
   "source": [
    "# Creating an array of zeros\n",
    "zeros = np.zeros((2, 3))\n",
    "print(zeros)\n",
    "print('\\n')\n",
    "\n",
    "# Creating an array of ones\n",
    "ones = np.ones((3, 2))\n",
    "print(ones)\n",
    "print('\\n')\n",
    "\n",
    "# Creating an array with a range of values\n",
    "range_array = np.arange(0, 10, 2)\n",
    "print(range_array)\n",
    "print('\\n')\n",
    "\n",
    "# Creating an array with evenly spaced values\n",
    "linspace_array = np.linspace(0, 1, 5)\n",
    "print(linspace_array) "
   ]
  },
  {
   "cell_type": "markdown",
   "id": "07fcdb4c",
   "metadata": {},
   "source": [
    "## 3. Array Attributes "
   ]
  },
  {
   "cell_type": "markdown",
   "id": "710f7d81",
   "metadata": {},
   "source": [
    "### Common attributes of arrays"
   ]
  },
  {
   "cell_type": "code",
   "execution_count": 4,
   "id": "57ab1fe1",
   "metadata": {},
   "outputs": [
    {
     "name": "stdout",
     "output_type": "stream",
     "text": [
      "(2, 3)\n",
      "\n",
      "\n",
      "2\n",
      "\n",
      "\n",
      "6\n",
      "\n",
      "\n",
      "int64\n"
     ]
    }
   ],
   "source": [
    "arr = np.array([[1, 2, 3], [4, 5, 6]])\n",
    "\n",
    "# Shape of the array\n",
    "print(arr.shape)\n",
    "print('\\n')\n",
    "\n",
    "# Number of dimensions\n",
    "print(arr.ndim)\n",
    "print('\\n')\n",
    "\n",
    "# Size (total number of elements)\n",
    "print(arr.size)  \n",
    "print('\\n')\n",
    "\n",
    "# Data type of the elements\n",
    "print(arr.dtype)"
   ]
  },
  {
   "cell_type": "markdown",
   "id": "046931b6",
   "metadata": {},
   "source": [
    "## 4. Array Indexing and Slicing"
   ]
  },
  {
   "cell_type": "markdown",
   "id": "916e0edd",
   "metadata": {},
   "source": [
    "### Indexing"
   ]
  },
  {
   "cell_type": "code",
   "execution_count": 5,
   "id": "1868a326",
   "metadata": {},
   "outputs": [
    {
     "name": "stdout",
     "output_type": "stream",
     "text": [
      "10\n",
      "50\n",
      "\n",
      "\n",
      "2\n"
     ]
    }
   ],
   "source": [
    "arr = np.array([10, 20, 30, 40, 50])\n",
    "print(arr[0])  \n",
    "print(arr[-1])\n",
    "print('\\n')\n",
    "\n",
    "arr_2d = np.array([[1, 2, 3], [4, 5, 6]])\n",
    "print(arr_2d[0, 1])  # Output: 2 (element at first row, second column)\n"
   ]
  },
  {
   "cell_type": "markdown",
   "id": "c0b8e03c",
   "metadata": {},
   "source": [
    "### Slicing"
   ]
  },
  {
   "cell_type": "code",
   "execution_count": 6,
   "id": "cc883ded",
   "metadata": {},
   "outputs": [
    {
     "name": "stdout",
     "output_type": "stream",
     "text": [
      "[20 30 40]\n",
      "\n",
      "\n",
      "[2 5]\n",
      "[4 5 6]\n"
     ]
    }
   ],
   "source": [
    "# 1D array slicing\n",
    "print(arr[1:4])\n",
    "print('\\n')\n",
    "\n",
    "# 2D array slicing\n",
    "print(arr_2d[:, 1])  # (second column of all rows)\n",
    "print(arr_2d[1, :])  # (all columns of second row)"
   ]
  },
  {
   "cell_type": "markdown",
   "id": "fcf1516e",
   "metadata": {},
   "source": [
    "## 5. Array Operations"
   ]
  },
  {
   "cell_type": "markdown",
   "id": "4246bf45",
   "metadata": {},
   "source": [
    "### Arithmetic operations"
   ]
  },
  {
   "cell_type": "code",
   "execution_count": 7,
   "id": "9403e635",
   "metadata": {},
   "outputs": [
    {
     "name": "stdout",
     "output_type": "stream",
     "text": [
      "[5 7 9]\n",
      "\n",
      "\n",
      "[ 4 10 18]\n",
      "\n",
      "\n",
      "[-3 -3 -3]\n",
      "\n",
      "\n",
      "[0.25 0.4  0.5 ]\n"
     ]
    }
   ],
   "source": [
    "arr1 = np.array([1, 2, 3])\n",
    "arr2 = np.array([4, 5, 6])\n",
    "\n",
    "# Element-wise addition\n",
    "print(arr1 + arr2)\n",
    "print('\\n')\n",
    "\n",
    "# Element-wise multiplication\n",
    "print(arr1 * arr2)  \n",
    "print('\\n')\n",
    "\n",
    "# Element-wise subtraction\n",
    "print(arr1 - arr2)  \n",
    "print('\\n')\n",
    "\n",
    "# Element-wise division\n",
    "print(arr1 / arr2)  "
   ]
  },
  {
   "cell_type": "markdown",
   "id": "4f0876cf",
   "metadata": {},
   "source": [
    "### Universal functions (ufuncs)"
   ]
  },
  {
   "cell_type": "code",
   "execution_count": 8,
   "id": "a6fd3669",
   "metadata": {},
   "outputs": [
    {
     "name": "stdout",
     "output_type": "stream",
     "text": [
      "[1.         1.41421356 1.73205081]\n",
      "\n",
      "\n",
      "[ 2.71828183  7.3890561  20.08553692]\n",
      "\n",
      "\n",
      "[0.84147098 0.90929743 0.14112001]\n"
     ]
    }
   ],
   "source": [
    "# Square root\n",
    "print(np.sqrt(arr1)) \n",
    "print('\\n')\n",
    "\n",
    "# Exponential\n",
    "print(np.exp(arr1))  \n",
    "print('\\n')\n",
    "\n",
    "# Sine\n",
    "print(np.sin(arr1)) "
   ]
  },
  {
   "cell_type": "markdown",
   "id": "883fa870",
   "metadata": {},
   "source": [
    "## 6. Array Manipulation"
   ]
  },
  {
   "cell_type": "markdown",
   "id": "5c7e4244",
   "metadata": {},
   "source": [
    "### Reshaping"
   ]
  },
  {
   "cell_type": "code",
   "execution_count": 9,
   "id": "61a5bb85",
   "metadata": {},
   "outputs": [
    {
     "name": "stdout",
     "output_type": "stream",
     "text": [
      "[[1 2 3]\n",
      " [4 5 6]]\n"
     ]
    }
   ],
   "source": [
    "arr = np.arange(1, 7)\n",
    "reshaped_arr = arr.reshape((2, 3))\n",
    "print(reshaped_arr)"
   ]
  },
  {
   "cell_type": "markdown",
   "id": "456c5f6e",
   "metadata": {},
   "source": [
    "### Flattening"
   ]
  },
  {
   "cell_type": "code",
   "execution_count": 10,
   "id": "37c42dbc",
   "metadata": {},
   "outputs": [
    {
     "name": "stdout",
     "output_type": "stream",
     "text": [
      "[1 2 3 4 5 6]\n"
     ]
    }
   ],
   "source": [
    "flattened_arr = reshaped_arr.flatten()\n",
    "print(flattened_arr)  "
   ]
  },
  {
   "cell_type": "markdown",
   "id": "3e664204",
   "metadata": {},
   "source": [
    "### Concatenation"
   ]
  },
  {
   "cell_type": "code",
   "execution_count": 11,
   "id": "ebc91f6b",
   "metadata": {},
   "outputs": [
    {
     "name": "stdout",
     "output_type": "stream",
     "text": [
      "[[1 2]\n",
      " [3 4]\n",
      " [5 6]]\n",
      "\n",
      "\n",
      "[[1 2 7]\n",
      " [3 4 8]]\n"
     ]
    }
   ],
   "source": [
    "arr1 = np.array([[1, 2], [3, 4]])\n",
    "arr2 = np.array([[5, 6]])\n",
    "\n",
    "# Concatenating arrays along rows (axis 0)\n",
    "concat_arr = np.concatenate((arr1, arr2), axis=0)\n",
    "print(concat_arr)\n",
    "print('\\n')\n",
    "\n",
    "# Concatenating arrays along columns (axis 1)\n",
    "arr3 = np.array([[7], [8]])\n",
    "concat_arr = np.concatenate((arr1, arr3), axis=1)\n",
    "print(concat_arr)"
   ]
  },
  {
   "cell_type": "markdown",
   "id": "ded26734",
   "metadata": {},
   "source": [
    "## 7. Statistical Operations"
   ]
  },
  {
   "cell_type": "markdown",
   "id": "42073c47",
   "metadata": {},
   "source": [
    "### Basic statistical functions"
   ]
  },
  {
   "cell_type": "code",
   "execution_count": 12,
   "id": "fbad3e03",
   "metadata": {},
   "outputs": [
    {
     "name": "stdout",
     "output_type": "stream",
     "text": [
      "21\n",
      "\n",
      "\n",
      "3.5\n",
      "\n",
      "\n",
      "1.707825127659933\n",
      "\n",
      "\n",
      "1\n",
      "\n",
      "\n",
      "6\n",
      "\n",
      "\n",
      "[5 7 9]\n",
      "[ 6 15]\n"
     ]
    }
   ],
   "source": [
    "arr = np.array([[1, 2, 3], [4, 5, 6]])\n",
    "\n",
    "# Sum\n",
    "print(np.sum(arr))\n",
    "print('\\n')\n",
    "\n",
    "# Mean\n",
    "print(np.mean(arr))  \n",
    "print('\\n')\n",
    "\n",
    "# Standard deviation\n",
    "print(np.std(arr))  \n",
    "print('\\n')\n",
    "\n",
    "# Minimum\n",
    "print(np.min(arr))  \n",
    "print('\\n')\n",
    "\n",
    "# Maximum\n",
    "print(np.max(arr))  \n",
    "print('\\n')\n",
    "\n",
    "# Sum along an axis\n",
    "print(np.sum(arr, axis=0))  # (sum of each column)\n",
    "print(np.sum(arr, axis=1))  # (sum of each row)\n"
   ]
  },
  {
   "cell_type": "markdown",
   "id": "de46afc8",
   "metadata": {},
   "source": [
    "## 8. Linear Algebra"
   ]
  },
  {
   "cell_type": "markdown",
   "id": "9430734f",
   "metadata": {},
   "source": [
    "### Dot product"
   ]
  },
  {
   "cell_type": "code",
   "execution_count": 13,
   "id": "b1f75bd3",
   "metadata": {},
   "outputs": [
    {
     "name": "stdout",
     "output_type": "stream",
     "text": [
      "[[19 22]\n",
      " [43 50]]\n"
     ]
    }
   ],
   "source": [
    "arr1 = np.array([[1, 2], [3, 4]])\n",
    "arr2 = np.array([[5, 6], [7, 8]])\n",
    "\n",
    "dot_product = np.dot(arr1, arr2)\n",
    "print(dot_product)"
   ]
  },
  {
   "cell_type": "markdown",
   "id": "6aa8901f",
   "metadata": {},
   "source": [
    "### Matrix multiplication"
   ]
  },
  {
   "cell_type": "code",
   "execution_count": 14,
   "id": "4900eb78",
   "metadata": {},
   "outputs": [
    {
     "name": "stdout",
     "output_type": "stream",
     "text": [
      "[[19 22]\n",
      " [43 50]]\n"
     ]
    }
   ],
   "source": [
    "matrix_product = np.matmul(arr1, arr2)\n",
    "print(matrix_product)"
   ]
  },
  {
   "cell_type": "markdown",
   "id": "25b95c33",
   "metadata": {},
   "source": [
    "### Determinant"
   ]
  },
  {
   "cell_type": "code",
   "execution_count": 15,
   "id": "1cfd37d7",
   "metadata": {},
   "outputs": [
    {
     "name": "stdout",
     "output_type": "stream",
     "text": [
      "-2.0000000000000004\n"
     ]
    }
   ],
   "source": [
    "det = np.linalg.det(arr1)\n",
    "print(det) "
   ]
  },
  {
   "cell_type": "markdown",
   "id": "b976f1c7",
   "metadata": {},
   "source": [
    "### Inverse"
   ]
  },
  {
   "cell_type": "code",
   "execution_count": 16,
   "id": "240041b3",
   "metadata": {},
   "outputs": [
    {
     "name": "stdout",
     "output_type": "stream",
     "text": [
      "[[-2.   1. ]\n",
      " [ 1.5 -0.5]]\n"
     ]
    }
   ],
   "source": [
    "inv = np.linalg.inv(arr1)\n",
    "print(inv)"
   ]
  },
  {
   "cell_type": "markdown",
   "id": "a8ee08de",
   "metadata": {},
   "source": [
    "## 9. Random Module"
   ]
  },
  {
   "cell_type": "markdown",
   "id": "c525c60f",
   "metadata": {},
   "source": [
    "NumPy also includes a random module for generating random numbers and performing random operations."
   ]
  },
  {
   "cell_type": "code",
   "execution_count": 17,
   "id": "1487c657",
   "metadata": {},
   "outputs": [
    {
     "name": "stdout",
     "output_type": "stream",
     "text": [
      "[[0.87542702 0.65221273]\n",
      " [0.13105851 0.37571866]\n",
      " [0.13266352 0.68976846]]\n",
      "\n",
      "\n",
      "[[2 4 4]\n",
      " [6 4 0]\n",
      " [0 4 2]]\n"
     ]
    }
   ],
   "source": [
    "# Generating a random array\n",
    "random_arr = np.random.rand(3, 2)\n",
    "print(random_arr)\n",
    "print('\\n')\n",
    "\n",
    "# Generating random integers\n",
    "random_int_arr = np.random.randint(0, 10, (3, 3))\n",
    "print(random_int_arr)"
   ]
  },
  {
   "cell_type": "markdown",
   "id": "b3d3023f",
   "metadata": {},
   "source": [
    "## 10. Broadcasting"
   ]
  },
  {
   "cell_type": "markdown",
   "id": "9e157410",
   "metadata": {},
   "source": [
    "Broadcasting is a powerful mechanism that allows numpy to work with arrays of different shapes when performing arithmetic operations."
   ]
  },
  {
   "cell_type": "code",
   "execution_count": 18,
   "id": "a8907f0d",
   "metadata": {},
   "outputs": [
    {
     "name": "stdout",
     "output_type": "stream",
     "text": [
      "[[2 3 4]\n",
      " [3 4 5]\n",
      " [4 5 6]]\n"
     ]
    }
   ],
   "source": [
    "arr1 = np.array([1, 2, 3])\n",
    "arr2 = np.array([[1], [2], [3]])\n",
    "\n",
    "# Broadcasting arr1 to match the shape of arr2\n",
    "result = arr1 + arr2\n",
    "print(result)"
   ]
  },
  {
   "cell_type": "code",
   "execution_count": null,
   "id": "a78e6490",
   "metadata": {},
   "outputs": [],
   "source": []
  }
 ],
 "metadata": {
  "kernelspec": {
   "display_name": "Python 3 (ipykernel)",
   "language": "python",
   "name": "python3"
  },
  "language_info": {
   "codemirror_mode": {
    "name": "ipython",
    "version": 3
   },
   "file_extension": ".py",
   "mimetype": "text/x-python",
   "name": "python",
   "nbconvert_exporter": "python",
   "pygments_lexer": "ipython3",
   "version": "3.9.18"
  }
 },
 "nbformat": 4,
 "nbformat_minor": 5
}
