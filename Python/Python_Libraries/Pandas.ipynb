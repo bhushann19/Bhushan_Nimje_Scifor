{
 "cells": [
  {
   "cell_type": "markdown",
   "id": "61f169c3",
   "metadata": {},
   "source": [
    "## 1. Introduction to Pandas"
   ]
  },
  {
   "cell_type": "markdown",
   "id": "09a1f84a",
   "metadata": {},
   "source": [
    "To use Pandas, you first need to import it. By convention, Pandas is imported with the alias pd."
   ]
  },
  {
   "cell_type": "code",
   "execution_count": 1,
   "id": "1a1152d6",
   "metadata": {},
   "outputs": [],
   "source": [
    "import pandas as pd"
   ]
  },
  {
   "cell_type": "markdown",
   "id": "9210353f",
   "metadata": {},
   "source": [
    "## 2. Series"
   ]
  },
  {
   "cell_type": "markdown",
   "id": "e35dd1ad",
   "metadata": {},
   "source": [
    "A Series is a one-dimensional array-like object that can hold any data type."
   ]
  },
  {
   "cell_type": "markdown",
   "id": "c68b924c",
   "metadata": {},
   "source": [
    "### Creating a Series"
   ]
  },
  {
   "cell_type": "code",
   "execution_count": 2,
   "id": "a1ebe33b",
   "metadata": {},
   "outputs": [
    {
     "name": "stdout",
     "output_type": "stream",
     "text": [
      "0    1\n",
      "1    2\n",
      "2    3\n",
      "3    4\n",
      "4    5\n",
      "dtype: int64\n",
      "a    1\n",
      "b    2\n",
      "c    3\n",
      "d    4\n",
      "e    5\n",
      "dtype: int64\n"
     ]
    }
   ],
   "source": [
    "# Creating a Series from a list\n",
    "data = [1, 2, 3, 4, 5]\n",
    "s = pd.Series(data)\n",
    "print(s)\n",
    "\n",
    "# Creating a Series with custom indices\n",
    "s = pd.Series(data, index=['a', 'b', 'c', 'd', 'e'])\n",
    "print(s)"
   ]
  },
  {
   "cell_type": "markdown",
   "id": "f00a1ff2",
   "metadata": {},
   "source": [
    "## 3. DataFrame"
   ]
  },
  {
   "cell_type": "markdown",
   "id": "0f3b89c5",
   "metadata": {},
   "source": [
    "A DataFrame is a two-dimensional, size-mutable, and potentially heterogeneous tabular data structure with labeled axes (rows and columns)."
   ]
  },
  {
   "cell_type": "markdown",
   "id": "0b9cb3df",
   "metadata": {},
   "source": [
    "### Creating a DataFrame"
   ]
  },
  {
   "cell_type": "markdown",
   "id": "6909c53b",
   "metadata": {},
   "source": [
    "#### From a dictionary"
   ]
  },
  {
   "cell_type": "code",
   "execution_count": 3,
   "id": "280e2a64",
   "metadata": {},
   "outputs": [
    {
     "name": "stdout",
     "output_type": "stream",
     "text": [
      "      Name  Age         City\n",
      "0    Alice   25     New York\n",
      "1      Bob   30  Los Angeles\n",
      "2  Charlie   35      Chicago\n"
     ]
    }
   ],
   "source": [
    "# Creating a DataFrame from a dictionary\n",
    "data = {\n",
    "    'Name': ['Alice', 'Bob', 'Charlie'],\n",
    "    'Age': [25, 30, 35],\n",
    "    'City': ['New York', 'Los Angeles', 'Chicago']\n",
    "}\n",
    "df = pd.DataFrame(data)\n",
    "print(df)"
   ]
  },
  {
   "cell_type": "markdown",
   "id": "e55f938f",
   "metadata": {},
   "source": [
    "#### From a list of dictionaries"
   ]
  },
  {
   "cell_type": "code",
   "execution_count": 4,
   "id": "06b973d5",
   "metadata": {},
   "outputs": [
    {
     "name": "stdout",
     "output_type": "stream",
     "text": [
      "      Name  Age         City\n",
      "0    Alice   25     New York\n",
      "1      Bob   30  Los Angeles\n",
      "2  Charlie   35      Chicago\n"
     ]
    }
   ],
   "source": [
    "# Creating a DataFrame from a list of dictionaries\n",
    "data = [\n",
    "    {'Name': 'Alice', 'Age': 25, 'City': 'New York'},\n",
    "    {'Name': 'Bob', 'Age': 30, 'City': 'Los Angeles'},\n",
    "    {'Name': 'Charlie', 'Age': 35, 'City': 'Chicago'}\n",
    "]\n",
    "df = pd.DataFrame(data)\n",
    "print(df)"
   ]
  },
  {
   "cell_type": "markdown",
   "id": "04c5571c",
   "metadata": {},
   "source": [
    "#### From a CSV file"
   ]
  },
  {
   "cell_type": "code",
   "execution_count": null,
   "id": "88bf5af6",
   "metadata": {},
   "outputs": [],
   "source": [
    "# Creating a DataFrame by reading a CSV file\n",
    "df = pd.read_csv('data.csv')\n",
    "print(df)"
   ]
  },
  {
   "cell_type": "markdown",
   "id": "4cb5d96f",
   "metadata": {},
   "source": [
    "## 4. Basic DataFrame Operations"
   ]
  },
  {
   "cell_type": "markdown",
   "id": "129d5812",
   "metadata": {},
   "source": [
    "### 1. Viewing Data"
   ]
  },
  {
   "cell_type": "code",
   "execution_count": 6,
   "id": "ce17e620",
   "metadata": {},
   "outputs": [
    {
     "name": "stdout",
     "output_type": "stream",
     "text": [
      "      Name  Age         City\n",
      "0    Alice   25     New York\n",
      "1      Bob   30  Los Angeles\n",
      "2  Charlie   35      Chicago\n",
      "\n",
      "\n",
      "      Name  Age         City\n",
      "0    Alice   25     New York\n",
      "1      Bob   30  Los Angeles\n",
      "2  Charlie   35      Chicago\n",
      "\n",
      "\n",
      "<class 'pandas.core.frame.DataFrame'>\n",
      "RangeIndex: 3 entries, 0 to 2\n",
      "Data columns (total 3 columns):\n",
      " #   Column  Non-Null Count  Dtype \n",
      "---  ------  --------------  ----- \n",
      " 0   Name    3 non-null      object\n",
      " 1   Age     3 non-null      int64 \n",
      " 2   City    3 non-null      object\n",
      "dtypes: int64(1), object(2)\n",
      "memory usage: 200.0+ bytes\n",
      "None\n",
      "\n",
      "\n",
      "        Age\n",
      "count   3.0\n",
      "mean   30.0\n",
      "std     5.0\n",
      "min    25.0\n",
      "25%    27.5\n",
      "50%    30.0\n",
      "75%    32.5\n",
      "max    35.0\n"
     ]
    }
   ],
   "source": [
    "# Viewing the first few rows\n",
    "print(df.head())\n",
    "print('\\n')\n",
    "# Viewing the last few rows\n",
    "print(df.tail())\n",
    "print('\\n')\n",
    "# Viewing a summary of the DataFrame\n",
    "print(df.info())\n",
    "print('\\n')\n",
    "# Viewing basic statistics\n",
    "print(df.describe())"
   ]
  },
  {
   "cell_type": "markdown",
   "id": "35796ba7",
   "metadata": {},
   "source": [
    "### 2. Selecting Columns"
   ]
  },
  {
   "cell_type": "code",
   "execution_count": 7,
   "id": "de0eb3bc",
   "metadata": {},
   "outputs": [
    {
     "name": "stdout",
     "output_type": "stream",
     "text": [
      "0      Alice\n",
      "1        Bob\n",
      "2    Charlie\n",
      "Name: Name, dtype: object\n",
      "\n",
      "\n",
      "      Name  Age\n",
      "0    Alice   25\n",
      "1      Bob   30\n",
      "2  Charlie   35\n"
     ]
    }
   ],
   "source": [
    "# Selecting a single column\n",
    "print(df['Name'])\n",
    "print('\\n')\n",
    "# Selecting multiple columns\n",
    "print(df[['Name', 'Age']])"
   ]
  },
  {
   "cell_type": "markdown",
   "id": "5c7cc2fc",
   "metadata": {},
   "source": [
    "### 3. Selecting Rows"
   ]
  },
  {
   "cell_type": "code",
   "execution_count": 8,
   "id": "b1dfc4d2",
   "metadata": {},
   "outputs": [
    {
     "name": "stdout",
     "output_type": "stream",
     "text": [
      "Name       Alice\n",
      "Age           25\n",
      "City    New York\n",
      "Name: 0, dtype: object\n",
      "    Name  Age         City\n",
      "0  Alice   25     New York\n",
      "1    Bob   30  Los Angeles\n",
      "\n",
      "\n",
      "Name       Alice\n",
      "Age           25\n",
      "City    New York\n",
      "Name: 0, dtype: object\n",
      "    Name  Age         City\n",
      "0  Alice   25     New York\n",
      "1    Bob   30  Los Angeles\n",
      "\n",
      "\n",
      "      Name  Age     City\n",
      "2  Charlie   35  Chicago\n"
     ]
    }
   ],
   "source": [
    "# Selecting rows by index\n",
    "print(df.iloc[0])    # First row\n",
    "print(df.iloc[0:2])  # First two rows\n",
    "print('\\n')\n",
    "\n",
    "# Selecting rows by label\n",
    "print(df.loc[0])     # First row\n",
    "print(df.loc[0:1])   # First two rows\n",
    "print('\\n')\n",
    "\n",
    "# Boolean indexing\n",
    "print(df[df['Age'] > 30])"
   ]
  },
  {
   "cell_type": "markdown",
   "id": "08327a20",
   "metadata": {},
   "source": [
    "### 4. Adding and Removing Columns"
   ]
  },
  {
   "cell_type": "code",
   "execution_count": 9,
   "id": "4ef3be69",
   "metadata": {},
   "outputs": [
    {
     "name": "stdout",
     "output_type": "stream",
     "text": [
      "      Name  Age         City Country\n",
      "0    Alice   25     New York     USA\n",
      "1      Bob   30  Los Angeles     USA\n",
      "2  Charlie   35      Chicago     USA\n",
      "\n",
      "\n",
      "      Name  Age         City\n",
      "0    Alice   25     New York\n",
      "1      Bob   30  Los Angeles\n",
      "2  Charlie   35      Chicago\n"
     ]
    }
   ],
   "source": [
    "# Adding a new column\n",
    "df['Country'] = 'USA'\n",
    "print(df)\n",
    "print('\\n')\n",
    "\n",
    "# Removing a column\n",
    "df = df.drop(columns=['Country'])\n",
    "print(df)"
   ]
  },
  {
   "cell_type": "markdown",
   "id": "213f64d8",
   "metadata": {},
   "source": [
    "### 5. Modifying Data"
   ]
  },
  {
   "cell_type": "code",
   "execution_count": 10,
   "id": "48091b8d",
   "metadata": {},
   "outputs": [
    {
     "name": "stdout",
     "output_type": "stream",
     "text": [
      "      Name  Age         City\n",
      "0    Alice   26     New York\n",
      "1      Bob   30  Los Angeles\n",
      "2  Charlie   35      Chicago\n",
      "\n",
      "\n",
      "      Name  Age         City\n",
      "0    Alice   27     New York\n",
      "1      Bob   31  Los Angeles\n",
      "2  Charlie   36      Chicago\n"
     ]
    }
   ],
   "source": [
    "# Modifying a single value\n",
    "df.at[0, 'Age'] = 26\n",
    "print(df)\n",
    "print('\\n')\n",
    "\n",
    "# Modifying an entire column\n",
    "df['Age'] = df['Age'] + 1\n",
    "print(df)\n"
   ]
  },
  {
   "cell_type": "markdown",
   "id": "89dac06c",
   "metadata": {},
   "source": [
    "## 5. Handling Missing Data"
   ]
  },
  {
   "cell_type": "markdown",
   "id": "659ff595",
   "metadata": {},
   "source": [
    "### 1. Identifying Missing Data"
   ]
  },
  {
   "cell_type": "code",
   "execution_count": 11,
   "id": "5c0a55a8",
   "metadata": {},
   "outputs": [
    {
     "name": "stdout",
     "output_type": "stream",
     "text": [
      "    Name    Age   City\n",
      "0  False  False  False\n",
      "1  False  False  False\n",
      "2  False  False  False\n",
      "\n",
      "\n",
      "Name    0\n",
      "Age     0\n",
      "City    0\n",
      "dtype: int64\n"
     ]
    }
   ],
   "source": [
    "# Detecting missing values\n",
    "print(df.isnull())\n",
    "print('\\n')\n",
    "\n",
    "# Summarizing missing values\n",
    "print(df.isnull().sum())\n"
   ]
  },
  {
   "cell_type": "markdown",
   "id": "71378ee9",
   "metadata": {},
   "source": [
    "### 2. Handling Missing Data"
   ]
  },
  {
   "cell_type": "code",
   "execution_count": 12,
   "id": "3630308d",
   "metadata": {},
   "outputs": [
    {
     "name": "stdout",
     "output_type": "stream",
     "text": [
      "      Name  Age         City\n",
      "0    Alice   27     New York\n",
      "1      Bob   31  Los Angeles\n",
      "2  Charlie   36      Chicago\n",
      "\n",
      "\n",
      "      Name  Age         City\n",
      "0    Alice   27     New York\n",
      "1      Bob   31  Los Angeles\n",
      "2  Charlie   36      Chicago\n"
     ]
    }
   ],
   "source": [
    "# Dropping rows with missing values\n",
    "df_cleaned = df.dropna()\n",
    "print(df_cleaned)\n",
    "print('\\n')\n",
    "\n",
    "# Filling missing values\n",
    "df_filled = df.fillna(0)\n",
    "print(df_filled)\n"
   ]
  },
  {
   "cell_type": "markdown",
   "id": "b314daef",
   "metadata": {},
   "source": [
    "## 6. DataFrame Operations"
   ]
  },
  {
   "cell_type": "markdown",
   "id": "f51c82bc",
   "metadata": {},
   "source": [
    "### 1. Sorting"
   ]
  },
  {
   "cell_type": "code",
   "execution_count": 13,
   "id": "342bf0e0",
   "metadata": {},
   "outputs": [
    {
     "name": "stdout",
     "output_type": "stream",
     "text": [
      "      Name  Age         City\n",
      "0    Alice   27     New York\n",
      "1      Bob   31  Los Angeles\n",
      "2  Charlie   36      Chicago\n"
     ]
    }
   ],
   "source": [
    "# Sorting by column\n",
    "df_sorted = df.sort_values(by='Age')\n",
    "print(df_sorted)\n"
   ]
  },
  {
   "cell_type": "markdown",
   "id": "2239fea6",
   "metadata": {},
   "source": [
    "### 2. Grouping"
   ]
  },
  {
   "cell_type": "code",
   "execution_count": 14,
   "id": "3971c4a0",
   "metadata": {},
   "outputs": [
    {
     "name": "stdout",
     "output_type": "stream",
     "text": [
      "              Age\n",
      "City             \n",
      "Chicago      36.0\n",
      "Los Angeles  31.0\n",
      "New York     27.0\n"
     ]
    }
   ],
   "source": [
    "# Grouping and aggregating data\n",
    "grouped = df.groupby('City').mean()\n",
    "print(grouped)\n"
   ]
  },
  {
   "cell_type": "markdown",
   "id": "7a233c51",
   "metadata": {},
   "source": [
    "### 3. Merging and Joining"
   ]
  },
  {
   "cell_type": "code",
   "execution_count": 15,
   "id": "f8154ba9",
   "metadata": {},
   "outputs": [
    {
     "name": "stdout",
     "output_type": "stream",
     "text": [
      "    Name  Age         City  Salary\n",
      "0  Alice   27     New York   50000\n",
      "1    Bob   31  Los Angeles   60000\n",
      "\n",
      "\n",
      "       Age         City  Salary\n",
      "Name                           \n",
      "Alice   27     New York   50000\n",
      "Bob     31  Los Angeles   60000\n"
     ]
    }
   ],
   "source": [
    "# Creating another DataFrame\n",
    "data2 = {\n",
    "    'Name': ['Alice', 'Bob', 'David'],\n",
    "    'Salary': [50000, 60000, 70000]\n",
    "}\n",
    "df2 = pd.DataFrame(data2)\n",
    "\n",
    "# Merging DataFrames\n",
    "merged_df = pd.merge(df, df2, on='Name', how='inner')\n",
    "print(merged_df)\n",
    "print('\\n')\n",
    "\n",
    "# Joining DataFrames\n",
    "df1 = df.set_index('Name')\n",
    "df2 = df2.set_index('Name')\n",
    "joined_df = df1.join(df2, how='inner')\n",
    "print(joined_df)"
   ]
  },
  {
   "cell_type": "markdown",
   "id": "3a23c418",
   "metadata": {},
   "source": [
    "## 7. Advanced DataFrame Operations"
   ]
  },
  {
   "cell_type": "markdown",
   "id": "2a4f6dc6",
   "metadata": {},
   "source": [
    "### 1. Applying Functions"
   ]
  },
  {
   "cell_type": "code",
   "execution_count": 16,
   "id": "d325468c",
   "metadata": {},
   "outputs": [
    {
     "name": "stdout",
     "output_type": "stream",
     "text": [
      "      Name  Age         City\n",
      "0    Alice   28     New York\n",
      "1      Bob   32  Los Angeles\n",
      "2  Charlie   37      Chicago\n",
      "      Name Age         City\n",
      "0    Alice  28     New York\n",
      "1      Bob  32  Los Angeles\n",
      "2  Charlie  37      Chicago\n"
     ]
    }
   ],
   "source": [
    "# Applying a function to a column\n",
    "df['Age'] = df['Age'].apply(lambda x: x + 1)\n",
    "print(df)\n",
    "\n",
    "# Applying a function to the entire DataFrame\n",
    "df = df.applymap(str)\n",
    "print(df)"
   ]
  },
  {
   "cell_type": "markdown",
   "id": "16fbbeda",
   "metadata": {},
   "source": [
    "## 8. Working with Time Series Data "
   ]
  },
  {
   "cell_type": "markdown",
   "id": "22d864b3",
   "metadata": {},
   "source": [
    "### 1. Creating a Date Range"
   ]
  },
  {
   "cell_type": "code",
   "execution_count": 17,
   "id": "f09720b6",
   "metadata": {},
   "outputs": [
    {
     "name": "stdout",
     "output_type": "stream",
     "text": [
      "DatetimeIndex(['2021-01-01', '2021-01-02', '2021-01-03', '2021-01-04',\n",
      "               '2021-01-05', '2021-01-06', '2021-01-07', '2021-01-08',\n",
      "               '2021-01-09', '2021-01-10'],\n",
      "              dtype='datetime64[ns]', freq='D')\n"
     ]
    }
   ],
   "source": [
    "# Creating a date range\n",
    "date_rng = pd.date_range(start='2021-01-01', end='2021-01-10', freq='D')\n",
    "print(date_rng)"
   ]
  },
  {
   "cell_type": "markdown",
   "id": "9c35611a",
   "metadata": {},
   "source": [
    "### 2. Creating a DataFrame with DateTime Index"
   ]
  },
  {
   "cell_type": "code",
   "execution_count": 18,
   "id": "ce9a0be7",
   "metadata": {},
   "outputs": [
    {
     "name": "stdout",
     "output_type": "stream",
     "text": [
      "            data\n",
      "date            \n",
      "2021-01-01     1\n",
      "2021-01-02     2\n",
      "2021-01-03     3\n",
      "2021-01-04     4\n",
      "2021-01-05     5\n",
      "2021-01-06     6\n",
      "2021-01-07     7\n",
      "2021-01-08     8\n",
      "2021-01-09     9\n",
      "2021-01-10    10\n"
     ]
    }
   ],
   "source": [
    "# Creating a DataFrame with a DateTime index\n",
    "df_dates = pd.DataFrame(date_rng, columns=['date'])\n",
    "df_dates['data'] = pd.Series(range(1, len(df_dates)+1))\n",
    "df_dates = df_dates.set_index('date')\n",
    "print(df_dates)"
   ]
  },
  {
   "cell_type": "code",
   "execution_count": null,
   "id": "bced6f78",
   "metadata": {},
   "outputs": [],
   "source": []
  }
 ],
 "metadata": {
  "kernelspec": {
   "display_name": "Python 3 (ipykernel)",
   "language": "python",
   "name": "python3"
  },
  "language_info": {
   "codemirror_mode": {
    "name": "ipython",
    "version": 3
   },
   "file_extension": ".py",
   "mimetype": "text/x-python",
   "name": "python",
   "nbconvert_exporter": "python",
   "pygments_lexer": "ipython3",
   "version": "3.9.18"
  }
 },
 "nbformat": 4,
 "nbformat_minor": 5
}
