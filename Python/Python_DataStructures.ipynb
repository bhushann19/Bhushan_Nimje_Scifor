{
 "cells": [
  {
   "cell_type": "markdown",
   "id": "32f0ba4b",
   "metadata": {},
   "source": [
    "## Data Structures"
   ]
  },
  {
   "cell_type": "markdown",
   "id": "9b0e0e59",
   "metadata": {},
   "source": [
    "Python has built-in data structures like lists, tuples, dictionaries, and sets."
   ]
  },
  {
   "cell_type": "markdown",
   "id": "d7a64ea5",
   "metadata": {},
   "source": [
    "### i. List"
   ]
  },
  {
   "cell_type": "markdown",
   "id": "ffd31ccd",
   "metadata": {},
   "source": [
    "A list is a collection data type in Python that is ordered and mutable. Lists are one of the most versatile and widely used data structures in Python. They can hold items of any data type and allow for various operations such as adding, removing, and modifying elements.\n",
    "\n",
    "Key Features of Lists:-\n",
    "* Ordered: The elements in the list have a defined order.\n",
    "* Mutable: You can change the elements of a list after it has been created.\n",
    "* Dynamic: Lists can grow and shrink in size as needed.\n",
    "* Can contain mixed data types: A single list can contain integers, floats, strings, and even other lists."
   ]
  },
  {
   "cell_type": "markdown",
   "id": "08c06cc8",
   "metadata": {},
   "source": [
    "#### Creating List"
   ]
  },
  {
   "cell_type": "code",
   "execution_count": 1,
   "id": "9cb73155",
   "metadata": {},
   "outputs": [
    {
     "name": "stdout",
     "output_type": "stream",
     "text": [
      "[]\n",
      "[1, 2, 3, 4, 5]\n",
      "[1, 'Hello', 3.14, True]\n",
      "[[1, 2], [3, 4], [5, 6]]\n"
     ]
    }
   ],
   "source": [
    "# Creating an empty list\n",
    "empty_list = []\n",
    "print(empty_list)  \n",
    "\n",
    "# Creating a list with elements\n",
    "numbers = [1, 2, 3, 4, 5]\n",
    "print(numbers)  \n",
    "\n",
    "# Lists can contain different data types\n",
    "mixed_list = [1, \"Hello\", 3.14, True]\n",
    "print(mixed_list)  \n",
    "\n",
    "# List of lists (nested lists)\n",
    "nested_list = [[1, 2], [3, 4], [5, 6]]\n",
    "print(nested_list)  \n"
   ]
  },
  {
   "cell_type": "markdown",
   "id": "8b2f4950",
   "metadata": {},
   "source": [
    "#### Accessing Elements"
   ]
  },
  {
   "cell_type": "code",
   "execution_count": 2,
   "id": "00950567",
   "metadata": {},
   "outputs": [
    {
     "name": "stdout",
     "output_type": "stream",
     "text": [
      "10\n",
      "40\n",
      "50\n",
      "40\n",
      "3\n"
     ]
    }
   ],
   "source": [
    "# Accessing elements by index (0-based indexing)\n",
    "numbers = [10, 20, 30, 40, 50]\n",
    "print(numbers[0])  \n",
    "print(numbers[3])  \n",
    "\n",
    "# Accessing elements from the end of the list\n",
    "print(numbers[-1])  \n",
    "print(numbers[-2])  \n",
    "\n",
    "# Accessing elements in a nested list\n",
    "nested_list = [[1, 2], [3, 4], [5, 6]]\n",
    "print(nested_list[1][0])  # Output: 3\n"
   ]
  },
  {
   "cell_type": "markdown",
   "id": "01243387",
   "metadata": {},
   "source": [
    "#### Slicing Lists"
   ]
  },
  {
   "cell_type": "code",
   "execution_count": 3,
   "id": "77a70182",
   "metadata": {},
   "outputs": [
    {
     "name": "stdout",
     "output_type": "stream",
     "text": [
      "[20, 30]\n",
      "[10, 20, 30]\n",
      "[30, 40, 50]\n",
      "[10, 30, 50]\n",
      "[50, 40, 30, 20, 10]\n"
     ]
    }
   ],
   "source": [
    "# Slicing lists\n",
    "numbers = [10, 20, 30, 40, 50]\n",
    "\n",
    "# Slice from index 1 to 3 (excluding 3)\n",
    "print(numbers[1:3])  \n",
    "\n",
    "# Slice from the beginning to index 3 (excluding 3)\n",
    "print(numbers[:3])  \n",
    "\n",
    "# Slice from index 2 to the end\n",
    "print(numbers[2:])  \n",
    "\n",
    "# Slice with a step\n",
    "print(numbers[::2])  \n",
    "\n",
    "# Reverse the list using slicing\n",
    "print(numbers[::-1])  \n"
   ]
  },
  {
   "cell_type": "markdown",
   "id": "a665a1ef",
   "metadata": {},
   "source": [
    "#### Modifying Lists"
   ]
  },
  {
   "cell_type": "code",
   "execution_count": 4,
   "id": "9c51c8f9",
   "metadata": {},
   "outputs": [
    {
     "name": "stdout",
     "output_type": "stream",
     "text": [
      "[10, 20, 35, 40, 50]\n",
      "[10, 20, 35, 40, 50, 60]\n",
      "[10, 15, 20, 35, 40, 50, 60]\n",
      "[10, 15, 20, 35, 40, 50, 60, 70, 80]\n",
      "[10, 15, 20, 40, 50, 60, 70, 80]\n",
      "20\n",
      "[10, 15, 40, 50, 60, 70, 80]\n",
      "[10, 40, 50, 60, 70, 80]\n",
      "[]\n"
     ]
    }
   ],
   "source": [
    "# Modifying elements\n",
    "numbers = [10, 20, 30, 40, 50]\n",
    "numbers[2] = 35\n",
    "print(numbers)  \n",
    "\n",
    "# Adding elements\n",
    "numbers.append(60)  # Adds 60 at the end of the list\n",
    "print(numbers)  \n",
    "\n",
    "numbers.insert(1, 15)  # Inserts 15 at index 1\n",
    "print(numbers)  \n",
    "\n",
    "# Extending a list with another list\n",
    "numbers.extend([70, 80])\n",
    "print(numbers)  \n",
    "\n",
    "# Removing elements\n",
    "numbers.remove(35)  # Removes the first occurrence of 35\n",
    "print(numbers)  \n",
    "\n",
    "popped_value = numbers.pop(2)  # Removes the element at index 2 and returns it\n",
    "print(popped_value)  \n",
    "print(numbers)       \n",
    "\n",
    "del numbers[1]  # Deletes the element at index 1\n",
    "print(numbers)  \n",
    "\n",
    "numbers.clear()  # Removes all elements from the list\n",
    "print(numbers)   "
   ]
  },
  {
   "cell_type": "markdown",
   "id": "18e5dc02",
   "metadata": {},
   "source": [
    "#### List Comprehensions"
   ]
  },
  {
   "cell_type": "markdown",
   "id": "7d1b68e9",
   "metadata": {},
   "source": [
    "List comprehensions provide a concise way to create lists."
   ]
  },
  {
   "cell_type": "code",
   "execution_count": 5,
   "id": "5ff4f862",
   "metadata": {},
   "outputs": [
    {
     "name": "stdout",
     "output_type": "stream",
     "text": [
      "[0, 1, 4, 9, 16, 25, 36, 49, 64, 81]\n",
      "[0, 2, 4, 6, 8]\n",
      "[[0, 1, 2, 3, 4], [0, 1, 2, 3, 4], [0, 1, 2, 3, 4]]\n"
     ]
    }
   ],
   "source": [
    "# Creating a list of squares of numbers from 0 to 9\n",
    "squares = [x**2 for x in range(10)]\n",
    "print(squares)  \n",
    "\n",
    "# Creating a list of even numbers from 0 to 9\n",
    "evens = [x for x in range(10) if x % 2 == 0]\n",
    "print(evens)  \n",
    "\n",
    "# Nested list comprehension (creating a 2D list)\n",
    "matrix = [[j for j in range(5)] for i in range(3)]\n",
    "print(matrix)  \n"
   ]
  },
  {
   "cell_type": "markdown",
   "id": "706bcb89",
   "metadata": {},
   "source": [
    "#### Common List Methods"
   ]
  },
  {
   "cell_type": "code",
   "execution_count": 6,
   "id": "7d71363c",
   "metadata": {},
   "outputs": [
    {
     "name": "stdout",
     "output_type": "stream",
     "text": [
      "6\n",
      "[2, 3, 5, 6, 7, 8]\n",
      "[8, 7, 6, 5, 3, 2]\n",
      "2\n",
      "1\n",
      "[8, 7, 6, 5, 3, 2]\n"
     ]
    }
   ],
   "source": [
    "# List methods\n",
    "numbers = [5, 3, 8, 6, 7, 2]\n",
    "\n",
    "# len() returns the number of elements in the list\n",
    "print(len(numbers))  \n",
    "\n",
    "# sort() sorts the list in ascending order\n",
    "numbers.sort()\n",
    "print(numbers)  \n",
    "\n",
    "# reverse() reverses the list\n",
    "numbers.reverse()\n",
    "print(numbers)  \n",
    "\n",
    "# index() returns the index of the first occurrence of a value\n",
    "print(numbers.index(6))  \n",
    "\n",
    "# count() returns the number of occurrences of a value\n",
    "print(numbers.count(7))  \n",
    "\n",
    "# copy() returns a shallow copy of the list\n",
    "numbers_copy = numbers.copy()\n",
    "print(numbers_copy)  \n"
   ]
  },
  {
   "cell_type": "markdown",
   "id": "987d6c5d",
   "metadata": {},
   "source": [
    "### ii. Tuples"
   ]
  },
  {
   "cell_type": "markdown",
   "id": "c307ca6c",
   "metadata": {},
   "source": [
    "A tuple is an immutable sequence of Python objects. Tuples are similar to lists, but they cannot be changed once created. They are used to group related data together and can hold any type of data.\n",
    "\n",
    "Characteristics of Tuples:\n",
    "\n",
    "* Ordered: The items in a tuple have a defined order.\n",
    "* Immutable: Once a tuple is created, it cannot be modified.\n",
    "* Heterogeneous: A tuple can contain different data types.\n",
    "* Indexed: Elements in a tuple can be accessed using an index."
   ]
  },
  {
   "cell_type": "markdown",
   "id": "cbae1881",
   "metadata": {},
   "source": [
    "#### Creating Tuples"
   ]
  },
  {
   "cell_type": "markdown",
   "id": "dc5f9d01",
   "metadata": {},
   "source": [
    "Tuples can be created by placing a comma-separated sequence of items within parentheses ()."
   ]
  },
  {
   "cell_type": "code",
   "execution_count": 7,
   "id": "450cd32f",
   "metadata": {},
   "outputs": [
    {
     "name": "stdout",
     "output_type": "stream",
     "text": [
      "(1, 2, 3, 'apple', 'banana')\n",
      "(1, 2, 3, 'apple', 'banana')\n",
      "()\n",
      "(1,)\n"
     ]
    }
   ],
   "source": [
    "# Creating a tuple with multiple items\n",
    "my_tuple = (1, 2, 3, \"apple\", \"banana\")\n",
    "print(my_tuple)  \n",
    "\n",
    "# Creating a tuple without parentheses\n",
    "my_tuple = 1, 2, 3, \"apple\", \"banana\"\n",
    "print(my_tuple)  \n",
    "\n",
    "# Creating an empty tuple\n",
    "empty_tuple = ()\n",
    "print(empty_tuple)  \n",
    "\n",
    "# Creating a tuple with one item (note the comma)\n",
    "single_item_tuple = (1,)\n",
    "print(single_item_tuple)  \n"
   ]
  },
  {
   "cell_type": "markdown",
   "id": "6ce64583",
   "metadata": {},
   "source": [
    "#### Accessing Tuple Elements"
   ]
  },
  {
   "cell_type": "markdown",
   "id": "01f4c574",
   "metadata": {},
   "source": [
    "Elements in a tuple can be accessed using indexing and slicing."
   ]
  },
  {
   "cell_type": "code",
   "execution_count": 8,
   "id": "41575940",
   "metadata": {},
   "outputs": [
    {
     "name": "stdout",
     "output_type": "stream",
     "text": [
      "1\n",
      "apple\n",
      "banana\n",
      "apple\n",
      "(2, 3, 'apple')\n",
      "(1, 2, 3)\n",
      "(3, 'apple', 'banana')\n"
     ]
    }
   ],
   "source": [
    "# Accessing elements by index\n",
    "my_tuple = (1, 2, 3, \"apple\", \"banana\")\n",
    "print(my_tuple[0])  \n",
    "print(my_tuple[3])  \n",
    "\n",
    "# Negative indexing\n",
    "print(my_tuple[-1])  \n",
    "print(my_tuple[-2])  \n",
    "\n",
    "# Slicing a tuple\n",
    "print(my_tuple[1:4])  \n",
    "print(my_tuple[:3])   \n",
    "print(my_tuple[2:])   \n"
   ]
  },
  {
   "cell_type": "markdown",
   "id": "1037dd9f",
   "metadata": {},
   "source": [
    "#### Tuple Operations"
   ]
  },
  {
   "cell_type": "markdown",
   "id": "ee8edcf5",
   "metadata": {},
   "source": [
    "Tuples support various operations, including concatenation, repetition, and membership testing."
   ]
  },
  {
   "cell_type": "code",
   "execution_count": 9,
   "id": "77c1e587",
   "metadata": {},
   "outputs": [
    {
     "name": "stdout",
     "output_type": "stream",
     "text": [
      "(1, 2, 3, 4, 5, 6)\n",
      "(1, 2, 3, 1, 2, 3)\n",
      "True\n",
      "False\n"
     ]
    }
   ],
   "source": [
    "# Concatenation\n",
    "tuple1 = (1, 2, 3)\n",
    "tuple2 = (4, 5, 6)\n",
    "result = tuple1 + tuple2\n",
    "print(result)  \n",
    "\n",
    "# Repetition\n",
    "result = tuple1 * 2\n",
    "print(result)  \n",
    "\n",
    "# Membership testing\n",
    "print(3 in tuple1)  \n",
    "print(7 in tuple1)  \n"
   ]
  },
  {
   "cell_type": "markdown",
   "id": "5c6a2f3e",
   "metadata": {},
   "source": [
    "#### Iterating Through a Tuple"
   ]
  },
  {
   "cell_type": "markdown",
   "id": "4aceefe6",
   "metadata": {},
   "source": [
    "You can use a for loop to iterate through the elements of a tuple."
   ]
  },
  {
   "cell_type": "code",
   "execution_count": 10,
   "id": "f171134a",
   "metadata": {},
   "outputs": [
    {
     "name": "stdout",
     "output_type": "stream",
     "text": [
      "1\n",
      "2\n",
      "3\n",
      "apple\n",
      "banana\n"
     ]
    }
   ],
   "source": [
    "my_tuple = (1, 2, 3, \"apple\", \"banana\")\n",
    "\n",
    "for item in my_tuple:\n",
    "    print(item)"
   ]
  },
  {
   "cell_type": "markdown",
   "id": "cbd11ed6",
   "metadata": {},
   "source": [
    "#### Tuple Unpacking"
   ]
  },
  {
   "cell_type": "markdown",
   "id": "5bec6b14",
   "metadata": {},
   "source": [
    "You can unpack a tuple into separate variables."
   ]
  },
  {
   "cell_type": "code",
   "execution_count": 11,
   "id": "bf907c37",
   "metadata": {},
   "outputs": [
    {
     "name": "stdout",
     "output_type": "stream",
     "text": [
      "1\n",
      "2\n",
      "3\n",
      "1\n",
      "2\n",
      "[3, 4, 5]\n"
     ]
    }
   ],
   "source": [
    "# Tuple unpacking\n",
    "my_tuple = (1, 2, 3)\n",
    "a, b, c = my_tuple\n",
    "print(a)  \n",
    "print(b)  \n",
    "print(c)  \n",
    "\n",
    "# Extended unpacking\n",
    "my_tuple = (1, 2, 3, 4, 5)\n",
    "a, b, *rest = my_tuple\n",
    "print(a)    \n",
    "print(b)    \n",
    "print(rest) "
   ]
  },
  {
   "cell_type": "markdown",
   "id": "82385085",
   "metadata": {},
   "source": [
    "#### Nesting Tuples"
   ]
  },
  {
   "cell_type": "markdown",
   "id": "ff24fb82",
   "metadata": {},
   "source": [
    "Tuples can be nested within other tuples."
   ]
  },
  {
   "cell_type": "code",
   "execution_count": 12,
   "id": "e81616c9",
   "metadata": {},
   "outputs": [
    {
     "name": "stdout",
     "output_type": "stream",
     "text": [
      "(1, 2, (3, 4), (5, (6, 7)))\n",
      "(3, 4)\n",
      "(6, 7)\n",
      "7\n"
     ]
    }
   ],
   "source": [
    "nested_tuple = (1, 2, (3, 4), (5, (6, 7)))\n",
    "print(nested_tuple)           \n",
    "print(nested_tuple[2])        \n",
    "print(nested_tuple[3][1])     \n",
    "print(nested_tuple[3][1][1])  \n"
   ]
  },
  {
   "cell_type": "markdown",
   "id": "b8ff8f0f",
   "metadata": {},
   "source": [
    "#### Converting Between Tuples and Other Data Types"
   ]
  },
  {
   "cell_type": "markdown",
   "id": "8c4b95a0",
   "metadata": {},
   "source": [
    "You can convert other data types to tuples using the tuple() function."
   ]
  },
  {
   "cell_type": "code",
   "execution_count": 13,
   "id": "6ab9e693",
   "metadata": {},
   "outputs": [
    {
     "name": "stdout",
     "output_type": "stream",
     "text": [
      "(1, 2, 3, 'apple', 'banana')\n",
      "('h', 'e', 'l', 'l', 'o')\n"
     ]
    }
   ],
   "source": [
    "# Converting a list to a tuple\n",
    "my_list = [1, 2, 3, \"apple\", \"banana\"]\n",
    "my_tuple = tuple(my_list)\n",
    "print(my_tuple)  \n",
    "\n",
    "# Converting a string to a tuple\n",
    "my_string = \"hello\"\n",
    "my_tuple = tuple(my_string)\n",
    "print(my_tuple)  \n"
   ]
  },
  {
   "cell_type": "markdown",
   "id": "1bebb99c",
   "metadata": {},
   "source": [
    "### iii. Dictionaries"
   ]
  },
  {
   "cell_type": "markdown",
   "id": "040dc1f4",
   "metadata": {},
   "source": [
    "A dictionary in Python is an unordered collection of items. Each item is a pair consisting of a key and a value. Dictionaries are written with curly braces {}, and they have key-value pairs separated by colons :.\n",
    "\n",
    "Key Features of Dictionaries:\n",
    "\n",
    "* Unordered: The items in a dictionary are not indexed.\n",
    "* Mutable: You can change, add, and remove items.\n",
    "* Indexed by keys: The values are accessed using their keys, not their position.\n"
   ]
  },
  {
   "cell_type": "markdown",
   "id": "fd40ae2c",
   "metadata": {},
   "source": [
    "#### Creating a Dictionary"
   ]
  },
  {
   "cell_type": "code",
   "execution_count": 14,
   "id": "e7eccac8",
   "metadata": {},
   "outputs": [
    {
     "name": "stdout",
     "output_type": "stream",
     "text": [
      "{'name': 'Alice', 'age': 25, 'city': 'New York'}\n"
     ]
    }
   ],
   "source": [
    "# Creating an empty dictionary\n",
    "empty_dict = {}\n",
    "\n",
    "# Creating a dictionary with some key-value pairs\n",
    "person = {\n",
    "    \"name\": \"Alice\",\n",
    "    \"age\": 25,\n",
    "    \"city\": \"New York\"\n",
    "}\n",
    "\n",
    "print(person)"
   ]
  },
  {
   "cell_type": "markdown",
   "id": "dd0ad816",
   "metadata": {},
   "source": [
    "#### Accessing Values"
   ]
  },
  {
   "cell_type": "markdown",
   "id": "69a746b0",
   "metadata": {},
   "source": [
    "You can access the values in a dictionary using their corresponding keys."
   ]
  },
  {
   "cell_type": "code",
   "execution_count": 15,
   "id": "545299f9",
   "metadata": {},
   "outputs": [
    {
     "name": "stdout",
     "output_type": "stream",
     "text": [
      "Alice\n",
      "25\n",
      "New York\n",
      "USA\n"
     ]
    }
   ],
   "source": [
    "# Accessing values using keys\n",
    "print(person[\"name\"])  \n",
    "print(person[\"age\"])   \n",
    "\n",
    "# Using the get method to access values\n",
    "print(person.get(\"city\"))  \n",
    "print(person.get(\"country\", \"USA\"))  # Output: USA (default value if key is not found)\n"
   ]
  },
  {
   "cell_type": "markdown",
   "id": "03478058",
   "metadata": {},
   "source": [
    "#### Adding and Updating Items"
   ]
  },
  {
   "cell_type": "markdown",
   "id": "b4a5009f",
   "metadata": {},
   "source": [
    "You can add new items or update existing ones using the assignment operator."
   ]
  },
  {
   "cell_type": "code",
   "execution_count": 16,
   "id": "f28bccd5",
   "metadata": {},
   "outputs": [
    {
     "name": "stdout",
     "output_type": "stream",
     "text": [
      "{'name': 'Alice', 'age': 25, 'city': 'New York', 'email': 'alice@example.com'}\n",
      "{'name': 'Alice', 'age': 26, 'city': 'New York', 'email': 'alice@example.com'}\n"
     ]
    }
   ],
   "source": [
    "# Adding a new key-value pair\n",
    "person[\"email\"] = \"alice@example.com\"\n",
    "print(person)  \n",
    "\n",
    "# Updating an existing value\n",
    "person[\"age\"] = 26\n",
    "print(person)  \n"
   ]
  },
  {
   "cell_type": "markdown",
   "id": "e6e2f2b5",
   "metadata": {},
   "source": [
    "#### Removing Items"
   ]
  },
  {
   "cell_type": "markdown",
   "id": "3ffe3688",
   "metadata": {},
   "source": [
    "You can remove items using del, pop, or popitem."
   ]
  },
  {
   "cell_type": "code",
   "execution_count": 17,
   "id": "2450e224",
   "metadata": {},
   "outputs": [
    {
     "name": "stdout",
     "output_type": "stream",
     "text": [
      "{'name': 'Alice', 'age': 26, 'city': 'New York'}\n",
      "26\n",
      "{'name': 'Alice', 'city': 'New York'}\n",
      "city New York\n",
      "{'name': 'Alice'}\n"
     ]
    }
   ],
   "source": [
    "# Using del to remove a key-value pair\n",
    "del person[\"email\"]\n",
    "print(person)  \n",
    "\n",
    "# Using pop to remove a key-value pair and return its value\n",
    "age = person.pop(\"age\")\n",
    "print(age)     \n",
    "print(person)  \n",
    "\n",
    "# Using popitem to remove and return an arbitrary key-value pair (Python 3.7+)\n",
    "key, value = person.popitem()\n",
    "print(key, value)  \n",
    "print(person)      \n"
   ]
  },
  {
   "cell_type": "markdown",
   "id": "035733c2",
   "metadata": {},
   "source": [
    "#### Dictionary Methods"
   ]
  },
  {
   "cell_type": "markdown",
   "id": "609008e0",
   "metadata": {},
   "source": [
    "keys(), values(), and items()\n",
    "\n",
    "These methods return views of the dictionary’s keys, values, and key-value pairs respectively."
   ]
  },
  {
   "cell_type": "code",
   "execution_count": 18,
   "id": "92f071f1",
   "metadata": {},
   "outputs": [
    {
     "name": "stdout",
     "output_type": "stream",
     "text": [
      "dict_keys(['name', 'age', 'city'])\n",
      "dict_values(['Alice', 26, 'New York'])\n",
      "dict_items([('name', 'Alice'), ('age', 26), ('city', 'New York')])\n"
     ]
    }
   ],
   "source": [
    "person = {\"name\": \"Alice\", \"age\": 26, \"city\": \"New York\"}\n",
    "\n",
    "# Getting all keys\n",
    "keys = person.keys()\n",
    "print(keys)  \n",
    "\n",
    "# Getting all values\n",
    "values = person.values()\n",
    "print(values)  \n",
    "\n",
    "# Getting all key-value pairs\n",
    "items = person.items()\n",
    "print(items)  \n"
   ]
  },
  {
   "cell_type": "markdown",
   "id": "1bd7f60e",
   "metadata": {},
   "source": [
    "#### Looping Through a Dictionary"
   ]
  },
  {
   "cell_type": "code",
   "execution_count": 19,
   "id": "ace5c7f7",
   "metadata": {},
   "outputs": [
    {
     "name": "stdout",
     "output_type": "stream",
     "text": [
      "name\n",
      "age\n",
      "city\n",
      "\n",
      "\n",
      "Alice\n",
      "26\n",
      "New York\n",
      "\n",
      "\n",
      "name: Alice\n",
      "age: 26\n",
      "city: New York\n"
     ]
    }
   ],
   "source": [
    "# Looping through keys\n",
    "for key in person.keys():\n",
    "    print(key)\n",
    "print('\\n')\n",
    "\n",
    "# Looping through values\n",
    "for value in person.values():\n",
    "    print(value)\n",
    "print('\\n')\n",
    "\n",
    "# Looping through key-value pairs\n",
    "for key, value in person.items():\n",
    "    print(f\"{key}: {value}\")\n"
   ]
  },
  {
   "cell_type": "markdown",
   "id": "d0805978",
   "metadata": {},
   "source": [
    "#### Nested Dictionaries"
   ]
  },
  {
   "cell_type": "markdown",
   "id": "50a9f6ae",
   "metadata": {},
   "source": [
    "Dictionaries can contain other dictionaries, making them useful for more complex data structures."
   ]
  },
  {
   "cell_type": "code",
   "execution_count": 20,
   "id": "12fafbcd",
   "metadata": {},
   "outputs": [
    {
     "name": "stdout",
     "output_type": "stream",
     "text": [
      "John\n",
      "\n",
      "\n",
      "IT\n"
     ]
    }
   ],
   "source": [
    "# Nested dictionary\n",
    "employees = {\n",
    "    \"emp1\": {\n",
    "        \"name\": \"John\",\n",
    "        \"age\": 30,\n",
    "        \"department\": \"HR\"\n",
    "    },\n",
    "    \"emp2\": {\n",
    "        \"name\": \"Sara\",\n",
    "        \"age\": 25,\n",
    "        \"department\": \"IT\"\n",
    "    }\n",
    "}\n",
    "\n",
    "# Accessing nested dictionary values\n",
    "print(employees[\"emp1\"][\"name\"])\n",
    "print('\\n')\n",
    "print(employees[\"emp2\"][\"department\"]) \n"
   ]
  },
  {
   "cell_type": "markdown",
   "id": "ebb46195",
   "metadata": {},
   "source": [
    "#### Dictionary Comprehensions"
   ]
  },
  {
   "cell_type": "markdown",
   "id": "841ffb9e",
   "metadata": {},
   "source": [
    "Dictionary comprehensions provide a concise way to create dictionaries."
   ]
  },
  {
   "cell_type": "code",
   "execution_count": 21,
   "id": "290deae8",
   "metadata": {},
   "outputs": [
    {
     "name": "stdout",
     "output_type": "stream",
     "text": [
      "{0: 0, 1: 1, 2: 4, 3: 9, 4: 16}\n",
      "\n",
      "\n",
      "{'one': 2, 'two': 4, 'three': 6}\n"
     ]
    }
   ],
   "source": [
    "# Creating a dictionary with squares of numbers\n",
    "squares = {x: x**2 for x in range(5)}\n",
    "print(squares) \n",
    "\n",
    "print('\\n')\n",
    "\n",
    "# Creating a dictionary from another dictionary\n",
    "original = {\"one\": 1, \"two\": 2, \"three\": 3}\n",
    "double_values = {k: v*2 for k, v in original.items()}\n",
    "print(double_values)  \n"
   ]
  },
  {
   "cell_type": "markdown",
   "id": "2d586700",
   "metadata": {},
   "source": [
    "### iv. Sets "
   ]
  },
  {
   "cell_type": "markdown",
   "id": "b2728d55",
   "metadata": {},
   "source": [
    "A set is an unordered collection of unique elements. Sets are useful for operations involving membership testing, removing duplicates from a sequence, and computing mathematical operations like union, intersection, difference, and symmetric difference.\n",
    "\n",
    "Key Characteristics of Sets:\n",
    "\n",
    "* Unordered: The elements in a set are not stored in any particular order.\n",
    "* Unique Elements: A set cannot contain duplicate elements.\n",
    "* Mutable: Sets are mutable, meaning you can add or remove elements."
   ]
  },
  {
   "cell_type": "markdown",
   "id": "617c6bcc",
   "metadata": {},
   "source": [
    "#### Creating Sets"
   ]
  },
  {
   "cell_type": "code",
   "execution_count": 22,
   "id": "a3975559",
   "metadata": {},
   "outputs": [
    {
     "name": "stdout",
     "output_type": "stream",
     "text": [
      "set()\n"
     ]
    }
   ],
   "source": [
    "# Creating an empty set\n",
    "empty_set = set()\n",
    "print(empty_set)  \n"
   ]
  },
  {
   "cell_type": "code",
   "execution_count": 23,
   "id": "416474fa",
   "metadata": {},
   "outputs": [
    {
     "name": "stdout",
     "output_type": "stream",
     "text": [
      "{'apple', 'cherry', 'banana'}\n",
      "{1, 2, 3, 4}\n"
     ]
    }
   ],
   "source": [
    "# Creating a set with initial values\n",
    "fruits = {\"apple\", \"banana\", \"cherry\"}\n",
    "print(fruits)  \n",
    "\n",
    "# Attempting to create a set with duplicate values\n",
    "numbers = {1, 2, 2, 3, 4}\n",
    "print(numbers) "
   ]
  },
  {
   "cell_type": "markdown",
   "id": "7f3570ff",
   "metadata": {},
   "source": [
    "#### Adding and Removing Elements "
   ]
  },
  {
   "cell_type": "code",
   "execution_count": 24,
   "id": "43be3c32",
   "metadata": {},
   "outputs": [
    {
     "name": "stdout",
     "output_type": "stream",
     "text": [
      "{'apple', 'cherry', 'banana', 'orange'}\n",
      "{'orange', 'apple', 'cherry', 'watermelon', 'banana', 'grape'}\n"
     ]
    }
   ],
   "source": [
    "# Adding a single element\n",
    "fruits.add(\"orange\")\n",
    "print(fruits)  \n",
    "\n",
    "# Adding multiple elements\n",
    "fruits.update([\"grape\", \"watermelon\"])\n",
    "print(fruits)  \n"
   ]
  },
  {
   "cell_type": "code",
   "execution_count": 25,
   "id": "75148b31",
   "metadata": {},
   "outputs": [
    {
     "name": "stdout",
     "output_type": "stream",
     "text": [
      "{'orange', 'apple', 'cherry', 'watermelon', 'grape'}\n",
      "{'orange', 'apple', 'cherry', 'watermelon', 'grape'}\n",
      "orange\n",
      "{'apple', 'cherry', 'watermelon', 'grape'}\n",
      "set()\n"
     ]
    }
   ],
   "source": [
    "# Removing an element (raises KeyError if the element is not present)\n",
    "fruits.remove(\"banana\")\n",
    "print(fruits)  \n",
    "\n",
    "# Removing an element (does not raise an error if the element is not present)\n",
    "fruits.discard(\"banana\")\n",
    "print(fruits)  \n",
    "\n",
    "# Removing a random element\n",
    "removed_fruit = fruits.pop()\n",
    "print(removed_fruit)  # Output: (one of the elements from the set)\n",
    "print(fruits)  \n",
    "\n",
    "# Clearing all elements\n",
    "fruits.clear()\n",
    "print(fruits)  \n"
   ]
  },
  {
   "cell_type": "markdown",
   "id": "f811be11",
   "metadata": {},
   "source": [
    "#### Set Operations"
   ]
  },
  {
   "cell_type": "markdown",
   "id": "84487c96",
   "metadata": {},
   "source": [
    "##### 1. Union"
   ]
  },
  {
   "cell_type": "markdown",
   "id": "195f81f8",
   "metadata": {},
   "source": [
    "Combines elements from both sets without duplicates."
   ]
  },
  {
   "cell_type": "code",
   "execution_count": 26,
   "id": "09a14975",
   "metadata": {},
   "outputs": [
    {
     "name": "stdout",
     "output_type": "stream",
     "text": [
      "{1, 2, 3, 4, 5}\n",
      "{1, 2, 3, 4, 5}\n"
     ]
    }
   ],
   "source": [
    "set1 = {1, 2, 3}\n",
    "set2 = {3, 4, 5}\n",
    "union_set = set1.union(set2)\n",
    "print(union_set)  \n",
    "\n",
    "# Alternatively, using the | operator\n",
    "union_set = set1 | set2\n",
    "print(union_set)  \n"
   ]
  },
  {
   "cell_type": "markdown",
   "id": "01076b0a",
   "metadata": {},
   "source": [
    "##### 2. Intersection"
   ]
  },
  {
   "cell_type": "markdown",
   "id": "7a54ef51",
   "metadata": {},
   "source": [
    "Returns elements that are common to both sets."
   ]
  },
  {
   "cell_type": "code",
   "execution_count": 27,
   "id": "9d51458a",
   "metadata": {},
   "outputs": [
    {
     "name": "stdout",
     "output_type": "stream",
     "text": [
      "{3}\n",
      "{3}\n"
     ]
    }
   ],
   "source": [
    "intersection_set = set1.intersection(set2)\n",
    "print(intersection_set)  \n",
    "\n",
    "# Alternatively, using the & operator\n",
    "intersection_set = set1 & set2\n",
    "print(intersection_set)  \n"
   ]
  },
  {
   "cell_type": "markdown",
   "id": "f0f6d0b5",
   "metadata": {},
   "source": [
    "##### 3. Difference"
   ]
  },
  {
   "cell_type": "markdown",
   "id": "fce741da",
   "metadata": {},
   "source": [
    "Returns elements that are in the first set but not in the second set."
   ]
  },
  {
   "cell_type": "code",
   "execution_count": 28,
   "id": "e0204854",
   "metadata": {},
   "outputs": [
    {
     "name": "stdout",
     "output_type": "stream",
     "text": [
      "{1, 2}\n",
      "{1, 2}\n"
     ]
    }
   ],
   "source": [
    "difference_set = set1.difference(set2)\n",
    "print(difference_set)  \n",
    "\n",
    "# Alternatively, using the - operator\n",
    "difference_set = set1 - set2\n",
    "print(difference_set)  \n"
   ]
  },
  {
   "cell_type": "markdown",
   "id": "66ba6046",
   "metadata": {},
   "source": [
    "##### 4. Symmetric Difference"
   ]
  },
  {
   "cell_type": "markdown",
   "id": "a7b46d97",
   "metadata": {},
   "source": [
    "Returns elements that are in either of the sets, but not in both."
   ]
  },
  {
   "cell_type": "code",
   "execution_count": 29,
   "id": "728ffc53",
   "metadata": {},
   "outputs": [
    {
     "name": "stdout",
     "output_type": "stream",
     "text": [
      "{1, 2, 4, 5}\n",
      "{1, 2, 4, 5}\n"
     ]
    }
   ],
   "source": [
    "symmetric_difference_set = set1.symmetric_difference(set2)\n",
    "print(symmetric_difference_set)  \n",
    "\n",
    "# Alternatively, using the ^ operator\n",
    "symmetric_difference_set = set1 ^ set2\n",
    "print(symmetric_difference_set)  \n"
   ]
  },
  {
   "cell_type": "markdown",
   "id": "fbaffd0f",
   "metadata": {},
   "source": [
    "#### Set Membership"
   ]
  },
  {
   "cell_type": "markdown",
   "id": "efab5c0e",
   "metadata": {},
   "source": [
    "##### Checking for Membership"
   ]
  },
  {
   "cell_type": "code",
   "execution_count": 30,
   "id": "75ae1b56",
   "metadata": {},
   "outputs": [
    {
     "name": "stdout",
     "output_type": "stream",
     "text": [
      "True\n",
      "False\n",
      "False\n",
      "True\n"
     ]
    }
   ],
   "source": [
    "# Checking if an element is in a set\n",
    "print(3 in set1)  \n",
    "print(4 in set1)  \n",
    "\n",
    "# Checking if an element is not in a set\n",
    "print(3 not in set1)  \n",
    "print(4 not in set1)  \n"
   ]
  },
  {
   "cell_type": "markdown",
   "id": "296613c2",
   "metadata": {},
   "source": [
    "#### Iterating Through a Set"
   ]
  },
  {
   "cell_type": "code",
   "execution_count": 31,
   "id": "34ab5fe5",
   "metadata": {},
   "outputs": [
    {
     "name": "stdout",
     "output_type": "stream",
     "text": [
      "1\n",
      "2\n",
      "3\n"
     ]
    }
   ],
   "source": [
    "for number in set1:\n",
    "    print(number)\n"
   ]
  },
  {
   "cell_type": "markdown",
   "id": "e3f77b71",
   "metadata": {},
   "source": [
    "#### Set Comprehensions"
   ]
  },
  {
   "cell_type": "markdown",
   "id": "db72b82a",
   "metadata": {},
   "source": [
    "##### Creating Sets Using Comprehensions"
   ]
  },
  {
   "cell_type": "code",
   "execution_count": 32,
   "id": "b22e5248",
   "metadata": {},
   "outputs": [
    {
     "name": "stdout",
     "output_type": "stream",
     "text": [
      "{1, 4, 9, 16, 25}\n"
     ]
    }
   ],
   "source": [
    "# Set comprehension to create a set of squares\n",
    "squares = {x**2 for x in range(1, 6)}\n",
    "print(squares)"
   ]
  }
 ],
 "metadata": {
  "kernelspec": {
   "display_name": "Python 3 (ipykernel)",
   "language": "python",
   "name": "python3"
  },
  "language_info": {
   "codemirror_mode": {
    "name": "ipython",
    "version": 3
   },
   "file_extension": ".py",
   "mimetype": "text/x-python",
   "name": "python",
   "nbconvert_exporter": "python",
   "pygments_lexer": "ipython3",
   "version": "3.9.18"
  }
 },
 "nbformat": 4,
 "nbformat_minor": 5
}
