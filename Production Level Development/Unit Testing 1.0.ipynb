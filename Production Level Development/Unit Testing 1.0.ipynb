{
 "cells": [
  {
   "cell_type": "markdown",
   "id": "bb0eeb71-5389-46a5-be3f-d295b1b71dc4",
   "metadata": {},
   "source": [
    "# Unit Testing and Code Quality\n",
    "\n",
    "### Introduction to Unit Testing\n",
    "\n",
    "#### What is Unit Testing?\n",
    "\n",
    "Unit testing is the process of testing small parts (units) of your software to ensure they function correctly.\n",
    "Popular Frameworks for Unit Testing:\n",
    "\n",
    "##### For Java: JUnit\n",
    "##### For Python: pytest"
   ]
  },
  {
   "cell_type": "markdown",
   "id": "21676345-bd09-443c-a978-b652fb409634",
   "metadata": {},
   "source": [
    "# Writing Unit Tests\n",
    "## Test Cases:\n",
    "\n",
    "These are the smallest units of testing. Each test case checks a specific function or part of your code to see if it works as expected.\n",
    "## Assertions:\n",
    "\n",
    "Assertions are statements that check if a condition is true. If the condition is false, the test fails."
   ]
  },
  {
   "cell_type": "code",
   "execution_count": null,
   "id": "582e4c84-1de6-41cc-b7c1-a129142add56",
   "metadata": {},
   "outputs": [],
   "source": []
  },
  {
   "cell_type": "code",
   "execution_count": null,
   "id": "e25259d8-f07f-45e4-a3dd-745ae507206d",
   "metadata": {},
   "outputs": [],
   "source": []
  },
  {
   "cell_type": "code",
   "execution_count": null,
   "id": "6a731896-fda3-4ebe-ac90-5520f093f2b8",
   "metadata": {},
   "outputs": [],
   "source": []
  },
  {
   "cell_type": "code",
   "execution_count": null,
   "id": "9430a7dc-f86a-40af-abf1-370d116e0451",
   "metadata": {},
   "outputs": [],
   "source": []
  },
  {
   "cell_type": "code",
   "execution_count": null,
   "id": "c0e6abd5-2f87-4640-a988-8495b91fbe16",
   "metadata": {},
   "outputs": [],
   "source": [
    "#Intall pytest\n",
    "!pip install pytest\n"
   ]
  },
  {
   "cell_type": "code",
   "execution_count": 1,
   "id": "2b4a6a1b-ad5e-4b36-8661-0684b7a1c550",
   "metadata": {},
   "outputs": [
    {
     "name": "stdout",
     "output_type": "stream",
     "text": [
      "Defaulting to user installation because normal site-packages is not writeable\n",
      "Collecting pytest\n",
      "  Downloading pytest-8.3.2-py3-none-any.whl.metadata (7.5 kB)\n",
      "Collecting iniconfig (from pytest)\n",
      "  Downloading iniconfig-2.0.0-py3-none-any.whl.metadata (2.6 kB)\n",
      "Requirement already satisfied: packaging in ./.local/lib/python3.10/site-packages (from pytest) (23.2)\n",
      "Collecting pluggy<2,>=1.5 (from pytest)\n",
      "  Downloading pluggy-1.5.0-py3-none-any.whl.metadata (4.8 kB)\n",
      "Requirement already satisfied: exceptiongroup>=1.0.0rc8 in ./.local/lib/python3.10/site-packages (from pytest) (1.2.0)\n",
      "Requirement already satisfied: tomli>=1 in ./.local/lib/python3.10/site-packages (from pytest) (2.0.1)\n",
      "Downloading pytest-8.3.2-py3-none-any.whl (341 kB)\n",
      "\u001b[2K   \u001b[38;2;114;156;31m━━━━━━━━━━━━━━━━━━━━━━━━━━━━━━━━━━━━━━━━\u001b[0m \u001b[32m341.8/341.8 kB\u001b[0m \u001b[31m1.6 MB/s\u001b[0m eta \u001b[36m0:00:00\u001b[0m[31m1.4 MB/s\u001b[0m eta \u001b[36m0:00:01\u001b[0mm\n",
      "\u001b[?25hDownloading pluggy-1.5.0-py3-none-any.whl (20 kB)\n",
      "Downloading iniconfig-2.0.0-py3-none-any.whl (5.9 kB)\n",
      "Installing collected packages: pluggy, iniconfig, pytest\n",
      "Successfully installed iniconfig-2.0.0 pluggy-1.5.0 pytest-8.3.2\n",
      "\n",
      "\u001b[1m[\u001b[0m\u001b[34;49mnotice\u001b[0m\u001b[1;39;49m]\u001b[0m\u001b[39;49m A new release of pip is available: \u001b[0m\u001b[31;49m24.1.2\u001b[0m\u001b[39;49m -> \u001b[0m\u001b[32;49m24.2\u001b[0m\n",
      "\u001b[1m[\u001b[0m\u001b[34;49mnotice\u001b[0m\u001b[1;39;49m]\u001b[0m\u001b[39;49m To update, run: \u001b[0m\u001b[32;49mpython3 -m pip install --upgrade pip\u001b[0m\n"
     ]
    }
   ],
   "source": [
    "# my_module.py\n",
    "def add(a, b):\n",
    "    return a + b\n",
    "\n",
    "def subtract(a, b):\n",
    "    return a - b\n",
    "\n",
    "# test_my_module.py\n",
    "def test_add():\n",
    "    assert add(1, 2) == 3, \"Test case 1 failed\"\n",
    "    assert add(-1, 1) == 0, \"Test case 2 failed\"\n",
    "    assert add(-1, -1) == -2, \"Test case 3 failed\"\n",
    "\n",
    "def test_subtract():\n",
    "    assert subtract(2, 1) == 1, \"Test case 1 failed\"\n",
    "    assert subtract(2, 2) == 0, \"Test case 2 failed\"\n",
    "    assert subtract(2, 3) == -1, \"Test case 3 failed\"\n",
    "\n",
    "# Running the tests\n",
    "test_add()\n",
    "test_subtract()\n",
    "\n",
    "print(\"All tests passed!\")\n"
   ]
  },
  {
   "cell_type": "code",
   "execution_count": null,
   "id": "bb4ea231-a574-4b3c-9ef6-c901fa23fa7d",
   "metadata": {},
   "outputs": [],
   "source": []
  }
 ],
 "metadata": {
  "kernelspec": {
   "display_name": "Python 3 (ipykernel)",
   "language": "python",
   "name": "python3"
  },
  "language_info": {
   "codemirror_mode": {
    "name": "ipython",
    "version": 3
   },
   "file_extension": ".py",
   "mimetype": "text/x-python",
   "name": "python",
   "nbconvert_exporter": "python",
   "pygments_lexer": "ipython3",
   "version": "3.10.12"
  },
  "widgets": {
   "application/vnd.jupyter.widget-state+json": {
    "state": {},
    "version_major": 2,
    "version_minor": 0
   }
  }
 },
 "nbformat": 4,
 "nbformat_minor": 5
}
