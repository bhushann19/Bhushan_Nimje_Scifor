{
 "cells": [
  {
   "cell_type": "code",
   "execution_count": 21,
   "id": "ebe5d1ad-82d3-424e-abbc-a8e977b70f97",
   "metadata": {},
   "outputs": [],
   "source": [
    "# Import necessary libraries\n",
    "import seaborn as sns\n",
    "import pandas as pd\n",
    "from sklearn.model_selection import train_test_split\n",
    "from sklearn.linear_model import LinearRegression\n",
    "from sklearn.metrics import mean_squared_error\n",
    "\n",
    "# Function to preprocess the data\n",
    "def preprocess_data(df):\n",
    "    \"\"\"\n",
    "    Preprocess the data by converting categorical columns to numerical ones.\n",
    "    \"\"\"\n",
    "    df['sex'] = df['sex'].map({'Female': 0, 'Male': 1}) # Convert 'sex' column to numerical\n",
    "    df['smoker'] = df['smoker'].map({'No': 0, 'Yes': 1}) # Convert 'smoker' column to numerical\n",
    "    df['day'] = df['day'].map({'Thur': 0, 'Fri': 1, 'Sat': 2, 'Sun': 3}) # Convert 'day' column to numerical\n",
    "    df['time'] = df['time'].map({'Lunch': 0, 'Dinner': 1}) # Convert 'time' column to numerical\n",
    "    return df\n",
    "\n",
    "# Function to split the data into training and testing sets\n",
    "def split_data(df):\n",
    "    \"\"\"\n",
    "    Split the data into features (X) and target (y), then into training and test sets.\n",
    "    \"\"\"\n",
    "    X = df.drop('tip', axis=1) # Features are all columns except 'tip'\n",
    "    y = df['tip'] # Target is the 'tip' column\n",
    "    return train_test_split(X, y, test_size=0.2, random_state=42) # Split the data\n",
    "\n",
    "# Function to train a Linear Regression model\n",
    "def train_model(X_train, y_train):\n",
    "    \"\"\"\n",
    "    Train a Linear Regression model on the training data.\n",
    "    \"\"\"\n",
    "    model = LinearRegression()\n",
    "    model.fit(X_train, y_train) # Train the model\n",
    "    return model\n",
    "\n",
    "# Function to evaluate the model using Mean Squared Error (MSE)\n",
    "def evaluate_model(model, X_test, y_test):\n",
    "    \"\"\"\n",
    "    Evaluate the model using Mean Squared Error.\n",
    "    \"\"\"\n",
    "    predictions = model.predict(X_test) # Predict on the test set\n",
    "    mse = mean_squared_error(y_test, predictions) # Calculate MSE\n",
    "    return mse\n",
    "\n",
    "# Load dataset\n",
    "tips = sns.load_dataset(\"tips\") # Load the 'tips' dataset from seaborn\n"
   ]
  },
  {
   "cell_type": "code",
   "execution_count": 22,
   "id": "9761e07c-87ff-4b63-8278-d8caaf1f0f7a",
   "metadata": {},
   "outputs": [
    {
     "name": "stdout",
     "output_type": "stream",
     "text": [
      "All tests passed!\n"
     ]
    }
   ],
   "source": [
    "# Import pytest for testing\n",
    "import pytest\n",
    "\n",
    "# Test for preprocess_data function\n",
    "def test_preprocess_data():\n",
    "    df = sns.load_dataset(\"tips\") # Load dataset\n",
    "    df = preprocess_data(df) # Preprocess the data\n",
    "    # Assertions to check if preprocessing is correct\n",
    "    assert 'Female' not in df['sex'].values, \"Sex column not processed correctly\"\n",
    "    assert 'No' not in df['smoker'].values, \"Smoker column not processed correctly\"\n",
    "    assert 'Sun' not in df['day'].values, \"Day column not processed correctly\"\n",
    "    assert 'Dinner' not in df['time'].values, \"Time column not processed correctly\"\n",
    "\n",
    "# Test for split_data function\n",
    "def test_split_data():\n",
    "    df = sns.load_dataset(\"tips\") # Load dataset\n",
    "    df = preprocess_data(df) # Preprocess the data\n",
    "    X_train, X_test, y_train, y_test = split_data(df) # Split the data\n",
    "    # Assertions to check if the split is correct\n",
    "    assert len(X_train) > 0, \"Training set is empty\"\n",
    "    assert len(X_test) > 0, \"Test set is empty\"\n",
    "\n",
    "# Test for train_model function\n",
    "def test_train_model():\n",
    "    df = sns.load_dataset(\"tips\") # Load dataset\n",
    "    df = preprocess_data(df) # Preprocess the data\n",
    "    X_train, X_test, y_train, y_test = split_data(df) # Split the data\n",
    "    model = train_model(X_train, y_train) # Train the model\n",
    "    # Assertion to check if the model is a Linear Regression model\n",
    "    assert isinstance(model, LinearRegression), \"Model is not a Linear Regression model\"\n",
    "\n",
    "# Test for evaluate_model function\n",
    "def test_evaluate_model():\n",
    "    df = sns.load_dataset(\"tips\") # Load dataset\n",
    "    df = preprocess_data(df) # Preprocess the data\n",
    "    X_train, X_test, y_train, y_test = split_data(df) # Split the data\n",
    "    model = train_model(X_train, y_train) # Train the model\n",
    "    mse = evaluate_model(model, X_test, y_test) # Evaluate the model\n",
    "    # Assertion to check if the MSE is non-negative\n",
    "    assert mse >= 0, \"Mean Squared Error should be non-negative\"\n",
    "\n",
    "# Run the tests\n",
    "test_preprocess_data()\n",
    "test_split_data()\n",
    "test_train_model()\n",
    "test_evaluate_model()\n",
    "\n",
    "print(\"All tests passed!\")\n"
   ]
  },
  {
   "cell_type": "code",
   "execution_count": null,
   "id": "9a8d2761-e3e7-4fd6-84bd-713adbf7c0fe",
   "metadata": {},
   "outputs": [],
   "source": []
  }
 ],
 "metadata": {
  "kernelspec": {
   "display_name": "Python 3 (ipykernel)",
   "language": "python",
   "name": "python3"
  },
  "language_info": {
   "codemirror_mode": {
    "name": "ipython",
    "version": 3
   },
   "file_extension": ".py",
   "mimetype": "text/x-python",
   "name": "python",
   "nbconvert_exporter": "python",
   "pygments_lexer": "ipython3",
   "version": "3.10.12"
  },
  "widgets": {
   "application/vnd.jupyter.widget-state+json": {
    "state": {},
    "version_major": 2,
    "version_minor": 0
   }
  }
 },
 "nbformat": 4,
 "nbformat_minor": 5
}
