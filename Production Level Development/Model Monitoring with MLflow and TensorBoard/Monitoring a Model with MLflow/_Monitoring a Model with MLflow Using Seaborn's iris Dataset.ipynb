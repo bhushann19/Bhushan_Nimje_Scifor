{
 "cells": [
  {
   "cell_type": "markdown",
   "id": "3c34f1f6-a548-42cc-98c5-2ceffad21988",
   "metadata": {},
   "source": [
    "## Install Required Packages\n",
    "Before you start, make sure you have MLflow and Seaborn installed. You can install them using pip if they are not already installed:"
   ]
  },
  {
   "cell_type": "raw",
   "id": "12d2d361-a628-4f2d-8ec1-c196f60fcc46",
   "metadata": {},
   "source": [
    "!pip install mlflow"
   ]
  },
  {
   "cell_type": "code",
   "execution_count": 1,
   "id": "283bbe66-c78c-4a69-a9b1-13c168bc839f",
   "metadata": {},
   "outputs": [],
   "source": [
    "# Import Libraries\n",
    "import mlflow\n",
    "import mlflow.sklearn\n",
    "import seaborn as sns\n",
    "import pandas as pd\n",
    "from sklearn.model_selection import train_test_split\n",
    "from sklearn.ensemble import RandomForestClassifier\n",
    "from sklearn.metrics import accuracy_score, classification_report\n"
   ]
  },
  {
   "cell_type": "code",
   "execution_count": 2,
   "id": "ac43fa57-e248-4801-9bb1-2e2db5e6c028",
   "metadata": {},
   "outputs": [],
   "source": [
    "#Load and Prepare Data\n",
    "#Load the dataset and prepare it for training:\n",
    "# Load the iris dataset\n",
    "data = sns.load_dataset('iris')\n",
    "\n",
    "# Features and target\n",
    "X = data.drop('species', axis=1)\n",
    "y = data['species']\n",
    "\n",
    "# Split the data into training and testing sets\n",
    "X_train, X_test, y_train, y_test = train_test_split(X, y, test_size=0.2, random_state=42)\n"
   ]
  },
  {
   "cell_type": "code",
   "execution_count": 3,
   "id": "af2002a3-b5bf-4770-962d-42f29462d6d1",
   "metadata": {},
   "outputs": [
    {
     "name": "stderr",
     "output_type": "stream",
     "text": [
      "2024/08/14 14:13:52 WARNING mlflow.models.model: Input example should be provided to infer model signature if the model signature is not provided when logging the model.\n"
     ]
    },
    {
     "name": "stdout",
     "output_type": "stream",
     "text": [
      "Accuracy: 1.0\n",
      "Classification Report:\n",
      "              precision    recall  f1-score   support\n",
      "\n",
      "      setosa       1.00      1.00      1.00        10\n",
      "  versicolor       1.00      1.00      1.00         9\n",
      "   virginica       1.00      1.00      1.00        11\n",
      "\n",
      "    accuracy                           1.00        30\n",
      "   macro avg       1.00      1.00      1.00        30\n",
      "weighted avg       1.00      1.00      1.00        30\n",
      "\n",
      "Run ID: e847a9b8297847b7bc4bf0691849bb33\n"
     ]
    }
   ],
   "source": [
    "import mlflow\n",
    "import mlflow.sklearn\n",
    "from sklearn.ensemble import RandomForestClassifier\n",
    "from sklearn.metrics import accuracy_score, classification_report\n",
    "\n",
    "# Check if there's an active MLflow run and end it if there is\n",
    "# This ensures that we do not have multiple runs running simultaneously\n",
    "if mlflow.active_run() is not None:\n",
    "    mlflow.end_run()\n",
    "\n",
    "# Start a new MLflow run\n",
    "# The 'with' statement ensures that the run is properly managed and closed\n",
    "with mlflow.start_run() as run:\n",
    "    \n",
    "    # Create a RandomForestClassifier model with 100 trees and a fixed random state for reproducibility\n",
    "    model = RandomForestClassifier(n_estimators=100, random_state=42)\n",
    "    \n",
    "    # Train (fit) the model using the training data (X_train and y_train)\n",
    "    model.fit(X_train, y_train)\n",
    "    \n",
    "    # Use the trained model to make predictions on the test data (X_test)\n",
    "    y_pred = model.predict(X_test)\n",
    "    \n",
    "    # Calculate the accuracy of the model by comparing predictions to actual values (y_test)\n",
    "    accuracy = accuracy_score(y_test, y_pred)\n",
    "    \n",
    "    # Generate a detailed classification report that includes precision, recall, and F1-score\n",
    "    report = classification_report(y_test, y_pred, output_dict=True)\n",
    "    \n",
    "    # Log the accuracy metric to MLflow\n",
    "    # This allows us to track the performance of the model\n",
    "    mlflow.log_metric(\"accuracy\", accuracy)\n",
    "    \n",
    "    # Log the classification report as a JSON file to MLflow\n",
    "    # This helps in keeping detailed evaluation metrics for later review\n",
    "    mlflow.log_dict(report, \"classification_report.json\")\n",
    "    \n",
    "    # Log the trained model to MLflow\n",
    "    # This saves the model so that it can be loaded and used later\n",
    "    mlflow.sklearn.log_model(model, \"model\")\n",
    "    \n",
    "    # Print the accuracy of the model to the console\n",
    "    print(f\"Accuracy: {accuracy}\")\n",
    "    \n",
    "    # Print the classification report to the console\n",
    "    # This provides a detailed view of how well the model performed\n",
    "    print(\"Classification Report:\")\n",
    "    print(classification_report(y_test, y_pred))\n",
    "    \n",
    "    # Print the unique identifier for the MLflow run\n",
    "    # This ID helps to track and reference this particular run in MLflow\n",
    "    print(f\"Run ID: {run.info.run_id}\")\n"
   ]
  },
  {
   "cell_type": "markdown",
   "id": "582bb475-0d22-4aa3-b85a-effc4dd0bc05",
   "metadata": {},
   "source": [
    "## Check MLflow UI\n",
    "### After running the above code, you can check the MLflow UI to see the logged metrics and model. To start the MLflow UI, run the following command in your terminal:"
   ]
  },
  {
   "cell_type": "code",
   "execution_count": 4,
   "id": "38304a34-0898-422b-ac81-06947a81ef22",
   "metadata": {},
   "outputs": [
    {
     "name": "stdout",
     "output_type": "stream",
     "text": [
      "[2024-08-14 14:14:05 +0530] [30137] [INFO] Starting gunicorn 22.0.0\n",
      "[2024-08-14 14:14:05 +0530] [30137] [INFO] Listening at: http://127.0.0.1:5000 (30137)\n",
      "[2024-08-14 14:14:05 +0530] [30137] [INFO] Using worker: sync\n",
      "[2024-08-14 14:14:05 +0530] [30138] [INFO] Booting worker with pid: 30138\n",
      "[2024-08-14 14:14:05 +0530] [30139] [INFO] Booting worker with pid: 30139\n",
      "[2024-08-14 14:14:06 +0530] [30140] [INFO] Booting worker with pid: 30140\n",
      "[2024-08-14 14:14:06 +0530] [30142] [INFO] Booting worker with pid: 30142\n",
      "^C\n",
      "[2024-08-14 14:14:37 +0530] [30137] [INFO] Handling signal: int\n",
      "[2024-08-14 14:14:38 +0530] [30139] [INFO] Worker exiting (pid: 30139)\n",
      "[2024-08-14 14:14:38 +0530] [30138] [INFO] Worker exiting (pid: 30138)\n",
      "[2024-08-14 14:14:38 +0530] [30140] [INFO] Worker exiting (pid: 30140)\n",
      "[2024-08-14 14:14:38 +0530] [30142] [INFO] Worker exiting (pid: 30142)\n"
     ]
    }
   ],
   "source": [
    "!mlflow ui\n"
   ]
  },
  {
   "cell_type": "markdown",
   "id": "5c1b2622-58b6-4d5e-a46a-3769aad3f1eb",
   "metadata": {},
   "source": [
    "# Accessing Run ID from MLflow UI\n",
    "## Start MLflow UI:\n",
    "### Open your terminal and run:\n",
    "\n",
    "\n",
    "\n",
    "\n"
   ]
  },
  {
   "cell_type": "code",
   "execution_count": null,
   "id": "31b5698c-0ea6-494f-b8cc-04d8036a87a6",
   "metadata": {},
   "outputs": [],
   "source": [
    "!mlflow ui"
   ]
  },
  {
   "cell_type": "markdown",
   "id": "8f3fec8a-e32e-4d1e-82c5-e9ef057268b7",
   "metadata": {},
   "source": [
    "This will start the MLflow tracking server, typically accessible at http://127.0.0.1:5000.\n",
    "\n",
    "Navigate to MLflow UI:\n",
    "\n",
    "\n",
    "Open your web browser and go to http://127.0.0.1:5000.\n",
    "\n",
    "#### Find Your Experiment:\n",
    "\n",
    "Click on the experiment name to see the list of runs.\n",
    "\n",
    "You will see a table of runs with columns like \"Run Name\", \"Start Time\", \"Duration\", and \"Metrics\".\n",
    "\n",
    "\n",
    "#### Get the Run ID:\n",
    "\n",
    "Hover over or click on a specific run to see details.\n",
    "\n",
    "\n",
    "\n",
    "The Run ID is usually visible in the URL or can be found in the run details page."
   ]
  },
  {
   "cell_type": "markdown",
   "id": "682e4d60-9144-47b2-b99a-90ac8480f848",
   "metadata": {},
   "source": [
    "## Listing All Run IDs Programmatically\n",
    "### You can also list all runs and their IDs programmatically using the mlflow.search_runs function. Here’s how:\n",
    "\n"
   ]
  },
  {
   "cell_type": "code",
   "execution_count": 29,
   "id": "d58884bd-eba2-4b1f-9bc6-226919eb683b",
   "metadata": {},
   "outputs": [
    {
     "name": "stdout",
     "output_type": "stream",
     "text": [
      "Run ID: 0bb17d52b9f247febd6833aa92c316d0\n",
      "Run ID: c6190d63cdc24266b2019e0f52a7d0eb\n",
      "Run ID: f1e6dafb5f064929853964f56d3b5bfe\n",
      "Run ID: 5dcce405a2e64c43a60a0931d802f76a\n",
      "Run ID: 2c1d6c6325f9469fb1aa421c987b9b29\n"
     ]
    }
   ],
   "source": [
    "import mlflow\n",
    "\n",
    "# List all runs for the default experiment\n",
    "runs = mlflow.search_runs()\n",
    "\n",
    "# Print the run IDs and some default metrics\n",
    "for index, row in runs.iterrows():\n",
    "    run_id = row['run_id']\n",
    "    print(f\"Run ID: {run_id}\")\n"
   ]
  },
  {
   "cell_type": "markdown",
   "id": "41f79761-baec-4408-b98d-dfdfd1f103e9",
   "metadata": {},
   "source": [
    "\n",
    "This code snippet lists all runs along with their IDs and any logged metrics. Adjust the column names based on the metrics you’ve logged."
   ]
  },
  {
   "cell_type": "markdown",
   "id": "9a4fa53d-9b7e-4eba-b300-fea99e9433aa",
   "metadata": {},
   "source": [
    "# Accessing Run ID from Command Line\n",
    "## If you know the experiment name or ID and want to retrieve run information from the command line, you can use the mlflow command-line interface:\n",
    "\n"
   ]
  },
  {
   "cell_type": "code",
   "execution_count": 32,
   "id": "640c450c-6e54-486e-acf1-d84b68134774",
   "metadata": {},
   "outputs": [
    {
     "name": "stdout",
     "output_type": "stream",
     "text": [
      "Run ID: 0bb17d52b9f247febd6833aa92c316d0\n",
      "Parameters:\n",
      "Metrics:\n",
      "Tags:\n",
      "  mlflow.runName: luminous-toad-978\n",
      "  mlflow.source.name: /home/tar-tt060-saurav/.local/lib/python3.10/site-packages/ipykernel_launcher.py\n",
      "  mlflow.source.type: LOCAL\n",
      "  mlflow.user: tar-tt060-saurav\n",
      "----------------------------------------\n",
      "Run ID: c6190d63cdc24266b2019e0f52a7d0eb\n",
      "Parameters:\n",
      "Metrics:\n",
      "  accuracy: 1.0\n",
      "Tags:\n",
      "  mlflow.runName: thoughtful-eel-295\n",
      "  mlflow.source.name: /home/tar-tt060-saurav/.local/lib/python3.10/site-packages/ipykernel_launcher.py\n",
      "  mlflow.source.type: LOCAL\n",
      "  mlflow.user: tar-tt060-saurav\n",
      "  mlflow.log-model.history: [{\"run_id\": \"c6190d63cdc24266b2019e0f52a7d0eb\", \"artifact_path\": \"model\", \"utc_time_created\": \"2024-08-12 10:57:01.213941\", \"flavors\": {\"python_function\": {\"model_path\": \"model.pkl\", \"predict_fn\": \"predict\", \"loader_module\": \"mlflow.sklearn\", \"python_version\": \"3.10.12\", \"env\": {\"conda\": \"conda.yaml\", \"virtualenv\": \"python_env.yaml\"}}, \"sklearn\": {\"pickled_model\": \"model.pkl\", \"sklearn_version\": \"1.4.2\", \"serialization_format\": \"cloudpickle\", \"code\": null}}, \"model_uuid\": \"646d41ea604d487ea8212b6756467891\", \"mlflow_version\": \"2.15.1\", \"model_size_bytes\": 177383}]\n",
      "----------------------------------------\n",
      "Run ID: f1e6dafb5f064929853964f56d3b5bfe\n",
      "Parameters:\n",
      "  model_type: RandomForestClassifier\n",
      "Metrics:\n",
      "  accuracy: 1.0\n",
      "Tags:\n",
      "  mlflow.runName: carefree-jay-710\n",
      "  mlflow.source.name: /home/tar-tt060-saurav/.local/lib/python3.10/site-packages/ipykernel_launcher.py\n",
      "  mlflow.source.type: LOCAL\n",
      "  mlflow.user: tar-tt060-saurav\n",
      "  mlflow.log-model.history: [{\"run_id\": \"f1e6dafb5f064929853964f56d3b5bfe\", \"artifact_path\": \"model\", \"utc_time_created\": \"2024-08-12 07:24:29.900848\", \"flavors\": {\"python_function\": {\"model_path\": \"model.pkl\", \"predict_fn\": \"predict\", \"loader_module\": \"mlflow.sklearn\", \"python_version\": \"3.10.12\", \"env\": {\"conda\": \"conda.yaml\", \"virtualenv\": \"python_env.yaml\"}}, \"sklearn\": {\"pickled_model\": \"model.pkl\", \"sklearn_version\": \"1.4.2\", \"serialization_format\": \"cloudpickle\", \"code\": null}}, \"model_uuid\": \"07518fe538c74cc8bb322f5028b62da1\", \"mlflow_version\": \"2.15.1\", \"model_size_bytes\": 157591}]\n",
      "----------------------------------------\n",
      "Run ID: 5dcce405a2e64c43a60a0931d802f76a\n",
      "Parameters:\n",
      "  model_type: RandomForestClassifier\n",
      "Metrics:\n",
      "  accuracy: 1.0\n",
      "Tags:\n",
      "  mlflow.runName: skillful-dog-629\n",
      "  mlflow.source.name: /home/tar-tt060-saurav/.local/lib/python3.10/site-packages/ipykernel_launcher.py\n",
      "  mlflow.source.type: LOCAL\n",
      "  mlflow.user: tar-tt060-saurav\n",
      "  mlflow.log-model.history: [{\"run_id\": \"5dcce405a2e64c43a60a0931d802f76a\", \"artifact_path\": \"model\", \"utc_time_created\": \"2024-08-12 07:23:04.450370\", \"flavors\": {\"python_function\": {\"model_path\": \"model.pkl\", \"predict_fn\": \"predict\", \"loader_module\": \"mlflow.sklearn\", \"python_version\": \"3.10.12\", \"env\": {\"conda\": \"conda.yaml\", \"virtualenv\": \"python_env.yaml\"}}, \"sklearn\": {\"pickled_model\": \"model.pkl\", \"sklearn_version\": \"1.4.2\", \"serialization_format\": \"cloudpickle\", \"code\": null}}, \"model_uuid\": \"dacf7d4f02d44f93947f2edc73836214\", \"mlflow_version\": \"2.15.1\", \"model_size_bytes\": 157591}]\n",
      "----------------------------------------\n",
      "Run ID: 2c1d6c6325f9469fb1aa421c987b9b29\n",
      "Parameters:\n",
      "  model_type: RandomForestClassifier\n",
      "Metrics:\n",
      "  accuracy: 1.0\n",
      "Tags:\n",
      "  mlflow.runName: valuable-rook-679\n",
      "  mlflow.source.name: /home/tar-tt060-saurav/.local/lib/python3.10/site-packages/ipykernel_launcher.py\n",
      "  mlflow.source.type: LOCAL\n",
      "  mlflow.user: tar-tt060-saurav\n",
      "  mlflow.log-model.history: [{\"run_id\": \"2c1d6c6325f9469fb1aa421c987b9b29\", \"artifact_path\": \"model\", \"utc_time_created\": \"2024-08-12 07:09:31.228907\", \"flavors\": {\"python_function\": {\"model_path\": \"model.pkl\", \"predict_fn\": \"predict\", \"loader_module\": \"mlflow.sklearn\", \"python_version\": \"3.10.12\", \"env\": {\"conda\": \"conda.yaml\", \"virtualenv\": \"python_env.yaml\"}}, \"sklearn\": {\"pickled_model\": \"model.pkl\", \"sklearn_version\": \"1.4.2\", \"serialization_format\": \"cloudpickle\", \"code\": null}}, \"model_uuid\": \"b12721006cb44dc493953884a30e1c7c\", \"mlflow_version\": \"2.15.1\", \"model_size_bytes\": 157591}]\n",
      "----------------------------------------\n"
     ]
    }
   ],
   "source": [
    "import mlflow\n",
    "\n",
    "# List of Run IDs\n",
    "run_ids = [\n",
    "    '0bb17d52b9f247febd6833aa92c316d0',\n",
    "    'c6190d63cdc24266b2019e0f52a7d0eb',\n",
    "    'f1e6dafb5f064929853964f56d3b5bfe',\n",
    "    '5dcce405a2e64c43a60a0931d802f76a',\n",
    "    '2c1d6c6325f9469fb1aa421c987b9b29'\n",
    "]\n",
    "\n",
    "# Retrieve and print details for each Run ID\n",
    "for run_id in run_ids:\n",
    "    run = mlflow.get_run(run_id)\n",
    "    print(f\"Run ID: {run_id}\")\n",
    "    print(\"Parameters:\")\n",
    "    for key, value in run.data.params.items():\n",
    "        print(f\"  {key}: {value}\")\n",
    "    print(\"Metrics:\")\n",
    "    for key, value in run.data.metrics.items():\n",
    "        print(f\"  {key}: {value}\")\n",
    "    print(\"Tags:\")\n",
    "    for key, value in run.data.tags.items():\n",
    "        print(f\"  {key}: {value}\")\n",
    "    print(\"-\" * 40)\n"
   ]
  }
 ],
 "metadata": {
  "kernelspec": {
   "display_name": "Python 3 (ipykernel)",
   "language": "python",
   "name": "python3"
  },
  "language_info": {
   "codemirror_mode": {
    "name": "ipython",
    "version": 3
   },
   "file_extension": ".py",
   "mimetype": "text/x-python",
   "name": "python",
   "nbconvert_exporter": "python",
   "pygments_lexer": "ipython3",
   "version": "3.10.12"
  },
  "widgets": {
   "application/vnd.jupyter.widget-state+json": {
    "state": {},
    "version_major": 2,
    "version_minor": 0
   }
  }
 },
 "nbformat": 4,
 "nbformat_minor": 5
}
