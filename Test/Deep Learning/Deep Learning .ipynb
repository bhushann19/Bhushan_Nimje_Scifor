{
 "cells": [
  {
   "cell_type": "markdown",
   "id": "47c6ff3a-dcca-4849-8c5a-2ce705279dfb",
   "metadata": {},
   "source": [
    "# Questions \n",
    "\n",
    "\n",
    "#### 1 -What is a Multi-Layer Perceptron (MLP) and how does it differ from a single-layer perceptron?\n",
    "\n",
    "#### 2- Explain the architecture of a Multi-Layer Perceptron (MLP) and the role of input, hidden, and output layers.\n",
    "\n",
    "\n",
    "#### 3- How are weights initialized in a Multi-Layer Perceptron (MLP) and why is it important?\n",
    "\n",
    "#### 4- What is the purpose of activation functions in a Multi-Layer Perceptron (MLP)? Name some commonly used activation functions.\n",
    "\n",
    "#### 5- What is backpropagation and how is it used to train a Multi-Layer Perceptron (MLP)\n",
    "\n",
    "\n",
    "#### 6- How do you choose the number of hidden layers and neurons in each layer of a Multi-Layer Perceptron (MLP)?\n",
    "\n",
    "\n"
   ]
  },
  {
   "cell_type": "code",
   "execution_count": null,
   "id": "40daf3f6-0b50-420a-83ea-d80bc2217c62",
   "metadata": {},
   "outputs": [],
   "source": []
  },
  {
   "cell_type": "code",
   "execution_count": null,
   "id": "8cb89d3e-bb3f-4946-a4cf-e2ddf6cc8bf4",
   "metadata": {},
   "outputs": [],
   "source": []
  },
  {
   "cell_type": "code",
   "execution_count": null,
   "id": "31061bda-b1da-4fe9-a25d-53d2af53c582",
   "metadata": {},
   "outputs": [],
   "source": []
  },
  {
   "cell_type": "code",
   "execution_count": null,
   "id": "e6a2ee2c-42dd-41e9-8b2d-c1ef9b88558f",
   "metadata": {},
   "outputs": [],
   "source": []
  },
  {
   "cell_type": "markdown",
   "id": "eb10765b-59d5-40a0-ad5a-ba00b4295ccf",
   "metadata": {},
   "source": [
    "# Load MNIST Dataset and build a Deep Learning Model."
   ]
  },
  {
   "cell_type": "markdown",
   "id": "52e6e9de-432c-4069-abb3-bcd438a3c623",
   "metadata": {},
   "source": [
    "### Things to be done:\n",
    "    1- Load the MNIST Data\n",
    "    2- Divide the data into train and test sets\n",
    "    3- Plot the first 10 images using imshow()\n",
    "    4- Convert images to categorical format\n",
    "    5- Create a sequential model\n",
    "    6- Plot the model summary\n",
    "    7- Plot the architecture of the model with its layer shapes\n",
    "    8- Compile the model\n",
    "    9- Fit the model with 20 epochs (as per your desktop configuration)\n",
    "    10- Plot Training and Testing Loss\n",
    "    11- Save the model in .h5 extension\n",
    "    12- Load the model\n",
    "    13- Test the model"
   ]
  },
  {
   "cell_type": "code",
   "execution_count": null,
   "id": "5cfb3a5d-e541-4796-bbd3-2489b664f59e",
   "metadata": {},
   "outputs": [],
   "source": []
  }
 ],
 "metadata": {
  "kernelspec": {
   "display_name": "Python 3 (ipykernel)",
   "language": "python",
   "name": "python3"
  },
  "language_info": {
   "codemirror_mode": {
    "name": "ipython",
    "version": 3
   },
   "file_extension": ".py",
   "mimetype": "text/x-python",
   "name": "python",
   "nbconvert_exporter": "python",
   "pygments_lexer": "ipython3",
   "version": "3.10.12"
  },
  "widgets": {
   "application/vnd.jupyter.widget-state+json": {
    "state": {},
    "version_major": 2,
    "version_minor": 0
   }
  }
 },
 "nbformat": 4,
 "nbformat_minor": 5
}
