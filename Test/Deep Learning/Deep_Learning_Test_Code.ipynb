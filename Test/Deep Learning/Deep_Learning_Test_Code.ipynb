{
  "nbformat": 4,
  "nbformat_minor": 0,
  "metadata": {
    "colab": {
      "provenance": []
    },
    "kernelspec": {
      "name": "python3",
      "display_name": "Python 3"
    },
    "language_info": {
      "name": "python"
    }
  },
  "cells": [
    {
      "cell_type": "code",
      "execution_count": 1,
      "metadata": {
        "id": "Br9d4gX5KAQ8"
      },
      "outputs": [],
      "source": [
        "# Importing necessary libraries\n",
        "import matplotlib.pyplot as plt\n",
        "from keras.layers import Dense, Flatten\n",
        "from keras.utils import to_categorical\n",
        "from keras.models import Sequential\n",
        "from keras.datasets import mnist # Importing the MNIST Data\n",
        "from keras import utils\n",
        "\n",
        "import warnings\n",
        "warnings.filterwarnings('ignore')"
      ]
    },
    {
      "cell_type": "code",
      "source": [
        "# Loading the MNIST Data\n",
        "# Dividing the data into train and test sets\n",
        "\n",
        "(x_train, y_train), (x_test, y_test) = mnist.load_data()"
      ],
      "metadata": {
        "colab": {
          "base_uri": "https://localhost:8080/"
        },
        "id": "13XCQ7EXLDja",
        "outputId": "017a7cbd-c501-41d2-f333-fb75a14ec5a2"
      },
      "execution_count": 2,
      "outputs": [
        {
          "output_type": "stream",
          "name": "stdout",
          "text": [
            "Downloading data from https://storage.googleapis.com/tensorflow/tf-keras-datasets/mnist.npz\n",
            "11490434/11490434 [==============================] - 0s 0us/step\n"
          ]
        }
      ]
    },
    {
      "cell_type": "code",
      "source": [
        "print(x_train.shape)"
      ],
      "metadata": {
        "colab": {
          "base_uri": "https://localhost:8080/"
        },
        "id": "7AcNwaxBLrr4",
        "outputId": "4a4d3840-cc4d-4af4-981c-56757a38225a"
      },
      "execution_count": 3,
      "outputs": [
        {
          "output_type": "stream",
          "name": "stdout",
          "text": [
            "(60000, 28, 28)\n"
          ]
        }
      ]
    },
    {
      "cell_type": "code",
      "source": [
        "print(x_test.shape)"
      ],
      "metadata": {
        "colab": {
          "base_uri": "https://localhost:8080/"
        },
        "id": "IvgLaahSL2-5",
        "outputId": "1857c01d-08f7-4b5b-e4cd-c6b9193c5bbf"
      },
      "execution_count": 4,
      "outputs": [
        {
          "output_type": "stream",
          "name": "stdout",
          "text": [
            "(10000, 28, 28)\n"
          ]
        }
      ]
    },
    {
      "cell_type": "code",
      "source": [
        "print(y_test.shape)"
      ],
      "metadata": {
        "colab": {
          "base_uri": "https://localhost:8080/"
        },
        "id": "5bepvAwxL7I6",
        "outputId": "baaebb2f-295a-4c85-a428-60231f0e0f90"
      },
      "execution_count": 5,
      "outputs": [
        {
          "output_type": "stream",
          "name": "stdout",
          "text": [
            "(10000,)\n"
          ]
        }
      ]
    },
    {
      "cell_type": "code",
      "source": [
        "# Plot the first 10 images using imshow()\n",
        "fig, axes = plt.subplots(ncols=10, sharex=False, sharey=True, figsize=(20, 4))\n",
        "# Loop through the first 10 images\n",
        "for i in range(10):\n",
        "    axes[i].set_title(y_train[i])\n",
        "    axes[i].imshow(x_train[i], cmap='gray')\n",
        "    axes[i].get_xaxis().set_visible(False)\n",
        "    axes[i].get_yaxis().set_visible(False)\n",
        "\n",
        "# Show the plot\n",
        "plt.show()"
      ],
      "metadata": {
        "colab": {
          "base_uri": "https://localhost:8080/",
          "height": 137
        },
        "id": "RY32fyL5L-3a",
        "outputId": "07592496-7675-49bc-b951-8c05fba885c6"
      },
      "execution_count": 6,
      "outputs": [
        {
          "output_type": "display_data",
          "data": {
            "text/plain": [
              "<Figure size 2000x400 with 10 Axes>"
            ],
            "image/png": "[encoded data removed]"
          },
          "metadata": {}
        }
      ]
    },
    {
      "cell_type": "code",
      "source": [
        "# Convert images to categorical format\n",
        "y_train = to_categorical(y_train)\n",
        "y_test = to_categorical(y_test)"
      ],
      "metadata": {
        "id": "TZEk9vg5MPUM"
      },
      "execution_count": 7,
      "outputs": []
    },
    {
      "cell_type": "code",
      "source": [
        "print(y_train)"
      ],
      "metadata": {
        "colab": {
          "base_uri": "https://localhost:8080/"
        },
        "id": "4U9-E5slMWWt",
        "outputId": "b9bcace8-cebe-4c8f-969f-c22c58838eb0"
      },
      "execution_count": 8,
      "outputs": [
        {
          "output_type": "stream",
          "name": "stdout",
          "text": [
            "[[0. 0. 0. ... 0. 0. 0.]\n",
            " [1. 0. 0. ... 0. 0. 0.]\n",
            " [0. 0. 0. ... 0. 0. 0.]\n",
            " ...\n",
            " [0. 0. 0. ... 0. 0. 0.]\n",
            " [0. 0. 0. ... 0. 0. 0.]\n",
            " [0. 0. 0. ... 0. 1. 0.]]\n"
          ]
        }
      ]
    },
    {
      "cell_type": "code",
      "source": [
        "# Create a sequential model\n",
        "model = Sequential()\n",
        "\n",
        "# Add a Flatten layer to convert the 28x28 input images into a 1D array\n",
        "model.add(Flatten(input_shape=(28, 28)))\n",
        "\n",
        "# Adding a Dense layer with 10 neurons\n",
        "model.add(Dense(10, activation='sigmoid'))\n",
        "\n",
        "# Adding another Dense layer with 5 neurons\n",
        "model.add(Dense(5, activation='sigmoid'))\n",
        "\n",
        "# Add the output layer with 10 neurons (one for each class) and 'softmax' activation function\n",
        "model.add(Dense(10, activation='softmax'))"
      ],
      "metadata": {
        "id": "yYQPqWOnMdTN"
      },
      "execution_count": 9,
      "outputs": []
    },
    {
      "cell_type": "code",
      "source": [
        "# model summary\n",
        "model.summary()"
      ],
      "metadata": {
        "colab": {
          "base_uri": "https://localhost:8080/"
        },
        "id": "3eL27HgiM075",
        "outputId": "b5215fba-a96b-4e2c-99c1-e829af6f3f57"
      },
      "execution_count": 10,
      "outputs": [
        {
          "output_type": "stream",
          "name": "stdout",
          "text": [
            "Model: \"sequential\"\n",
            "_________________________________________________________________\n",
            " Layer (type)                Output Shape              Param #   \n",
            "=================================================================\n",
            " flatten (Flatten)           (None, 784)               0         \n",
            "                                                                 \n",
            " dense (Dense)               (None, 10)                7850      \n",
            "                                                                 \n",
            " dense_1 (Dense)             (None, 5)                 55        \n",
            "                                                                 \n",
            " dense_2 (Dense)             (None, 10)                60        \n",
            "                                                                 \n",
            "=================================================================\n",
            "Total params: 7965 (31.11 KB)\n",
            "Trainable params: 7965 (31.11 KB)\n",
            "Non-trainable params: 0 (0.00 Byte)\n",
            "_________________________________________________________________\n"
          ]
        }
      ]
    },
    {
      "cell_type": "code",
      "source": [
        "# Plot the architecture of the model with its layer shapes\n",
        "utils.plot_model(model, show_shapes=True)"
      ],
      "metadata": {
        "colab": {
          "base_uri": "https://localhost:8080/",
          "height": 533
        },
        "id": "VLuQyvUtM9s3",
        "outputId": "0d5071dd-193d-4200-b386-86bcbc63caa6"
      },
      "execution_count": 11,
      "outputs": [
        {
          "output_type": "execute_result",
          "data": {
            "image/png": "[encoded data removed]",
            "text/plain": [
              "<IPython.core.display.Image object>"
            ]
          },
          "metadata": {},
          "execution_count": 11
        }
      ]
    },
    {
      "cell_type": "code",
      "source": [
        "# Compile the model\n",
        "model.compile(loss='categorical_crossentropy', optimizer='adam', metrics=['acc'])"
      ],
      "metadata": {
        "id": "8oriF9_SNGIB"
      },
      "execution_count": 12,
      "outputs": []
    },
    {
      "cell_type": "code",
      "source": [
        "# Fit the model with 20 epochs (as per your desktop configuration)\n",
        "model_fitting = model.fit(x_train, y_train, epochs=20, validation_data=(x_test, y_test))"
      ],
      "metadata": {
        "colab": {
          "base_uri": "https://localhost:8080/"
        },
        "id": "zE9nM0wlNNe0",
        "outputId": "2d1d9584-7174-4882-a191-7a98413c955c"
      },
      "execution_count": 13,
      "outputs": [
        {
          "output_type": "stream",
          "name": "stdout",
          "text": [
            "Epoch 1/20\n",
            "1875/1875 [==============================] - 8s 3ms/step - loss: 1.6961 - acc: 0.5211 - val_loss: 1.3043 - val_acc: 0.6421\n",
            "Epoch 2/20\n",
            "1875/1875 [==============================] - 4s 2ms/step - loss: 1.1207 - acc: 0.6725 - val_loss: 1.0053 - val_acc: 0.7111\n",
            "Epoch 3/20\n",
            "1875/1875 [==============================] - 6s 3ms/step - loss: 0.9248 - acc: 0.7242 - val_loss: 0.8548 - val_acc: 0.7542\n",
            "Epoch 4/20\n",
            "1875/1875 [==============================] - 5s 3ms/step - loss: 0.8342 - acc: 0.7532 - val_loss: 0.8026 - val_acc: 0.7612\n",
            "Epoch 5/20\n",
            "1875/1875 [==============================] - 4s 2ms/step - loss: 0.7920 - acc: 0.7597 - val_loss: 0.7193 - val_acc: 0.7893\n",
            "Epoch 6/20\n",
            "1875/1875 [==============================] - 6s 3ms/step - loss: 0.7643 - acc: 0.7768 - val_loss: 0.6894 - val_acc: 0.8102\n",
            "Epoch 7/20\n",
            "1875/1875 [==============================] - 4s 2ms/step - loss: 0.7291 - acc: 0.7866 - val_loss: 0.6826 - val_acc: 0.8191\n",
            "Epoch 8/20\n",
            "1875/1875 [==============================] - 5s 3ms/step - loss: 0.6965 - acc: 0.8094 - val_loss: 0.7080 - val_acc: 0.8082\n",
            "Epoch 9/20\n",
            "1875/1875 [==============================] - 5s 3ms/step - loss: 0.6923 - acc: 0.8111 - val_loss: 0.6358 - val_acc: 0.8266\n",
            "Epoch 10/20\n",
            "1875/1875 [==============================] - 4s 2ms/step - loss: 0.6515 - acc: 0.8238 - val_loss: 0.6164 - val_acc: 0.8306\n",
            "Epoch 11/20\n",
            "1875/1875 [==============================] - 6s 3ms/step - loss: 0.6556 - acc: 0.8221 - val_loss: 0.6027 - val_acc: 0.8327\n",
            "Epoch 12/20\n",
            "1875/1875 [==============================] - 4s 2ms/step - loss: 0.6499 - acc: 0.8219 - val_loss: 0.6533 - val_acc: 0.8226\n",
            "Epoch 13/20\n",
            "1875/1875 [==============================] - 4s 2ms/step - loss: 0.6476 - acc: 0.8250 - val_loss: 0.6176 - val_acc: 0.8367\n",
            "Epoch 14/20\n",
            "1875/1875 [==============================] - 6s 3ms/step - loss: 0.6208 - acc: 0.8364 - val_loss: 0.6011 - val_acc: 0.8343\n",
            "Epoch 15/20\n",
            "1875/1875 [==============================] - 4s 2ms/step - loss: 0.5993 - acc: 0.8399 - val_loss: 0.5882 - val_acc: 0.8466\n",
            "Epoch 16/20\n",
            "1875/1875 [==============================] - 5s 2ms/step - loss: 0.5910 - acc: 0.8457 - val_loss: 0.5684 - val_acc: 0.8540\n",
            "Epoch 17/20\n",
            "1875/1875 [==============================] - 6s 3ms/step - loss: 0.6092 - acc: 0.8362 - val_loss: 0.5808 - val_acc: 0.8513\n",
            "Epoch 18/20\n",
            "1875/1875 [==============================] - 4s 2ms/step - loss: 0.5868 - acc: 0.8452 - val_loss: 0.5486 - val_acc: 0.8571\n",
            "Epoch 19/20\n",
            "1875/1875 [==============================] - 5s 3ms/step - loss: 0.5954 - acc: 0.8392 - val_loss: 0.5455 - val_acc: 0.8577\n",
            "Epoch 20/20\n",
            "1875/1875 [==============================] - 6s 3ms/step - loss: 0.5745 - acc: 0.8461 - val_loss: 0.5788 - val_acc: 0.8404\n"
          ]
        }
      ]
    },
    {
      "cell_type": "code",
      "source": [
        "print(model_fitting.history)"
      ],
      "metadata": {
        "colab": {
          "base_uri": "https://localhost:8080/"
        },
        "id": "ZcqDIvCkOe9K",
        "outputId": "b292c8e4-834d-4840-9396-9110bf8432d5"
      },
      "execution_count": 16,
      "outputs": [
        {
          "output_type": "stream",
          "name": "stdout",
          "text": [
            "{'loss': [1.6960840225219727, 1.1206928491592407, 0.9248174428939819, 0.8341594338417053, 0.7920060157775879, 0.7643463015556335, 0.7291463613510132, 0.6964708566665649, 0.6923174262046814, 0.6515468955039978, 0.6555964350700378, 0.649884045124054, 0.647628664970398, 0.6208340525627136, 0.5992602705955505, 0.5910172462463379, 0.6092382073402405, 0.5867504477500916, 0.5954349040985107, 0.5745348930358887], 'acc': [0.5210666656494141, 0.6725166440010071, 0.7241666913032532, 0.7531999945640564, 0.7597000002861023, 0.7767500281333923, 0.7865999937057495, 0.8094333410263062, 0.8110666871070862, 0.8238333463668823, 0.8220999836921692, 0.8219333291053772, 0.8249833583831787, 0.8363500237464905, 0.8398500084877014, 0.8456500172615051, 0.8362166881561279, 0.8452000021934509, 0.8391500115394592, 0.8460999727249146], 'val_loss': [1.3043015003204346, 1.005259394645691, 0.8547852635383606, 0.8026421666145325, 0.7193217277526855, 0.6894388794898987, 0.6825958490371704, 0.7079904675483704, 0.6358212232589722, 0.6164421439170837, 0.6027210354804993, 0.653266191482544, 0.6175816655158997, 0.6011210680007935, 0.5882239937782288, 0.5684162974357605, 0.5807695388793945, 0.5486266613006592, 0.5455337166786194, 0.5788311958312988], 'val_acc': [0.6420999765396118, 0.7110999822616577, 0.7541999816894531, 0.7612000107765198, 0.7893000245094299, 0.8101999759674072, 0.819100022315979, 0.8082000017166138, 0.8266000151634216, 0.8306000232696533, 0.8327000141143799, 0.8226000070571899, 0.8367000222206116, 0.8342999815940857, 0.8465999960899353, 0.8539999723434448, 0.8513000011444092, 0.8571000099182129, 0.857699990272522, 0.840399980545044]}\n"
          ]
        }
      ]
    },
    {
      "cell_type": "code",
      "source": [
        "# Plot Training and Testing Loss\n",
        "\n",
        "# Plotting the Traning loss\n",
        "plt.plot(model_fitting.history['loss'], label='Training Loss')\n",
        "\n",
        "# Plotting the Testing loss\n",
        "plt.plot(model_fitting.history['val_loss'], label='Testing Loss')\n",
        "\n",
        "plt.legend()"
      ],
      "metadata": {
        "colab": {
          "base_uri": "https://localhost:8080/",
          "height": 447
        },
        "id": "MKN1yi2wNclj",
        "outputId": "1034faeb-7125-4f70-fb5c-37f921682281"
      },
      "execution_count": 18,
      "outputs": [
        {
          "output_type": "execute_result",
          "data": {
            "text/plain": [
              "<matplotlib.legend.Legend at 0x7ba862996260>"
            ]
          },
          "metadata": {},
          "execution_count": 18
        },
        {
          "output_type": "display_data",
          "data": {
            "text/plain": [
              "<Figure size 640x480 with 1 Axes>"
            ],
            "image/png": "[encoded data removed]"
          },
          "metadata": {}
        }
      ]
    },
    {
      "cell_type": "code",
      "source": [
        "# Save the model in .h5 extension\n",
        "model.save('mnist_model.h5')"
      ],
      "metadata": {
        "id": "tVOKiDQoOVvy"
      },
      "execution_count": 19,
      "outputs": []
    },
    {
      "cell_type": "code",
      "source": [
        "# Load the model\n",
        "import tensorflow as tf\n",
        "model = tf.keras.models.load_model('mnist_model.h5')"
      ],
      "metadata": {
        "id": "tr86Br2EPUpg"
      },
      "execution_count": 20,
      "outputs": []
    },
    {
      "cell_type": "code",
      "source": [
        "# Test the model\n",
        "# Displaying the image from test data\n",
        "plt.imshow(x_test[5], cmap='gray')"
      ],
      "metadata": {
        "colab": {
          "base_uri": "https://localhost:8080/",
          "height": 447
        },
        "id": "xf6pLTotPjDC",
        "outputId": "4a6f177c-693f-412f-f685-57827d7f207b"
      },
      "execution_count": 22,
      "outputs": [
        {
          "output_type": "execute_result",
          "data": {
            "text/plain": [
              "<matplotlib.image.AxesImage at 0x7ba8628e0940>"
            ]
          },
          "metadata": {},
          "execution_count": 22
        },
        {
          "output_type": "display_data",
          "data": {
            "text/plain": [
              "<Figure size 640x480 with 1 Axes>"
            ],
            "image/png": "[encoded data removed]"
          },
          "metadata": {}
        }
      ]
    },
    {
      "cell_type": "code",
      "source": [
        "import numpy as np\n",
        "\n",
        "x = np.reshape(x_test[5], (1, 28, 28))\n",
        "\n",
        "# Using the trained model to predict the class label for the input image\n",
        "predicted_label = np.argmax(model.predict(x))\n",
        "\n",
        "# Printing the predicted class label\n",
        "print(predicted_label)"
      ],
      "metadata": {
        "colab": {
          "base_uri": "https://localhost:8080/"
        },
        "id": "XveEwwRUPxsT",
        "outputId": "80caef0a-7e99-4193-b8a5-f646bf8f350f"
      },
      "execution_count": 23,
      "outputs": [
        {
          "output_type": "stream",
          "name": "stdout",
          "text": [
            "1/1 [==============================] - 0s 189ms/step\n",
            "1\n"
          ]
        }
      ]
    },
    {
      "cell_type": "code",
      "source": [],
      "metadata": {
        "id": "26J-VPT_QHgw"
      },
      "execution_count": null,
      "outputs": []
    }
  ]
}